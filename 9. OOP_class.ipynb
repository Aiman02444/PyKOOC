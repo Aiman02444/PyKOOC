{
 "cells": [
  {
   "cell_type": "markdown",
   "id": "d3fe4535",
   "metadata": {},
   "source": [
    "# Object Oriented Programming : Class\n",
    "- 클래스를 만들어야 하는 이유?\n",
    "\n",
    "매 object마다 코딩을 할 필요가 없어진다!\n",
    "많은 object는 관련성이 존재하는데, 그러한 공통분모를 형성해놓는다면 상위 object를 상황에 맞게 변형시켜 사용할 수 있기 때문에 훨씬효율적이다!\n",
    "가장 원시적인, 상위class를 만들고, 이후 이후 상속(inherit)을 통해 하위에서 구체화를 한다.\n",
    "\n",
    "클래스는 코딩능력의 마지막 관문, 클래스를 얼마나 잘 만드느냐가 코딩실력을 드러낸다!\n",
    "큰 설계를 하려면 클래스를 잘 사용해야 한다(추상->구체화)\n",
    "\n",
    "넘파이도, 판다스도 결국은 클래스이다. 클래스에서 제공하는 메서드만 불러다 쓰는 것일 뿐!\n",
    "\n",
    "클래스는 모든 코딩의 시작점! 클래스는 중요하다!\n",
    "\n"
   ]
  },
  {
   "cell_type": "markdown",
   "id": "2361f61a",
   "metadata": {},
   "source": [
    "- class는 크게 상태(state)와 기능(function)이 존재한다\n",
    "- function은 method라고도 쓰인다\n",
    "- class를 통해 특정 object를 만들어낸다\n",
    "- 클래스를 만들고 사용하자!"
   ]
  },
  {
   "cell_type": "markdown",
   "id": "ff4a98b6",
   "metadata": {},
   "source": [
    "__1. Creating own classes__\n",
    "- 사칙연산 클래스 만들기"
   ]
  },
  {
   "cell_type": "code",
   "execution_count": 39,
   "id": "efab3be5",
   "metadata": {},
   "outputs": [],
   "source": [
    "#fourcalculation.py\n",
    "\"\"\"A class for four arithmetic calculations\"\"\" #설명\n",
    "\n",
    "class FourCalculation: \n",
    "    #클래스는 대문자로 시작, 단어와 단어는 대문자로 구분, 나머지는 소문자\n",
    "    \"\"\"A class for four arithmetic calculation\"\"\"\n",
    "    #docstring을 통해 clas를 정의하고 시작한다\n",
    "\n",
    "    def __init__(self, first, second): #모든 클래스의 시작(initialize)\n",
    "        #__init__(self, 변수1, 변수2)에서 class의 method를 불러올 때 \n",
    "        #self가 자동적으로 전달되게 하기 위해 self는 꼭 써야 한다.\n",
    "        self.first = first\n",
    "        self.second = second #로컬변수로 만들어 사용한다\n",
    "        \n",
    "#        if second == 0:\n",
    "#            raise ValueError('the number must NOT be zero')\n",
    "        #exception, 어떤 해서는 안될 일이 발생할 때 미연에 방지하기 위함\n",
    "        \n",
    "    def add(self): #새로운 method를 내가 만들어준다!\n",
    "        return self.first + self.second #내부변수의 활용\n",
    "        \n",
    "    def mul(self):\n",
    "        return self.first * self.second\n",
    "    \n",
    "    def sub(self):\n",
    "        return self.first - self.second\n",
    "    \n",
    "    def div(self):\n",
    "        return self.first / self.second\n",
    "    \n",
    "#%save fourcalculation.py 1-24 #라인 1~24를 fourcalculation.py의 이름으로 저장해라 \n",
    "#%save == percent magic, 기능을 저장할 때 사용한다"
   ]
  },
  {
   "cell_type": "code",
   "execution_count": 33,
   "id": "4ee05b7e",
   "metadata": {},
   "outputs": [
    {
     "name": "stdout",
     "output_type": "stream",
     "text": [
      "8 2\n",
      "10 16 6 4.0\n"
     ]
    }
   ],
   "source": [
    "#from fourcalculation import FourCalculation\n",
    "#import fourcalculation as fc\n",
    "#b = FourCalculation(8,2)\n",
    "b = fc.FourCalculation(8,2)\n",
    "print(b.first, b.second)\n",
    "print(b.add(),b.mul(),b.sub(),b.div())"
   ]
  },
  {
   "cell_type": "markdown",
   "id": "58b1400d",
   "metadata": {},
   "source": [
    "__2. Class inheritance and overriding methods__\n",
    "- inheritance(상속)\n",
    "- overriding(덮어쓰기, 변형)"
   ]
  },
  {
   "cell_type": "code",
   "execution_count": 40,
   "id": "c681d700",
   "metadata": {},
   "outputs": [],
   "source": [
    "#Class inheritance : adding and details\n",
    "#from fourcalculation import FourCalculation\n",
    "\n",
    "class FiveCalculation(FourCalculation): #상단의 슈퍼클래스를 변수로 삽입\n",
    "    \"\"\"Adding power calculation\"\"\"\n",
    "    \n",
    "    def __init__(self, first, second, third): #서브클래스에도 이닛, 변수설정\n",
    "        super().__init__(first, second) #상위클래스의 이닛\n",
    "        self.third = third\n",
    "    \n",
    "    def pow(self): #새로운 메서드 추가\n",
    "        return self.first ** self.second + self.third\n",
    "    \n",
    "    def div(self):\n",
    "        if self.second == 0: #에러가 생기지 않도록 덮어쓰기\n",
    "            return 0\n",
    "        else:\n",
    "            return self.first/self.second"
   ]
  },
  {
   "cell_type": "code",
   "execution_count": 41,
   "id": "fbd41dba",
   "metadata": {},
   "outputs": [
    {
     "name": "stdout",
     "output_type": "stream",
     "text": [
      "4 4 4\n"
     ]
    }
   ],
   "source": [
    "c = FiveCalculation(4,0,3)\n",
    "print(c.pow(),c.add(),c.sub())"
   ]
  },
  {
   "cell_type": "code",
   "execution_count": 45,
   "id": "86866c76",
   "metadata": {},
   "outputs": [],
   "source": [
    "class Person:\n",
    "    \n",
    "    def __init__(self, first, last):\n",
    "        self.firstname = first\n",
    "        self.lastname = last\n",
    "        \n",
    "    def Name(self):\n",
    "        return self.firstname + \" \" + self.lastname\n",
    "    \n",
    "class Employee(Person):\n",
    "    \n",
    "    def __init__(self, first, last, staffnum):\n",
    "        Person.__init__(self, first, last)\n",
    "        self.staffnumber = staffnum #넘버까지 찍는 하위클래스\n",
    "        \n",
    "    def GetEmployee(self):\n",
    "        return self.Name() + \",\" + self.staffnumber"
   ]
  },
  {
   "cell_type": "code",
   "execution_count": 46,
   "id": "92b8c257",
   "metadata": {},
   "outputs": [
    {
     "name": "stdout",
     "output_type": "stream",
     "text": [
      "Youngsun Kwon\n"
     ]
    }
   ],
   "source": [
    "x = Person(\"Youngsun\", \"Kwon\")\n",
    "print(x.Name())"
   ]
  },
  {
   "cell_type": "code",
   "execution_count": 47,
   "id": "bddf1c27",
   "metadata": {},
   "outputs": [
    {
     "name": "stdout",
     "output_type": "stream",
     "text": [
      "Youngsun Kwon,1234\n"
     ]
    }
   ],
   "source": [
    "y = Employee(\"Youngsun\",\"Kwon\",\"1234\")\n",
    "print(y.GetEmployee())"
   ]
  },
  {
   "cell_type": "code",
   "execution_count": null,
   "id": "8b841ddd",
   "metadata": {},
   "outputs": [],
   "source": []
  },
  {
   "cell_type": "code",
   "execution_count": null,
   "id": "28ad6ac3",
   "metadata": {},
   "outputs": [],
   "source": []
  },
  {
   "cell_type": "code",
   "execution_count": null,
   "id": "c482cebe",
   "metadata": {},
   "outputs": [],
   "source": []
  }
 ],
 "metadata": {
  "kernelspec": {
   "display_name": "Python 3",
   "language": "python",
   "name": "python3"
  },
  "language_info": {
   "codemirror_mode": {
    "name": "ipython",
    "version": 3
   },
   "file_extension": ".py",
   "mimetype": "text/x-python",
   "name": "python",
   "nbconvert_exporter": "python",
   "pygments_lexer": "ipython3",
   "version": "3.8.8"
  }
 },
 "nbformat": 4,
 "nbformat_minor": 5
}
