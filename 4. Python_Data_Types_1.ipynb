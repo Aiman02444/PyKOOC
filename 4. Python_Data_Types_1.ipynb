{
 "cells": [
  {
   "cell_type": "markdown",
   "id": "d17e6192",
   "metadata": {},
   "source": [
    "# Python: Lists and Tuples\n",
    "- \"Lists, tuples and stirings are sequences\" (consecutive data) in Python Standards.\n",
    "- Arguments(elements) are consecutive and have \"index starting from zero.\""
   ]
  },
  {
   "cell_type": "markdown",
   "id": "f5dd9484",
   "metadata": {},
   "source": [
    "__1. Lists:concept, indexing, and slicing__\n",
    "- Lists typically store homogeneous data in order. 같은 성격의 데이터 타입\n",
    "- However, they can store heterogeneous data and mutable(modifiable) 숫자, 문자 등 모두 담을 수 있고 변경가능하다. <=> 튜플은 변경불가\n",
    "- Lists are denoted by square bracket [ ], inwhich data items(elements) are put.\n",
    "- A list's index for elements starts from zero. 파이썬의 모든 index는 0부터 시작한다"
   ]
  },
  {
   "cell_type": "code",
   "execution_count": 2,
   "id": "01588076",
   "metadata": {
    "scrolled": true
   },
   "outputs": [
    {
     "name": "stdout",
     "output_type": "stream",
     "text": [
      "<class 'list'> [1, 2, 3, 4, 5, 6, 11, 'a', 'b']\n"
     ]
    }
   ],
   "source": [
    "list1 = [1, 2, 3,4,5, 6, 11, 'a', 'b']\n",
    "print(type(list1), list1)\n",
    "#여백을 넣어도, 그냥 넣어도, 숫자도 문자도 모두 구분되어 출력된다"
   ]
  },
  {
   "cell_type": "code",
   "execution_count": 5,
   "id": "c58c0a9f",
   "metadata": {},
   "outputs": [
    {
     "name": "stdout",
     "output_type": "stream",
     "text": [
      "2 a\n",
      "[3, 4, 5]\n",
      "[1, 2, 3, 4, 5, 6, 11]\n",
      "[5, 6, 11, 'a', 'b']\n",
      "b\n",
      "[6, 11, 'a', 'b']\n",
      "[4, 5, 6, 11, 'a', 'b']\n"
     ]
    }
   ],
   "source": [
    "print(list1[1], list1[7])\n",
    "print(list1[2:5])\n",
    "print(list1[:7])\n",
    "print(list1[4:]) #4부터 쭉\n",
    "print(list1[-1]) #맨 뒤에서부터\n",
    "print(list1[-4:]) #-1부터 -4까지\n",
    "print(list1[1+2:]) #사칙연산도 가능\n",
    "#리스트의 인덱스를 이용한 슬라이싱을 통해 부분부분 데이터를 추출하자"
   ]
  },
  {
   "cell_type": "code",
   "execution_count": 6,
   "id": "e5e9800a",
   "metadata": {},
   "outputs": [
    {
     "data": {
      "text/plain": [
       "9"
      ]
     },
     "execution_count": 6,
     "metadata": {},
     "output_type": "execute_result"
    }
   ],
   "source": [
    "len(list1)"
   ]
  },
  {
   "cell_type": "code",
   "execution_count": 10,
   "id": "0fdad57f",
   "metadata": {},
   "outputs": [
    {
     "name": "stdout",
     "output_type": "stream",
     "text": [
      "[1, 2, 3, 4, 5, 6, 'c', 'a', 'b']\n"
     ]
    }
   ],
   "source": [
    "list1[6] = 'c'\n",
    "print(list1)"
   ]
  },
  {
   "cell_type": "code",
   "execution_count": 12,
   "id": "53e0886a",
   "metadata": {},
   "outputs": [
    {
     "ename": "IndexError",
     "evalue": "list index out of range",
     "output_type": "error",
     "traceback": [
      "\u001b[1;31m---------------------------------------------------------------------------\u001b[0m",
      "\u001b[1;31mIndexError\u001b[0m                                Traceback (most recent call last)",
      "\u001b[1;32m<ipython-input-12-b4580dc93e43>\u001b[0m in \u001b[0;36m<module>\u001b[1;34m\u001b[0m\n\u001b[1;32m----> 1\u001b[1;33m \u001b[0mlist1\u001b[0m\u001b[1;33m[\u001b[0m\u001b[1;36m9\u001b[0m\u001b[1;33m]\u001b[0m\u001b[1;33m\u001b[0m\u001b[1;33m\u001b[0m\u001b[0m\n\u001b[0m\u001b[0;32m      2\u001b[0m \u001b[1;31m#\u001b[0m\u001b[1;33m\u001b[0m\u001b[1;33m\u001b[0m\u001b[1;33m\u001b[0m\u001b[0m\n",
      "\u001b[1;31mIndexError\u001b[0m: list index out of range"
     ]
    }
   ],
   "source": [
    "list1[9]\n",
    "#없는 리스트 출력시 'lsti index out of range'"
   ]
  },
  {
   "cell_type": "code",
   "execution_count": 13,
   "id": "39879ba2",
   "metadata": {},
   "outputs": [
    {
     "name": "stdout",
     "output_type": "stream",
     "text": [
      "[11, 12, 13]\n"
     ]
    }
   ],
   "source": [
    "list2 = []\n",
    "for item in range(11, 14, 1):\n",
    "    list2 += [item]\n",
    "#   list2.append(item)    \n",
    "print(list2)"
   ]
  },
  {
   "cell_type": "code",
   "execution_count": 14,
   "id": "68b1b97f",
   "metadata": {},
   "outputs": [
    {
     "name": "stdout",
     "output_type": "stream",
     "text": [
      "[11, 12, 13]\n"
     ]
    }
   ],
   "source": [
    "list2 = []\n",
    "for item in range(11, 14, 1):\n",
    "#    list2 += [item]\n",
    "    list2.append(item) #이런식으로 추가도 가능\n",
    "print(list2)"
   ]
  },
  {
   "cell_type": "code",
   "execution_count": 17,
   "id": "7e8a737e",
   "metadata": {},
   "outputs": [
    {
     "name": "stdout",
     "output_type": "stream",
     "text": [
      "['P', 'y', 't', 'h', 'o', 'n', ' ', 'K', 'o', 'o', 'c'] 11\n",
      "['P', 'y', 't', 'h', 'o', 'n', ' ', 'K', 'o', 'o', 'c', 'M', 'O', 'O', 'C'] 15\n"
     ]
    }
   ],
   "source": [
    "list3 = []\n",
    "list3 += 'Python Kooc'\n",
    "print(list3, len(list3))\n",
    "\n",
    "list3 += ('M','O','O','C') # <<< 튜플로도 추가 가능, 튜플은 변경 불가\n",
    "print(list3, len(list3))"
   ]
  },
  {
   "cell_type": "code",
   "execution_count": 18,
   "id": "e23f7ee4",
   "metadata": {},
   "outputs": [
    {
     "name": "stdout",
     "output_type": "stream",
     "text": [
      "[1, 2, 3, 4, 5, 6, 'c', 'a', 'b', 11, 12, 13]\n"
     ]
    }
   ],
   "source": [
    "list12 = list1 + list2\n",
    "print(list12) #리스트간 결합"
   ]
  },
  {
   "cell_type": "code",
   "execution_count": 20,
   "id": "c9f95cb0",
   "metadata": {},
   "outputs": [
    {
     "name": "stdout",
     "output_type": "stream",
     "text": [
      "(0, 1) (1, 2) (2, 3) (3, 4) (4, 5) (5, 6) (6, c) (7, a) (8, b) (9, 11) (10, 12) (11, 13) "
     ]
    }
   ],
   "source": [
    "for i in range(len(list12)):\n",
    "    print(f'({i}, {list12[i]})', end = ' ')"
   ]
  },
  {
   "cell_type": "markdown",
   "id": "5af8a5ae",
   "metadata": {},
   "source": [
    "__2. Tuples\n",
    "- Immutable and typically store heterogeneous data. 변경불가\n",
    "- So, datasets are often stored as tuples.\n",
    "- Tuples are denoted by parenthesis( ), in which data are put. 괄호안에 넣어준다"
   ]
  },
  {
   "cell_type": "code",
   "execution_count": 21,
   "id": "ee62c02d",
   "metadata": {},
   "outputs": [
    {
     "name": "stdout",
     "output_type": "stream",
     "text": [
      "(10, 20, 30, 'John', 40, 50)\n"
     ]
    }
   ],
   "source": [
    "t1 = 10, 20, 30, 'John'\n",
    "t1 += (40, 50)\n",
    "print(t1)"
   ]
  },
  {
   "cell_type": "code",
   "execution_count": 22,
   "id": "9382dc48",
   "metadata": {},
   "outputs": [
    {
     "name": "stdout",
     "output_type": "stream",
     "text": [
      "(1, 2, 3, 4)\n",
      "3\n",
      "(1, 2, 3)\n"
     ]
    }
   ],
   "source": [
    "t2 = tuple([1, 2, 3, 4]) #리스트를 튜플이 갖고있는 경우, 인덱스로 활용 가능\n",
    "print(t2)\n",
    "print(t2[2])\n",
    "print(t2[:3])"
   ]
  },
  {
   "cell_type": "code",
   "execution_count": 23,
   "id": "6195a449",
   "metadata": {},
   "outputs": [
    {
     "name": "stdout",
     "output_type": "stream",
     "text": [
      "('Kim', 'Park', 'Kwon', [80, 90, 100]) 4 [80, 90, 100]\n",
      "('Kim', 'Park', 'Kwon', [80, 85, 100])\n"
     ]
    }
   ],
   "source": [
    "t3 = 'Kim', 'Park', 'Kwon', [80, 90, 100] #튜플의 인덱스(길이)는 4개, 리스트가 하나의 인덱스로 활용\n",
    "print(t3, len(t3), t3[3])\n",
    "t3[3][1] = 85 #튜플 안에 있는 리스트 내의 인덱슬르 뽑아내고 변경하기 위한 방법\n",
    "print(t3)"
   ]
  },
  {
   "cell_type": "code",
   "execution_count": 29,
   "id": "d7ba76d4",
   "metadata": {},
   "outputs": [
    {
     "name": "stdout",
     "output_type": "stream",
     "text": [
      "2\n",
      "('Kim', 'Park', 'Kwon') [80, 90, 100] <class 'tuple'> <class 'list'>\n",
      "80 90 100\n",
      "W I F I\n"
     ]
    }
   ],
   "source": [
    "#Tuple의 Unpacking 기능 == 구성요소를 뽑아낸다 ! 가방을 열어 끄집어 낸다.\n",
    "t4 = (('Kim', 'Park', 'Kwon'), [80, 90, 100]) #튜플 내 두개의 인자, 또하나의 튜플이 또 들어있다.\n",
    "print(len(t4)) #그래서 2개\n",
    "last_name, grades = t4 #두 개의 인자에 성과 성적을 할당한다.\n",
    "print(last_name, grades, type(last_name), type(grades)) #새로운 오브젝트 만듬\n",
    "\n",
    "grade1, grade2, grade3 = grades\n",
    "print(grade1, grade2, grade3)\n",
    "#파이썬에서 모든 sequence는 unpacking이 가능하다\n",
    "\n",
    "first, second, third, fourth = 'WIFI'\n",
    "print(first, second, third, fourth)\n",
    "\n",
    "#그럼에도 불구하고 튜플을 자주 사용하지 않는 이유? \n",
    "#변경이 불가능하거나, 는 변경을 위해 튜플의 일부를 리스트로 설정해주어야하기 떄문!"
   ]
  },
  {
   "cell_type": "code",
   "execution_count": 32,
   "id": "754381d4",
   "metadata": {},
   "outputs": [
    {
     "name": "stdout",
     "output_type": "stream",
     "text": [
      "[(0, 'red'), (1, 'yellow'), (2, 'blue'), (3, 'black'), (4, 'white')]\n",
      "((0, 'red'), (1, 'yellow'), (2, 'blue'), (3, 'black'), (4, 'white'))\n",
      "0: red\n",
      "1: yellow\n",
      "2: blue\n",
      "3: black\n",
      "4: white\n"
     ]
    }
   ],
   "source": [
    "colors = ['red','yellow','blue','black','white']\n",
    "print(list(enumerate(colors)))\n",
    "print(tuple(enumerate(colors)))\n",
    "#enumerate은 for반복문을 사용하지 않고 인덱스와 값을 뽑아낸다\n",
    "\n",
    "for index, color in enumerate(colors):\n",
    "    print(f'{index}: {color}')"
   ]
  },
  {
   "cell_type": "code",
   "execution_count": 38,
   "id": "4f0daf40",
   "metadata": {},
   "outputs": [
    {
     "name": "stdout",
     "output_type": "stream",
     "text": [
      "Creating a bar chart:\n",
      "Index   Value   bar\n",
      "    0      19   *******************\n",
      "    1       8   ********\n",
      "    2      15   ***************\n",
      "    3       7   *******\n",
      "    4      11   ***********\n"
     ]
    }
   ],
   "source": [
    "bar = [19, 8, 15, 7, 11]\n",
    "print('Creating a bar chart:')\n",
    "print(f'Index{\"Value\":>8}   bar')\n",
    "for index, value in enumerate(bar):\n",
    "    print(f'{index:>5}{value:>8}   {\"*\"*value}')\n",
    "#enumerate와 f-string의 조화, 예쁘게 출력"
   ]
  },
  {
   "cell_type": "markdown",
   "id": "417b5e2e",
   "metadata": {},
   "source": [
    "__5. Slicing with steps and modifying list with slicing__"
   ]
  },
  {
   "cell_type": "code",
   "execution_count": 39,
   "id": "7a681261",
   "metadata": {},
   "outputs": [
    {
     "name": "stdout",
     "output_type": "stream",
     "text": [
      "[1, 2, 3, 4, 5, 6, 'c', 'a', 'b', 11, 12, 13] 12\n",
      "[1, 2, 3, 4, 5, 6, 'c', 'a', 'b', 11, 12, 13]\n",
      "[1, 3, 5, 'c', 'b', 12]\n"
     ]
    }
   ],
   "source": [
    "print(list12, len(list12))\n",
    "print(list12[:])\n",
    "print(list12[::2]) #처음은 시작, 두번재는 끝, 마지막은 증분, 즉 2개씩 출력"
   ]
  },
  {
   "cell_type": "code",
   "execution_count": 40,
   "id": "26b81f8d",
   "metadata": {},
   "outputs": [
    {
     "name": "stdout",
     "output_type": "stream",
     "text": [
      "['one', 'two', 'three', 4, 5, 6, 'c', 'a', 'b', 11, 12, 13]\n",
      "[4, 5, 6, 'c', 'a', 'b', 11, 12, 13]\n"
     ]
    }
   ],
   "source": [
    "list12[0:3] = ['one','two','three']\n",
    "print(list12)\n",
    "list12[0:3] = [] #지워버려라\n",
    "print(list12)"
   ]
  },
  {
   "cell_type": "markdown",
   "id": "089f189c",
   "metadata": {},
   "source": [
    "__6. Deleting elements and lists__"
   ]
  },
  {
   "cell_type": "code",
   "execution_count": 43,
   "id": "c2a71d58",
   "metadata": {},
   "outputs": [
    {
     "ename": "IndexError",
     "evalue": "list assignment index out of range",
     "output_type": "error",
     "traceback": [
      "\u001b[1;31m---------------------------------------------------------------------------\u001b[0m",
      "\u001b[1;31mIndexError\u001b[0m                                Traceback (most recent call last)",
      "\u001b[1;32m<ipython-input-43-754edc364562>\u001b[0m in \u001b[0;36m<module>\u001b[1;34m\u001b[0m\n\u001b[1;32m----> 1\u001b[1;33m \u001b[1;32mdel\u001b[0m \u001b[0mlist12\u001b[0m\u001b[1;33m[\u001b[0m\u001b[1;33m-\u001b[0m\u001b[1;36m1\u001b[0m\u001b[1;33m]\u001b[0m \u001b[1;31m#맨 마지막을 '지워라'\u001b[0m\u001b[1;33m\u001b[0m\u001b[1;33m\u001b[0m\u001b[0m\n\u001b[0m\u001b[0;32m      2\u001b[0m \u001b[0mprint\u001b[0m\u001b[1;33m(\u001b[0m\u001b[0mlist12\u001b[0m\u001b[1;33m)\u001b[0m\u001b[1;33m\u001b[0m\u001b[1;33m\u001b[0m\u001b[0m\n\u001b[0;32m      3\u001b[0m \u001b[1;32mdel\u001b[0m \u001b[0mlist12\u001b[0m\u001b[1;33m[\u001b[0m\u001b[1;33m:\u001b[0m\u001b[1;33m:\u001b[0m\u001b[1;36m2\u001b[0m\u001b[1;33m]\u001b[0m \u001b[1;31m# 2개간격으로 지워라\u001b[0m\u001b[1;33m\u001b[0m\u001b[1;33m\u001b[0m\u001b[0m\n\u001b[0;32m      4\u001b[0m \u001b[0mprint\u001b[0m\u001b[1;33m(\u001b[0m\u001b[0mlist12\u001b[0m\u001b[1;33m)\u001b[0m\u001b[1;33m\u001b[0m\u001b[1;33m\u001b[0m\u001b[0m\n\u001b[0;32m      5\u001b[0m \u001b[1;32mdel\u001b[0m \u001b[0mlist12\u001b[0m\u001b[1;33m[\u001b[0m\u001b[1;33m:\u001b[0m\u001b[1;33m]\u001b[0m \u001b[1;31m# 다 지워라\u001b[0m\u001b[1;33m\u001b[0m\u001b[1;33m\u001b[0m\u001b[0m\n",
      "\u001b[1;31mIndexError\u001b[0m: list assignment index out of range"
     ]
    }
   ],
   "source": [
    "del list12[-1] #맨 마지막을 '지워라'\n",
    "print(list12)\n",
    "del list12[::2] # 2개간격으로 지워라\n",
    "print(list12)\n",
    "del list12[:] # 다 지워라\n",
    "print(list12)"
   ]
  },
  {
   "cell_type": "code",
   "execution_count": 44,
   "id": "bfb2db2a",
   "metadata": {
    "scrolled": true
   },
   "outputs": [
    {
     "ename": "NameError",
     "evalue": "name 'bar' is not defined",
     "output_type": "error",
     "traceback": [
      "\u001b[1;31m---------------------------------------------------------------------------\u001b[0m",
      "\u001b[1;31mNameError\u001b[0m                                 Traceback (most recent call last)",
      "\u001b[1;32m<ipython-input-44-e15d17fda61e>\u001b[0m in \u001b[0;36m<module>\u001b[1;34m\u001b[0m\n\u001b[1;32m----> 1\u001b[1;33m \u001b[0mprint\u001b[0m\u001b[1;33m(\u001b[0m\u001b[0mbar\u001b[0m\u001b[1;33m)\u001b[0m\u001b[1;33m\u001b[0m\u001b[1;33m\u001b[0m\u001b[0m\n\u001b[0m\u001b[0;32m      2\u001b[0m \u001b[1;32mdel\u001b[0m \u001b[0mbar\u001b[0m \u001b[1;31m#리스트 자체를 지워버림\u001b[0m\u001b[1;33m\u001b[0m\u001b[1;33m\u001b[0m\u001b[0m\n\u001b[0;32m      3\u001b[0m \u001b[0mprint\u001b[0m\u001b[1;33m(\u001b[0m\u001b[0mbar\u001b[0m\u001b[1;33m)\u001b[0m \u001b[1;31m#없으니까 에러남\u001b[0m\u001b[1;33m\u001b[0m\u001b[1;33m\u001b[0m\u001b[0m\n",
      "\u001b[1;31mNameError\u001b[0m: name 'bar' is not defined"
     ]
    }
   ],
   "source": [
    "print(bar)\n",
    "del bar #리스트 자체를 지워버림\n",
    "print(bar) #없으니까 에러남"
   ]
  },
  {
   "cell_type": "markdown",
   "id": "1f0ac102",
   "metadata": {},
   "source": [
    "__7. Sorting lists with sorting method__"
   ]
  },
  {
   "cell_type": "code",
   "execution_count": 45,
   "id": "d351a0f3",
   "metadata": {},
   "outputs": [
    {
     "data": {
      "text/plain": [
       "[1, 2, 3, 4, 5, 6, 7, 8, 9, 11, 15]"
      ]
     },
     "execution_count": 45,
     "metadata": {},
     "output_type": "execute_result"
    }
   ],
   "source": [
    "numbers = [7, 2, 5, 4, 3, 6, 1, 9, 8, 15, 11]\n",
    "numbers.sort() #오름차순으로 정렬\n",
    "numbers"
   ]
  },
  {
   "cell_type": "code",
   "execution_count": 47,
   "id": "adaa8991",
   "metadata": {},
   "outputs": [
    {
     "name": "stdout",
     "output_type": "stream",
     "text": [
      "[15, 11, 9, 8, 7, 6, 5, 4, 3, 2, 1]\n",
      "[1, 2, 3, 4, 5, 6, 7, 8, 9, 11, 15]\n"
     ]
    }
   ],
   "source": [
    "numbers = [7, 2, 5, 4, 3, 6, 1, 9, 8, 15, 11]\n",
    "numbers.sort(reverse = True) #내림차순으로 정렬\n",
    "print(numbers)\n",
    "numbers.reverse() #뒤집기\n",
    "print(numbers)"
   ]
  },
  {
   "cell_type": "code",
   "execution_count": 73,
   "id": "94e8c77e",
   "metadata": {},
   "outputs": [
    {
     "name": "stdout",
     "output_type": "stream",
     "text": [
      "['I', 'love', 'you,', 'and', 'do', 'you', 'love', 'me?'] <class 'list'>\n",
      "['I', 'do', 'and', 'you', 'me?', 'love', 'you,', 'love'] <class 'list'>\n",
      "['I', 'and', 'do', 'love', 'love', 'me?', 'you', 'you,']\n"
     ]
    }
   ],
   "source": [
    "a_string = 'I love you, and do you love me?'\n",
    "a_string = a_string.split()\n",
    "print(a_string, type(a_string))\n",
    "a_string.sort(key=len) #길이순으로 정렬\n",
    "print(a_string, type(a_string))\n",
    "b_string = sorted(a_string) #알파벳 순으로 정렬(대문자, 소문자abcd,,,)\n",
    "print(b_string)"
   ]
  },
  {
   "cell_type": "code",
   "execution_count": 74,
   "id": "d32fc648",
   "metadata": {},
   "outputs": [
    {
     "name": "stdout",
     "output_type": "stream",
     "text": [
      "[7, 2, 5, 4, 3, 6, 1, 9, 8, 15, 11]\n",
      "[1, 2, 3, 4, 5, 6, 7, 8, 9, 11, 15]\n",
      "[11, 15, 8, 9, 1, 6, 3, 4, 5, 2, 7]\n",
      "[7, 2, 5, 4, 3, 6, 1, 9, 8, 15, 11]\n"
     ]
    }
   ],
   "source": [
    "x = [7, 2, 5, 4, 3, 6, 1, 9, 8, 15, 11]\n",
    "y = sorted(x)\n",
    "z = reversed(x)\n",
    "print(x) #정렬안된 x\n",
    "print(y) #정렬된 y\n",
    "print(list(z)) #뒤집은 x가 들어간 리스트\n",
    "print(x) #x는 그대로 있다"
   ]
  },
  {
   "cell_type": "markdown",
   "id": "d66d1512",
   "metadata": {},
   "source": [
    "__8. Searching elements and useful list methods__"
   ]
  },
  {
   "cell_type": "code",
   "execution_count": 75,
   "id": "9385a186",
   "metadata": {},
   "outputs": [
    {
     "name": "stdout",
     "output_type": "stream",
     "text": [
      "4\n",
      "False\n",
      "True\n",
      "False\n"
     ]
    }
   ],
   "source": [
    "print(x.index(3))\n",
    "print(12 in x) #있냐? ㄴㄴ없다(false)\n",
    "print(12 not in x) #없냐? ㅇㅇ없다(true)\n",
    "print('Love' in a_string)"
   ]
  },
  {
   "cell_type": "code",
   "execution_count": 76,
   "id": "dea53ea2",
   "metadata": {},
   "outputs": [
    {
     "name": "stdout",
     "output_type": "stream",
     "text": [
      "['I', 'do', 'and', 'you', 'me?', 'love', 'you,', 'love']\n",
      "['I', 'do', 'and', 'him', 'you', 'me?', 'love', 'you,', 'love']\n"
     ]
    }
   ],
   "source": [
    "print(a_string)\n",
    "a_string.insert(3, 'him') #3번 인덱스에 'him'을 넣어라\n",
    "print(a_string)"
   ]
  },
  {
   "cell_type": "code",
   "execution_count": 77,
   "id": "326c4658",
   "metadata": {},
   "outputs": [
    {
     "name": "stdout",
     "output_type": "stream",
     "text": [
      "['I', 'do', 'and', 'him', 'you', 'me?', 'love', 'you,', 'love', 'hate']\n",
      "['I', 'do', 'and', 'you', 'me?', 'love', 'you,', 'love', 'hate']\n"
     ]
    }
   ],
   "source": [
    "a_string.append('hate') #추가\n",
    "print(a_string)\n",
    "a_string.remove('him') #제거\n",
    "print(a_string)"
   ]
  },
  {
   "cell_type": "code",
   "execution_count": 78,
   "id": "67aafd91",
   "metadata": {},
   "outputs": [
    {
     "name": "stdout",
     "output_type": "stream",
     "text": [
      "['I', 'do', 'and', 'you', 'me?', 'love', 'you,', 'love', 'hate', 'I', 'and']\n",
      "['I', 'do', 'and', 'you', 'me?', 'love', 'you,', 'love', 'hate', 'I', 'and']\n"
     ]
    }
   ],
   "source": [
    "print(a_string+['I', 'and']) #리스트를 더해줄 수 있다\n",
    "a_string.extend(['I', 'and']) #리스트 추가는 extend, 인덱스추가는 append\n",
    "print(a_string)"
   ]
  },
  {
   "cell_type": "code",
   "execution_count": 79,
   "id": "df895c8f",
   "metadata": {},
   "outputs": [
    {
     "name": "stdout",
     "output_type": "stream",
     "text": [
      "['I', 'do', 'and', 'you', 'me?', 'love', 'you,', 'love', 'hate', 'I', 'and']\n"
     ]
    }
   ],
   "source": [
    "#a_string.clear() #다 지우고 싶다\n",
    "print(a_string)"
   ]
  },
  {
   "cell_type": "code",
   "execution_count": 80,
   "id": "f1e3bbab",
   "metadata": {},
   "outputs": [
    {
     "name": "stdout",
     "output_type": "stream",
     "text": [
      "[7, 2, 5, 4, 3, 6, 1, 9, 8, 15, 11]\n",
      "[7, 2, 5, 4, 3, 6, 1, 9, 8, 15, 11]\n",
      "[7, 2, 5, 4, 3, 6, 1, 9, 8, 15, 11]\n"
     ]
    }
   ],
   "source": [
    "print(x) #그냥 x\n",
    "x_copied = x.copy() # x를 복사한 변수에 할당\n",
    "print(x_copied) #복사된 x\n",
    "print(x.copy()) #할당한 copy출력"
   ]
  },
  {
   "cell_type": "markdown",
   "id": "df5823ff",
   "metadata": {},
   "source": [
    "__9. List comprehensions__"
   ]
  },
  {
   "cell_type": "code",
   "execution_count": 81,
   "id": "4403a10d",
   "metadata": {},
   "outputs": [
    {
     "name": "stdout",
     "output_type": "stream",
     "text": [
      "[0, 2, 4, 6, 8]\n"
     ]
    }
   ],
   "source": [
    "list_range = list(range(0, 10, 2))\n",
    "print(list_range)"
   ]
  },
  {
   "cell_type": "code",
   "execution_count": 82,
   "id": "43291810",
   "metadata": {},
   "outputs": [
    {
     "name": "stdout",
     "output_type": "stream",
     "text": [
      "[0, 2, 4, 6, 8]\n",
      "[1, 3, 5, 7, 9]\n"
     ]
    }
   ],
   "source": [
    "list_com = [i for i in range(0, 10, 2)]\n",
    "print(list_com)\n",
    "list_con = [i for i in range(0, 10) if i % 2 != 0]\n",
    "print(list_con)\n",
    "# list의 기능은 괄호 안에 쉽게 for문 등을 넣어 코딩을 간편하게 한다!"
   ]
  },
  {
   "cell_type": "code",
   "execution_count": 83,
   "id": "19eb6800",
   "metadata": {},
   "outputs": [
    {
     "name": "stdout",
     "output_type": "stream",
     "text": [
      "[0, 4, 16, 36, 64]\n",
      "['I', 'DO', 'AND', 'YOU', 'ME?', 'LOVE', 'YOU,', 'LOVE', 'HATE', 'I', 'AND']\n"
     ]
    }
   ],
   "source": [
    "list_op = [i**2 for i in range(0, 10, 2)]\n",
    "print(list_op)\n",
    "list_up = [i.upper() for i in a_string]\n",
    "print(list_up)"
   ]
  },
  {
   "cell_type": "code",
   "execution_count": 85,
   "id": "d52b3658",
   "metadata": {},
   "outputs": [
    {
     "name": "stdout",
     "output_type": "stream",
     "text": [
      "<generator object <genexpr> at 0x0000022DBD4C0040>\n",
      "[0, 16, 64, 144, 256]\n"
     ]
    }
   ],
   "source": [
    "#generator expression : 일정의 공정, 생성자만 만들어놓고, object를 넣기 위해 한단계 더 나아간 것\n",
    "list_gen = (i**2 for i in range(10) if i % 2 == 0)\n",
    "print(list_gen)\n",
    "list_gen1 = [i*4 for i in list_gen]\n",
    "print(list_gen1)"
   ]
  },
  {
   "cell_type": "markdown",
   "id": "60c9c9b4",
   "metadata": {},
   "source": [
    "__10. lambda expression, map, and zip functions__"
   ]
  },
  {
   "cell_type": "code",
   "execution_count": 86,
   "id": "3c02bb8a",
   "metadata": {},
   "outputs": [
    {
     "name": "stdout",
     "output_type": "stream",
     "text": [
      "[0, 1, 2, 3, 4, 5, 6, 7, 8, 9, 10, 11, 12, 13, 14, 15, 16, 17, 18, 19, 20, 21, 22, 23, 24]\n"
     ]
    }
   ],
   "source": [
    "list3 = list(range(0, 25))\n",
    "print(list3)\n",
    "\n",
    "def is_multiple3(x): #3의배수인가? 라는 뜻\n",
    "    \"\"\"Return True if x is a multiple of 3\"\"\"\n",
    "    return x % 3 == 0"
   ]
  },
  {
   "cell_type": "code",
   "execution_count": 87,
   "id": "9e0aa3f9",
   "metadata": {},
   "outputs": [
    {
     "data": {
      "text/plain": [
       "[0, 3, 6, 9, 12, 15, 18, 21, 24]"
      ]
     },
     "execution_count": 87,
     "metadata": {},
     "output_type": "execute_result"
    }
   ],
   "source": [
    "# 빌트인 함수 filter, filter 또한 generator이다\n",
    "# filter는 higher-order function taking a funcion as argument\n",
    "# 함수를 또하나의 인자로 받아 사용하는 함수\n",
    "# 필터는 하나의 인자를 받고, 조건이 맞으면 True를 출력한다\n",
    "list(filter(is_multiple3, list3))\n",
    "# 필터는, 리스트에 있는 하나하나의 인자들을 함수에 맞게 걸러주는 역할 !!"
   ]
  },
  {
   "cell_type": "code",
   "execution_count": 88,
   "id": "5a4feba4",
   "metadata": {},
   "outputs": [
    {
     "data": {
      "text/plain": [
       "[0, 3, 6, 9, 12, 15, 18, 21, 24]"
      ]
     },
     "execution_count": 88,
     "metadata": {},
     "output_type": "execute_result"
    }
   ],
   "source": [
    "#필더보다 더 좋은거, 람다!\n",
    "#lambda function : anonymous function(무명함수), 다양한 기능을 손쉽게 수행 가능!\n",
    "#람다는 '단 하나'의 input만 받을 수 있다\n",
    "#lambda의 역할은 콜론 : 이후에 지정한다\n",
    "list4 = list(filter(lambda x : x % 3 == 0, list3))\n",
    "list4"
   ]
  },
  {
   "cell_type": "code",
   "execution_count": 89,
   "id": "72ff5085",
   "metadata": {},
   "outputs": [
    {
     "name": "stdout",
     "output_type": "stream",
     "text": [
      "[0, 9, 36, 81, 144, 225, 324, 441, 576]\n",
      "[0, 9, 36, 81, 144, 225, 324, 441, 576]\n"
     ]
    }
   ],
   "source": [
    "# map 도 generator이며 lazy evaluation이라고도 지칭한다\n",
    "print(list(map(lambda x : x**2, list4)))\n",
    "print([i**2 for i in list4])\n",
    "#위 두 줄의 내용은 같다 == 리스트 내에 for문을 통해 훨씬 쉽고 편하게 표현할 수 있다!"
   ]
  },
  {
   "cell_type": "code",
   "execution_count": 97,
   "id": "b9a1fdb2",
   "metadata": {},
   "outputs": [
    {
     "data": {
      "text/plain": [
       "[0, 9, 36, 81, 144, 225, 324, 441, 576]"
      ]
     },
     "execution_count": 97,
     "metadata": {},
     "output_type": "execute_result"
    }
   ],
   "source": [
    "#combining filter and map\n",
    "list(map(lambda x : x**2, filter(lambda x : x % 3 == 0, list3)))\n",
    "#list3 내 3의 배수만 람다로 필터한 다음, 람다를 통해 매핑하여 리스트로 출력한다\n",
    "# == 위의 두 줄과 같다\n",
    "# 결국, 가장 쉽고 간결한 코드를 쓰는 것이 제일 좋다"
   ]
  },
  {
   "cell_type": "code",
   "execution_count": 91,
   "id": "0d845a6b",
   "metadata": {},
   "outputs": [
    {
     "data": {
      "text/plain": [
       "[0, 9, 36, 81, 144, 225, 324, 441, 576]"
      ]
     },
     "execution_count": 91,
     "metadata": {},
     "output_type": "execute_result"
    }
   ],
   "source": [
    "[x**2 for x in list3 if x % 3 == 0]\n",
    "#list3에서 if 3으로 나뉘는 것에 제곱을 하는 것\n",
    "# 다 똑같은 출력 값\n",
    "# 즉, list에 for문과 if문을 조합하여 간결하고 쉬운 코딩을 할 수 있다 !"
   ]
  },
  {
   "cell_type": "code",
   "execution_count": 103,
   "id": "5d62cfc0",
   "metadata": {},
   "outputs": [
    {
     "name": "stdout",
     "output_type": "stream",
     "text": [
      "['Mini', 'Pony', 'Excel', 'Sonata', 'Santafe', 'elantra', 'Grandeur']\n",
      "['Excel', 'Grandeur', 'Mini', 'Pony', 'Santafe', 'Sonata', 'elantra']\n",
      "Excel elantra\n"
     ]
    },
    {
     "data": {
      "text/plain": [
       "'elantra'"
      ]
     },
     "execution_count": 103,
     "metadata": {},
     "output_type": "execute_result"
    }
   ],
   "source": [
    "#key : sorting시 추출할(returns a value) 기준, 키, parameter function\n",
    "car = ['Santafe', 'Mini', 'Pony', 'Grandeur', 'Sonata', 'Excel', 'elantra']\n",
    "car.sort(key = len)\n",
    "print(car)\n",
    "print(sorted(car)) #알파벳순 정렬\n",
    "print(min(car), max(car)) #아스키코드값 기준\n",
    "#max(car, key=lambda i : i.lower()) #소문자(lower) 기준으로 돌려서(람다) max를 찾아주세요\n",
    "min(car, key=lambda i : i.lower())\n",
    "#그러면 소나타가 나옴"
   ]
  },
  {
   "cell_type": "code",
   "execution_count": 94,
   "id": "78bd635d",
   "metadata": {},
   "outputs": [
    {
     "name": "stdout",
     "output_type": "stream",
     "text": [
      "Ryu: 7\n",
      "Son: 20\n",
      "Park: 15\n",
      "Kwon: 7\n"
     ]
    }
   ],
   "source": [
    "# zip : handles multiple iterables concurrently\n",
    "players = ['Ryu', 'Son', 'Park', 'Kwon']; goals = [7, 20, 15, 7]\n",
    "for last_name, goal in zip(players, goals): #zip안에 있는 변수들을 쌍으로 뽑아낼 때 \n",
    "    print(f'{last_name}: {goal}')"
   ]
  },
  {
   "cell_type": "markdown",
   "id": "8aeeeac5",
   "metadata": {},
   "source": [
    "__11. Two and multi dimensional lists__"
   ]
  },
  {
   "cell_type": "code",
   "execution_count": 95,
   "id": "5bc76b68",
   "metadata": {},
   "outputs": [
    {
     "name": "stdout",
     "output_type": "stream",
     "text": [
      "[[1, 2, 3, 4], [5, 6, 7, 8], [9, 10, 11, 12]]\n",
      "1 2 3 4 \n",
      "5 6 7 8 \n",
      "9 10 11 12 \n"
     ]
    }
   ],
   "source": [
    "# 2차원 리스트 인덱스 : index_name[i][j], i는 행(row), j는 열(column)\n",
    "a = [[1,2,3,4],[5,6,7,8],[9,10,11,12]] #리스트 속 리스트, 2차원 배열\n",
    "print(a)\n",
    "for row in a: #row 인덱스는 0, 1, 2\n",
    "    for column in row: #column 인덱스는 0 1 2 3\n",
    "        # for문속의 for문 == nasted for문\n",
    "        print(column, end= \" \")\n",
    "    print() #줄바꿈\n",
    "    \n",
    "#다차원 코딩은 Numpy 에서 더욱 잘 활용된다"
   ]
  },
  {
   "cell_type": "code",
   "execution_count": 113,
   "id": "ea9dca28",
   "metadata": {},
   "outputs": [
    {
     "name": "stdout",
     "output_type": "stream",
     "text": [
      "[0, 2, 4, 6]\n",
      "[0, 2, 4, 6]\n",
      "[False, False, True, True]\n"
     ]
    }
   ],
   "source": [
    "A = list(range(0,8,2))\n",
    "print(A)\n",
    "B = [i for i in A]\n",
    "print(B)\n",
    "c = [i>3 for i in A]\n",
    "print(c)"
   ]
  },
  {
   "cell_type": "code",
   "execution_count": 120,
   "id": "e2e0a025",
   "metadata": {},
   "outputs": [
    {
     "name": "stdout",
     "output_type": "stream",
     "text": [
      "25\n",
      "9\n"
     ]
    },
    {
     "data": {
      "text/plain": [
       "[0, 2, 4, 6, 8, 10, 12, 14, 16, 18, 20, 22, 24]"
      ]
     },
     "execution_count": 120,
     "metadata": {},
     "output_type": "execute_result"
    }
   ],
   "source": [
    "list1 = list(range(0, 25))\n",
    "print(len(list1))\n",
    "list2 = list(filter(lambda x : x%3 == 0, list1))\n",
    "print(len(list2))\n",
    "list(filter(lambda x : x%2 == 0, list1))"
   ]
  },
  {
   "cell_type": "code",
   "execution_count": null,
   "id": "a4d676de",
   "metadata": {},
   "outputs": [],
   "source": []
  },
  {
   "cell_type": "code",
   "execution_count": null,
   "id": "700494ba",
   "metadata": {},
   "outputs": [],
   "source": []
  },
  {
   "cell_type": "code",
   "execution_count": null,
   "id": "073f79d7",
   "metadata": {},
   "outputs": [],
   "source": []
  }
 ],
 "metadata": {
  "kernelspec": {
   "display_name": "Python 3",
   "language": "python",
   "name": "python3"
  },
  "language_info": {
   "codemirror_mode": {
    "name": "ipython",
    "version": 3
   },
   "file_extension": ".py",
   "mimetype": "text/x-python",
   "name": "python",
   "nbconvert_exporter": "python",
   "pygments_lexer": "ipython3",
   "version": "3.8.8"
  }
 },
 "nbformat": 4,
 "nbformat_minor": 5
}
