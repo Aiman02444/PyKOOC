{
 "cells": [
  {
   "cell_type": "markdown",
   "id": "da78ce21",
   "metadata": {},
   "source": [
    "# Python: Creating Functions\n",
    "\n",
    "- Buit in functions : int, float, print, input, type, sum, etc...\n",
    "- Now we learn how to build your own custom functions, perfoming specific tasks.\n",
    "- A function starts with the keyword [def], followed by its name starting with a lowercase letter. you may use [underscores] to separate words in name, say. circle_area_circum. It is recommended to put a [docstring]\"\"\"~\"\"\". explaining the purpose of a function, right below the definition of a function.\n",
    "- At the end we learn random number generation and importing libraries."
   ]
  },
  {
   "cell_type": "markdown",
   "id": "148e6817",
   "metadata": {},
   "source": [
    "__1. Creating your own functions with a single parameter__"
   ]
  },
  {
   "cell_type": "code",
   "execution_count": 2,
   "id": "d28ea07f",
   "metadata": {},
   "outputs": [],
   "source": [
    "import math\n",
    "\n",
    "def circle(radius): # y = f(x):\n",
    "    \"\"\"Calculates area and circumference of a circle with a radius\"\"\" #docstring\n",
    "    \n",
    "    return math.pi*radius**2, 2*math.pi*radius\n",
    "#return과 print의 기능은 비슷하지만, 함수에서는 return을 사용하는 것이 일반적이다."
   ]
  },
  {
   "cell_type": "code",
   "execution_count": 3,
   "id": "247b314e",
   "metadata": {},
   "outputs": [
    {
     "data": {
      "text/plain": [
       "(28.274333882308138, 18.84955592153876)"
      ]
     },
     "execution_count": 3,
     "metadata": {},
     "output_type": "execute_result"
    }
   ],
   "source": [
    "circle(3)"
   ]
  },
  {
   "cell_type": "code",
   "execution_count": 4,
   "id": "25cd730b",
   "metadata": {},
   "outputs": [
    {
     "name": "stdout",
     "output_type": "stream",
     "text": [
      "The area and cicumference of a circle with 3cm radius are 28.27cm squared and 18.85cm.\n"
     ]
    }
   ],
   "source": [
    "x = 3\n",
    "print(f'The area and cicumference of a circle with {x}cm radius \\\n",
    "are {circle(x)[0]:.2f}cm squared and {circle(x)[1]:.2f}cm.')\n",
    "#print(f'문자열') 혹은 print(f'{변수}')"
   ]
  },
  {
   "cell_type": "code",
   "execution_count": 6,
   "id": "aa5e78d9",
   "metadata": {},
   "outputs": [
    {
     "ename": "SyntaxError",
     "evalue": "invalid syntax (Temp/ipykernel_14808/2574444522.py, line 1)",
     "output_type": "error",
     "traceback": [
      "\u001b[1;36m  File \u001b[1;32m\"C:\\Users\\82109\\AppData\\Local\\Temp/ipykernel_14808/2574444522.py\"\u001b[1;36m, line \u001b[1;32m1\u001b[0m\n\u001b[1;33m    circle? #물음표를 통해 함수의 정보를 알 수 있다\u001b[0m\n\u001b[1;37m          ^\u001b[0m\n\u001b[1;31mSyntaxError\u001b[0m\u001b[1;31m:\u001b[0m invalid syntax\n"
     ]
    }
   ],
   "source": [
    "circle? #물음표를 통해 함수의 정보를 알 수 있다\n",
    "# docstring을 쓰는게 귀찮아서 생략하지만, 안쓰다보면 나중에 수많은 함수들 떄문에 기억이 안나요"
   ]
  },
  {
   "cell_type": "markdown",
   "id": "c51f154f",
   "metadata": {},
   "source": [
    "__2. Creating functions with multiple parameters__"
   ]
  },
  {
   "cell_type": "code",
   "execution_count": 7,
   "id": "99908a77",
   "metadata": {},
   "outputs": [],
   "source": [
    "def myfunction(x, y):\n",
    "    \"\"\"addition, multiplication and division\"\"\"\n",
    "    \n",
    "    return x+y, x*y, x/y"
   ]
  },
  {
   "cell_type": "code",
   "execution_count": 9,
   "id": "80782de6",
   "metadata": {},
   "outputs": [
    {
     "data": {
      "text/plain": [
       "(18, 45, 5.0)"
      ]
     },
     "execution_count": 9,
     "metadata": {},
     "output_type": "execute_result"
    }
   ],
   "source": [
    "myfunction(15, 3)"
   ]
  },
  {
   "cell_type": "code",
   "execution_count": 10,
   "id": "aae5aec5",
   "metadata": {},
   "outputs": [],
   "source": [
    "def findmin(): #처음부터 파라미터를 설정하지 않고, 함수 내에서 설정할 수 있다\n",
    "    \"\"\"Finding the minimum among three integers\"\"\"\n",
    "    \n",
    "    x=int(input('Enter first integer: '))\n",
    "    y=int(input('Enter second integer: '))\n",
    "    z=int(input('Enter third integer: '))\n",
    "    minimum = x\n",
    "    if y < minimum:\n",
    "        minimum = y\n",
    "    if z < minimum:\n",
    "        minimum = z\n",
    "    return minimum"
   ]
  },
  {
   "cell_type": "code",
   "execution_count": 11,
   "id": "ffc02022",
   "metadata": {},
   "outputs": [
    {
     "name": "stdout",
     "output_type": "stream",
     "text": [
      "Enter first integer: 12\n",
      "Enter second integer: 13\n",
      "Enter third integer: 14\n"
     ]
    },
    {
     "data": {
      "text/plain": [
       "12"
      ]
     },
     "execution_count": 11,
     "metadata": {},
     "output_type": "execute_result"
    }
   ],
   "source": [
    "findmin()"
   ]
  },
  {
   "cell_type": "code",
   "execution_count": 12,
   "id": "07f64c59",
   "metadata": {},
   "outputs": [],
   "source": [
    "def findmin1(x, y, z):\n",
    "    \"\"\"Another function for finding a minimum\"\"\"\n",
    "    \n",
    "    return min(x, y, z)"
   ]
  },
  {
   "cell_type": "code",
   "execution_count": 14,
   "id": "019567d6",
   "metadata": {},
   "outputs": [
    {
     "name": "stdout",
     "output_type": "stream",
     "text": [
      "7\n",
      "3\n"
     ]
    }
   ],
   "source": [
    "print(findmin1(7, 8, 9))\n",
    "print(x) #print a global variable, x.\n",
    "#함수 안에서 사용된 변수는 함수 안에서만 사용된다(?)\n",
    "#그외의 변수는 global 변수로서 사용된다"
   ]
  },
  {
   "cell_type": "markdown",
   "id": "d10c811f",
   "metadata": {},
   "source": [
    "__3. Functions with default parameter values__"
   ]
  },
  {
   "cell_type": "code",
   "execution_count": 15,
   "id": "d05db53b",
   "metadata": {},
   "outputs": [],
   "source": [
    "def rectangle(width=3, height=5):\n",
    "    \"\"\"Calculating the area of a rectangle\"\"\"\n",
    "    \n",
    "    return width*height"
   ]
  },
  {
   "cell_type": "code",
   "execution_count": 17,
   "id": "5a851e4a",
   "metadata": {},
   "outputs": [
    {
     "name": "stdout",
     "output_type": "stream",
     "text": [
      "15 25 20\n"
     ]
    }
   ],
   "source": [
    "print(rectangle(), rectangle(5), rectangle(4, 5))\n",
    "# 파라미터에 설정된 값, 하나만 넣으면 순서대로, 둘다 넣으면 둘 다"
   ]
  },
  {
   "cell_type": "code",
   "execution_count": 18,
   "id": "43b7cdd5",
   "metadata": {},
   "outputs": [
    {
     "name": "stdout",
     "output_type": "stream",
     "text": [
      "12 42\n"
     ]
    }
   ],
   "source": [
    "print(rectangle(height=4), rectangle(height=6, width=7))\n",
    "#변수 이름을 특정화하면서 설정하면 순서바뀌어도 괜찮다"
   ]
  },
  {
   "cell_type": "markdown",
   "id": "409e33ff",
   "metadata": {},
   "source": [
    "__4. A function taking an arbitary number of argument__"
   ]
  },
  {
   "cell_type": "code",
   "execution_count": 19,
   "id": "f2d8bbd1",
   "metadata": {},
   "outputs": [],
   "source": [
    "def my_average(*nums):\n",
    "    \"\"\"Calculating average with multiple numbers\"\"\"\n",
    "    #* 표시는 계산하는 값의 개수에 제한을 두지 않는다는 의미이다.\n",
    "    return sum(nums)/len(nums)"
   ]
  },
  {
   "cell_type": "code",
   "execution_count": 20,
   "id": "f5aea822",
   "metadata": {},
   "outputs": [
    {
     "data": {
      "text/plain": [
       "58.6"
      ]
     },
     "execution_count": 20,
     "metadata": {},
     "output_type": "execute_result"
    }
   ],
   "source": [
    "my_average(68, 23, 45, 67, 90)"
   ]
  },
  {
   "cell_type": "code",
   "execution_count": 23,
   "id": "145084e0",
   "metadata": {},
   "outputs": [
    {
     "data": {
      "text/plain": [
       "5.5"
      ]
     },
     "execution_count": 23,
     "metadata": {},
     "output_type": "execute_result"
    }
   ],
   "source": [
    "grades = [1,2,3,4,5,6,7,8,9,10]\n",
    "my_average(*grades)"
   ]
  },
  {
   "cell_type": "markdown",
   "id": "b19c0bc1",
   "metadata": {},
   "source": [
    "__5. Main function and __name_ variable__\n",
    "- The main function is the point of executing a python program.\n",
    "- It works only when the program is executed directly(i,e., as a Python script, not as a module imported in other scripts).\n",
    "- The name variable is a special variable of Python, evaluating the name of current program.\n",
    "- It also takes \"__name__\" when a script is executed directly."
   ]
  },
  {
   "cell_type": "code",
   "execution_count": 29,
   "id": "ab591599",
   "metadata": {},
   "outputs": [
    {
     "name": "stdout",
     "output_type": "stream",
     "text": [
      "The area and cicumference of a circle with 3cm radius     are 28.27cm squared and 18.850cm.\n",
      "Main function is executed!\n"
     ]
    }
   ],
   "source": [
    "def main(x):\n",
    "    \"\"\"An excercise of main function\"\"\"\n",
    "    print(f'The area and cicumference of a circle with {x}cm radius \\\n",
    "    are {circle(x)[0]:.2f}cm squared and {circle(x)[1]:.3f}cm.')\n",
    "    print('Main function is executed!')\n",
    "    \n",
    "if __name__ == '__main__':\n",
    "    main(3)\n",
    "    \n",
    "# main은 파이썬 함수의 시작점과 같다\n",
    "# 함수명을 굳이 main으로 잡지 않아도, if __name__을 통해 시작함수를 설정할 수 있다.\n",
    "# 하지만, main으로 잡으면 누가 봐도 시작이니까 보기 좋다"
   ]
  },
  {
   "cell_type": "code",
   "execution_count": 40,
   "id": "eb5f7136",
   "metadata": {},
   "outputs": [
    {
     "name": "stdout",
     "output_type": "stream",
     "text": [
      "The area and circumference of a circle with 4cm radius    are 50.27cm squared and 25.133cm.\n",
      "Main function is executed!\n"
     ]
    },
    {
     "data": {
      "text/plain": [
       "'=> if main이 돌아간다면, 함수의 시작 \\nif main이 돌기 위해서는, def main()이 설정되어야하고\\ndef main()이 설정되기 위해서는 def circle() 이 설정되어야하고\\n그러려면 import math를 해야 한다 !'"
      ]
     },
     "execution_count": 40,
     "metadata": {},
     "output_type": "execute_result"
    }
   ],
   "source": [
    "#예시\n",
    "import math  # importing math module of Python for using pi\n",
    "\n",
    "def circle(radius):  # defining a function called circle\n",
    "    \"\"\"Calculates area and circumference of a circle with a radidus\"\"\" # a docstring\n",
    "    \n",
    "    return math.pi*radius**2, 2*math.pi*radius    # End of a function\n",
    "def main():\n",
    "    \"\"\"An excercise of main function\"\"\"\n",
    "    print(f'The area and circumference of a circle with {x}cm radius\\\n",
    "    are {circle(x)[0]:.2f}cm squared and {circle(x)[1]:.3f}cm.')\n",
    "    print('Main function is executed!')\n",
    "    \n",
    "if __name__ == '__main__':\n",
    "    x=4\n",
    "    main()\n",
    "\"\"\"=> if main이 돌아간다면, 함수의 시작 \n",
    "if main이 돌기 위해서는, def main()이 설정되어야하고\n",
    "def main()이 설정되기 위해서는 def circle() 이 설정되어야하고\n",
    "그러려면 import math를 해야 한다, 즉 독립된 파일일 때 사용 가능(?)\"\"\""
   ]
  },
  {
   "cell_type": "code",
   "execution_count": 37,
   "id": "64d22dc6",
   "metadata": {},
   "outputs": [
    {
     "name": "stdout",
     "output_type": "stream",
     "text": [
      "The area and circumference of a circle with 4cm radius    are 50.27cm squared and 25.133cm.\n",
      "Main function is executed!\n",
      "The area and circumference of a circle with 4cm radius    are 50.27cm squared and 25.133cm.\n",
      "Main function is executed!\n"
     ]
    }
   ],
   "source": [
    "%run main_function.py\n",
    "! python main_function.py\n",
    "# %run 또는 !python을 통해 py파일을 실행할 수 있다"
   ]
  },
  {
   "cell_type": "code",
   "execution_count": 41,
   "id": "790ef9c2",
   "metadata": {},
   "outputs": [
    {
     "name": "stdout",
     "output_type": "stream",
     "text": [
      "(3.141592653589793, 6.283185307179586)\n",
      "main_function\n"
     ]
    }
   ],
   "source": [
    "import main_function as mf #모듈로 불러 함수를 실행하기\n",
    "print(mf.circle(1))\n",
    "print(mf.__name__) # 모듈로는 if문이 충족되지 않기 떄문에 실행되지 않는다"
   ]
  },
  {
   "cell_type": "markdown",
   "id": "4288c231",
   "metadata": {},
   "source": [
    "__5. Python stadard libraries__\n",
    "\n",
    "- https://docs.python.org/3/library/\n",
    "- popular ones are math, random, csv, decimal, datetime, json, statistics, etc.\n",
    "- Math module: https://docs.python.org/3/library/math.html"
   ]
  },
  {
   "cell_type": "markdown",
   "id": "452584f6",
   "metadata": {},
   "source": [
    "__6. Using tab key for completing identifiers__\n",
    "\n",
    "- ma + Tab key will show a list of identifiers starting with 'ma'.\n",
    "- Looking up functions in a library with Tab key\n",
    "- Questioning a function with the question mark ?"
   ]
  },
  {
   "cell_type": "markdown",
   "id": "3751a912",
   "metadata": {},
   "source": [
    "__7. Methods in Python__\n",
    "\n",
    "- Methods are fuctions you can call on your object\n",
    "\"object? 파이썬에서 모든 객체\"\n",
    "- syntax: Your_object_name.method_name(arguments)."
   ]
  },
  {
   "cell_type": "code",
   "execution_count": 43,
   "id": "7f0f3531",
   "metadata": {},
   "outputs": [
    {
     "name": "stdout",
     "output_type": "stream",
     "text": [
      "sangjae lee SANGJAE LEE Sangjae Lee\n"
     ]
    }
   ],
   "source": [
    "my_name = 'Sangjae Lee'\n",
    "print(my_name.lower(), my_name.upper(), my_name)\n",
    "# method(함수)를 사용함으로써 모든 객체에 변형을 가할 수 있다!"
   ]
  },
  {
   "cell_type": "markdown",
   "id": "5e0626a5",
   "metadata": {},
   "source": [
    "__8. Random number generation in Python__"
   ]
  },
  {
   "cell_type": "code",
   "execution_count": 44,
   "id": "c237e46d",
   "metadata": {},
   "outputs": [
    {
     "name": "stdout",
     "output_type": "stream",
     "text": [
      "4 1 5 6 2 3 1 1 6 3 "
     ]
    }
   ],
   "source": [
    "import random\n",
    "\n",
    "for roll in range(10):\n",
    "    print(random.randrange(1, 7), end=' ')"
   ]
  },
  {
   "cell_type": "code",
   "execution_count": 84,
   "id": "d159f6f4",
   "metadata": {},
   "outputs": [
    {
     "name": "stdout",
     "output_type": "stream",
     "text": [
      "Face    Frequency     Ratio\n",
      "   0         5045     50.45\n",
      "   1         4955     49.55\n"
     ]
    }
   ],
   "source": [
    "frequency0 = 0\n",
    "frequency1 = 0\n",
    "sample = 10_000 #숫자의 천단위 구분은 _를 이용한다\n",
    "\n",
    "for roll in range(sample):\n",
    "    face = random.randrange(0,2)\n",
    "    if face == 0:\n",
    "        frequency0 += 1\n",
    "    else:\n",
    "        frequency1 += 1\n",
    "        \n",
    "print(f'{\"Face\"}{\"Frequency\":>13}{\"Ratio\":>10}')\n",
    "print(f'{0:>4}{frequency0:>13}{frequency0/sample*100:>10.2f}')\n",
    "print(f'{1:>4}{frequency1:>13}{frequency1/sample*100:>10.2f}')\n",
    "# > == 오른쪽으로 공간을 맞추어라, < == 왼쪽으로 공간을 맞추어라"
   ]
  },
  {
   "cell_type": "code",
   "execution_count": 86,
   "id": "ee3f6ed3",
   "metadata": {},
   "outputs": [
    {
     "name": "stdout",
     "output_type": "stream",
     "text": [
      "3 6 3 1 2 1 2 3 6 3 \n",
      "6 6 4 5 2 2 2 6 2 1 "
     ]
    }
   ],
   "source": [
    "random.seed(20191215) #시드넘버를 설정하면, 모두가 같은 값을 출력할 수 있다(셀 안에서)\n",
    "\n",
    "for roll in range(10):\n",
    "    print(random.randrange(1, 7), end=' ')\n",
    "    \n",
    "print()\n",
    "for roll in range(10):\n",
    "    print(random.randrange(1, 7), end=' ')"
   ]
  },
  {
   "cell_type": "code",
   "execution_count": 88,
   "id": "e50d6001",
   "metadata": {},
   "outputs": [
    {
     "name": "stdout",
     "output_type": "stream",
     "text": [
      "1 4 1 4 3 5 6 3 6 4 "
     ]
    }
   ],
   "source": [
    "for roll in range(10):\n",
    "    print(random.randrange(1, 7), end=' ')"
   ]
  },
  {
   "cell_type": "markdown",
   "id": "e5328e04",
   "metadata": {},
   "source": [
    "__9. Importing libraries and modules in Python__\n",
    "- importing library_name(import ___, ___에 있는 모든 함수를 불러옴)\n",
    "- importing specific functions or constants of a library(from ___ import ~ ___에서 ~만 불러옴)\n",
    "- importing a library with an abbreviated name(import ___ as -, -라는 별명을 할당)"
   ]
  },
  {
   "cell_type": "code",
   "execution_count": 89,
   "id": "83560344",
   "metadata": {},
   "outputs": [
    {
     "name": "stdout",
     "output_type": "stream",
     "text": [
      "3.141592653589793 10 9\n",
      "4\n"
     ]
    }
   ],
   "source": [
    "from math import ceil, floor, pi\n",
    "import statistics as stat\n",
    "\n",
    "print(pi, ceil(9.8), floor(9.8)) #ceil = 정수값(올림), floor == 정수값(버림)\n",
    "x=[3,4,5]\n",
    "print(stat.mean(x))"
   ]
  },
  {
   "cell_type": "code",
   "execution_count": null,
   "id": "4c4447f0",
   "metadata": {},
   "outputs": [],
   "source": []
  },
  {
   "cell_type": "code",
   "execution_count": null,
   "id": "892f8b47",
   "metadata": {},
   "outputs": [],
   "source": []
  }
 ],
 "metadata": {
  "kernelspec": {
   "display_name": "Python 3",
   "language": "python",
   "name": "python3"
  },
  "language_info": {
   "codemirror_mode": {
    "name": "ipython",
    "version": 3
   },
   "file_extension": ".py",
   "mimetype": "text/x-python",
   "name": "python",
   "nbconvert_exporter": "python",
   "pygments_lexer": "ipython3",
   "version": "3.8.8"
  }
 },
 "nbformat": 4,
 "nbformat_minor": 5
}
