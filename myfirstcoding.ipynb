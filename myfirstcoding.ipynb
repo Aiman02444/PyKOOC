{
 "cells": [
  {
   "cell_type": "code",
   "execution_count": 1,
   "id": "2a3ad3b2-ca1d-4965-81c4-de555e0a0096",
   "metadata": {},
   "outputs": [],
   "source": [
    "import tensorflow as tf"
   ]
  },
  {
   "cell_type": "code",
   "execution_count": 3,
   "id": "8f08bdaf-c9af-43c8-8455-08ddfff4781b",
   "metadata": {},
   "outputs": [],
   "source": [
    "hello=tf.constant('Hello, Tensorflow')"
   ]
  },
  {
   "cell_type": "code",
   "execution_count": 4,
   "id": "dbbf0cb1-e15a-4bf2-8b27-e6bb16a28e28",
   "metadata": {},
   "outputs": [
    {
     "data": {
      "text/plain": [
       "<tf.Tensor: shape=(), dtype=string, numpy=b'Hello, Tensorflow'>"
      ]
     },
     "execution_count": 4,
     "metadata": {},
     "output_type": "execute_result"
    }
   ],
   "source": [
    "hello"
   ]
  },
  {
   "cell_type": "code",
   "execution_count": 5,
   "id": "63a4303e-fc9f-4521-9d9e-422015fd117a",
   "metadata": {},
   "outputs": [
    {
     "name": "stdout",
     "output_type": "stream",
     "text": [
      "tf.Tensor(b'Hello, Tensorflow', shape=(), dtype=string)\n"
     ]
    }
   ],
   "source": [
    "print(hello)"
   ]
  },
  {
   "cell_type": "code",
   "execution_count": 6,
   "id": "aa814bd5-5c1d-4208-96b6-4d303907807d",
   "metadata": {},
   "outputs": [
    {
     "name": "stdout",
     "output_type": "stream",
     "text": [
      "myfirstcoding\n"
     ]
    }
   ],
   "source": [
    "print('myfirstcoding')"
   ]
  },
  {
   "cell_type": "markdown",
   "id": "e6f1b596",
   "metadata": {},
   "source": [
    "# 1-6 파이썬 코딩 기초 개념과 코딩의 달인\n",
    "\n",
    "__1. 파이썬의 큰 틀__\n",
    "(1) standard library\n",
    "(2) numpy = numerical python, 숫자다루는데 최적화된 패키지\n",
    "(3) pandas = panel data, 패널데이터에 특화\n",
    "(4) visualization : matplotlib => seaborn\n",
    "\n",
    "__2. 기본적인 룰과 컨셉__\n",
    "- 식별자, identifiers = 이름(class, functions, and variables)\n",
    "    - 클래스는 대문자, 함수/변수는 소문자\n",
    "    - 9x는 안되고 x9는 된다\n",
    "    - 그냥 바는 안되고 언더바는 된다(띄어쓰기용)\n",
    "    - 주제어(keywords)는 사용불가, 기본기능으로 디폴트설정\n",
    "    - keywords? \n",
    "        True, False, None, and, or, as, with, import, from, is, \n",
    "        if, elif, else, not, for, in, while, break, pass, continue, \n",
    "        try, lambda, enumerate, zip, \n",
    "        class, def, \n",
    "        glogal, nonlocal, etc\n",
    "    - 특수문자 %, $, & and !같은거는 쓰지 말자\n",
    "    - Indentation(들여쓰기)를 잘 지키자\n",
    "    - suite = a header line in control statement\n",
    "    - code block, function안에서 사용\n",
    "    - Snippet  : a smmal portion of code.\n",
    "    \n",
    "__3. 데이터타입__\n",
    "- 데이터의 형태를 구분한 것(string, integers, floats, and Boolean)\n",
    "- 데이터타입에 따라 연산방식과 구성이 달라지므로 주의\n",
    "\n",
    "__4. clear, concise, and compact coding__\n",
    "- 들여쓰기\n",
    "- 코드블락을 구분하기 위해 빈 줄 넣기\n",
    "- 해쉬사인(#)을 통해 설명\n",
    "- double quotes 3개 \"\"\" \"\"\"을 사용하여 여러줄을 한꺼번에 설명\n",
    "- docstrings(\"\"\" \"\"\")의 목적과 기능을 설명하기 위해\n",
    "- class를 만들면 편하다\n",
    "    창작의 영역은 클래스를 어떻게 구현하느냐에 따라 달라진다!"
   ]
  },
  {
   "cell_type": "markdown",
   "id": "41845091",
   "metadata": {},
   "source": []
  }
 ],
 "metadata": {
  "kernelspec": {
   "display_name": "Python 3 (ipykernel)",
   "language": "python",
   "name": "python3"
  },
  "language_info": {
   "codemirror_mode": {
    "name": "ipython",
    "version": 3
   },
   "file_extension": ".py",
   "mimetype": "text/x-python",
   "name": "python",
   "nbconvert_exporter": "python",
   "pygments_lexer": "ipython3",
   "version": "3.8.11"
  }
 },
 "nbformat": 4,
 "nbformat_minor": 5
}
