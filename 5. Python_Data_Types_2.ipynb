{
 "cells": [
  {
   "cell_type": "markdown",
   "id": "1046e098",
   "metadata": {},
   "source": [
    "# Python : Dictionaries and Sets\n",
    "- 딕셔너리 = 사전, 단어와 설명, key와 value(항상 쌍으로 존재) -> 일부 indexing / slicing 가능\n",
    "- 셋 = 집합, 중복불가, 순서가 없다 -> indexing / slicing 이 불가능하다\n",
    "- 머신러닝에서 셋은 많이 사용하지 않는다"
   ]
  },
  {
   "cell_type": "markdown",
   "id": "795f92a4",
   "metadata": {},
   "source": [
    "__1. Dictionaries : Creating, updating, and operations__\n",
    "- key must be unique, 지울 순 있는데 바꿀 순 없다\n",
    "- value는 유니크하지 않아도 된다, 다만 뒤집을 때엔 문제가 생김(하나가 사라짐)"
   ]
  },
  {
   "cell_type": "code",
   "execution_count": 6,
   "id": "a91b5d1d",
   "metadata": {},
   "outputs": [
    {
     "name": "stdout",
     "output_type": "stream",
     "text": [
      "{'Korea': 'kr', 'Japan': 'jp', 'Taiwan': 'tw', 'Finland': 'fi'}\n",
      "4\n",
      "kr\n"
     ]
    }
   ],
   "source": [
    "countries = {'Korea':'kr', 'Japan':'jp', 'Taiwan':'tw', 'Finland':'fi'}\n",
    "#딕셔너리는 { }를 사용한다, 키와 밸류 모두 숫자와 문자 가능하다\n",
    "print(countries)\n",
    "print(len(countries))\n",
    "print(countries['Korea'])"
   ]
  },
  {
   "cell_type": "code",
   "execution_count": 13,
   "id": "28a2c75c",
   "metadata": {},
   "outputs": [
    {
     "name": "stdout",
     "output_type": "stream",
     "text": [
      "False\n",
      "{'Japan': 'jp', 'Taiwan': 'tw', 'Finland': 'fi', 'Japen': '81', 'Canada': 'ca', 'China': 'cn', 'Korea': 82}\n",
      "{'Japan': 'jp', 'Taiwan': 'tw', 'Finland': 'fi', 'Japen': '81', 'Canada': 'ca', 'China': 'cn', 'Korea': 82}\n",
      "{'Japan': 'jp', 'Taiwan': 'tw', 'Finland': 'fi', 'Japen': '81', 'Canada': 'ca', 'China': 'cn', 'Korea': 82}\n",
      "{'Japan': 'jp', 'Taiwan': 'tw', 'Finland': 'fi', 'Japen': '81', 'Canada': 'ca', 'China': 'cn', 'Korea': 82}\n",
      "{'Japan': 'jp', 'Taiwan': 'tw', 'Finland': 'fi', 'Japen': '81', 'Canada': 'ca', 'China': 'cn'}\n"
     ]
    }
   ],
   "source": [
    "print('korea' in countries) #대소문자 구분!!\n",
    "countries['Korea'] = 82\n",
    "print(countries)\n",
    "countries.update(Japen = '81') #업데이트로 변화\n",
    "print(countries)\n",
    "countries['Canada'] = 'ca' #키값 추가\n",
    "print(countries)\n",
    "countries.update(China = 'cn') #업데이트는 '없으면 추가'해준다\n",
    "print(countries)\n",
    "del countries['Korea'] #키와 밸류를 제거한다\n",
    "print(countries)"
   ]
  },
  {
   "cell_type": "code",
   "execution_count": 17,
   "id": "4e73c332",
   "metadata": {},
   "outputs": [
    {
     "name": "stdout",
     "output_type": "stream",
     "text": [
      "jp\n",
      "None\n"
     ]
    },
    {
     "ename": "TypeError",
     "evalue": "'builtin_function_or_method' object is not subscriptable",
     "output_type": "error",
     "traceback": [
      "\u001b[1;31m---------------------------------------------------------------------------\u001b[0m",
      "\u001b[1;31mTypeError\u001b[0m                                 Traceback (most recent call last)",
      "\u001b[1;32m<ipython-input-17-7d112df70235>\u001b[0m in \u001b[0;36m<module>\u001b[1;34m\u001b[0m\n\u001b[0;32m      1\u001b[0m \u001b[0mprint\u001b[0m\u001b[1;33m(\u001b[0m\u001b[0mcountries\u001b[0m\u001b[1;33m.\u001b[0m\u001b[0mget\u001b[0m\u001b[1;33m(\u001b[0m\u001b[1;34m'Japan'\u001b[0m\u001b[1;33m)\u001b[0m\u001b[1;33m)\u001b[0m \u001b[1;31m#키를 넣으면, 밸류값을 준다\u001b[0m\u001b[1;33m\u001b[0m\u001b[1;33m\u001b[0m\u001b[0m\n\u001b[0;32m      2\u001b[0m \u001b[0mprint\u001b[0m\u001b[1;33m(\u001b[0m\u001b[0mcountries\u001b[0m\u001b[1;33m.\u001b[0m\u001b[0mget\u001b[0m\u001b[1;33m(\u001b[0m\u001b[1;34m'Korea'\u001b[0m\u001b[1;33m)\u001b[0m\u001b[1;33m)\u001b[0m \u001b[1;31m#없으면 none\u001b[0m\u001b[1;33m\u001b[0m\u001b[1;33m\u001b[0m\u001b[0m\n\u001b[1;32m----> 3\u001b[1;33m \u001b[0mprint\u001b[0m\u001b[1;33m(\u001b[0m\u001b[0mcountries\u001b[0m\u001b[1;33m.\u001b[0m\u001b[0mget\u001b[0m\u001b[1;33m[\u001b[0m\u001b[1;34m'Korea'\u001b[0m\u001b[1;33m]\u001b[0m\u001b[1;33m)\u001b[0m\u001b[1;33m\u001b[0m\u001b[1;33m\u001b[0m\u001b[0m\n\u001b[0m",
      "\u001b[1;31mTypeError\u001b[0m: 'builtin_function_or_method' object is not subscriptable"
     ]
    }
   ],
   "source": [
    "print(countries.get('Japan')) #키를 넣으면, 밸류값을 준다\n",
    "print(countries.get('Korea')) #없으면 none\n",
    "print(countries.get['Korea']) #없는 리스트를 물어보면 에러가 난다"
   ]
  },
  {
   "cell_type": "markdown",
   "id": "2748cab5",
   "metadata": {},
   "source": []
  }
 ],
 "metadata": {
  "kernelspec": {
   "display_name": "Python 3",
   "language": "python",
   "name": "python3"
  },
  "language_info": {
   "codemirror_mode": {
    "name": "ipython",
    "version": 3
   },
   "file_extension": ".py",
   "mimetype": "text/x-python",
   "name": "python",
   "nbconvert_exporter": "python",
   "pygments_lexer": "ipython3",
   "version": "3.8.8"
  }
 },
 "nbformat": 4,
 "nbformat_minor": 5
}
