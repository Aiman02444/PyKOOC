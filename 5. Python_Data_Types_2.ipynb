{
 "cells": [
  {
   "cell_type": "markdown",
   "id": "1046e098",
   "metadata": {},
   "source": [
    "# Python : Dictionaries and Sets\n",
    "- 딕셔너리 = 사전, 단어와 설명, key와 value(항상 쌍으로 존재) -> 일부 indexing / slicing 가능\n",
    "- 셋 = 집합, 중복불가, 순서가 없다 -> indexing / slicing 이 불가능하다\n",
    "- 머신러닝에서 셋은 많이 사용하지 않는다"
   ]
  },
  {
   "cell_type": "markdown",
   "id": "795f92a4",
   "metadata": {},
   "source": [
    "__1. Dictionaries : Creating, updating, and operations__\n",
    "- key must be unique, 지울 순 있는데 바꿀 순 없다\n",
    "- value는 유니크하지 않아도 된다, 다만 뒤집을 때엔 문제가 생김(하나가 사라짐)"
   ]
  },
  {
   "cell_type": "code",
   "execution_count": 2,
   "id": "a91b5d1d",
   "metadata": {},
   "outputs": [
    {
     "name": "stdout",
     "output_type": "stream",
     "text": [
      "{'Korea': 'kr', 'Japan': 'jp', 'Taiwan': 'tw', 'Finland': 'fi'}\n",
      "4\n",
      "kr\n"
     ]
    }
   ],
   "source": [
    "countries = {'Korea':'kr', 'Japan':'jp', 'Taiwan':'tw', 'Finland':'fi'}\n",
    "#딕셔너리는 { }를 사용한다, 키와 밸류 모두 숫자와 문자 가능하다\n",
    "print(countries)\n",
    "print(len(countries))\n",
    "print(countries['Korea'])"
   ]
  },
  {
   "cell_type": "code",
   "execution_count": 52,
   "id": "28a2c75c",
   "metadata": {},
   "outputs": [
    {
     "name": "stdout",
     "output_type": "stream",
     "text": [
      "False\n",
      "{'Korea': 82, 'Japan': 'jp', 'Taiwan': 'tw', 'Finland': 'fi'}\n",
      "{'Korea': 82, 'Japan': 'jp', 'Taiwan': 'tw', 'Finland': 'fi', 'Japen': '81'}\n",
      "{'Korea': 82, 'Japan': 'jp', 'Taiwan': 'tw', 'Finland': 'fi', 'Japen': '81', 'Canada': 'ca'}\n",
      "{'Korea': 82, 'Japan': 'jp', 'Taiwan': 'tw', 'Finland': 'fi', 'Japen': '81', 'Canada': 'ca', 'China': 'cn'}\n",
      "{'Japan': 'jp', 'Taiwan': 'tw', 'Finland': 'fi', 'Japen': '81', 'Canada': 'ca', 'China': 'cn'}\n"
     ]
    }
   ],
   "source": [
    "print('korea' in countries) #대소문자 구분!!\n",
    "countries['Korea'] = 82\n",
    "print(countries)\n",
    "countries.update(Japen = '81') #업데이트로 변화\n",
    "print(countries)\n",
    "countries['Canada'] = 'ca' #키값 추가\n",
    "print(countries)\n",
    "countries.update(China = 'cn') #업데이트는 '없으면 추가'해준다\n",
    "print(countries)\n",
    "del countries['Korea'] #키와 밸류를 제거한다\n",
    "print(countries)"
   ]
  },
  {
   "cell_type": "code",
   "execution_count": 53,
   "id": "4e73c332",
   "metadata": {},
   "outputs": [
    {
     "name": "stdout",
     "output_type": "stream",
     "text": [
      "jp\n",
      "None\n"
     ]
    },
    {
     "ename": "TypeError",
     "evalue": "'builtin_function_or_method' object is not subscriptable",
     "output_type": "error",
     "traceback": [
      "\u001b[1;31m---------------------------------------------------------------------------\u001b[0m",
      "\u001b[1;31mTypeError\u001b[0m                                 Traceback (most recent call last)",
      "\u001b[1;32m<ipython-input-53-c5383697db32>\u001b[0m in \u001b[0;36m<module>\u001b[1;34m\u001b[0m\n\u001b[0;32m      1\u001b[0m \u001b[0mprint\u001b[0m\u001b[1;33m(\u001b[0m\u001b[0mcountries\u001b[0m\u001b[1;33m.\u001b[0m\u001b[0mget\u001b[0m\u001b[1;33m(\u001b[0m\u001b[1;34m'Japan'\u001b[0m\u001b[1;33m)\u001b[0m\u001b[1;33m)\u001b[0m \u001b[1;31m#키를 넣으면, 밸류값을 준다\u001b[0m\u001b[1;33m\u001b[0m\u001b[1;33m\u001b[0m\u001b[0m\n\u001b[0;32m      2\u001b[0m \u001b[0mprint\u001b[0m\u001b[1;33m(\u001b[0m\u001b[0mcountries\u001b[0m\u001b[1;33m.\u001b[0m\u001b[0mget\u001b[0m\u001b[1;33m(\u001b[0m\u001b[1;34m'Korea'\u001b[0m\u001b[1;33m)\u001b[0m\u001b[1;33m)\u001b[0m \u001b[1;31m#없으면 none\u001b[0m\u001b[1;33m\u001b[0m\u001b[1;33m\u001b[0m\u001b[0m\n\u001b[1;32m----> 3\u001b[1;33m \u001b[0mprint\u001b[0m\u001b[1;33m(\u001b[0m\u001b[0mcountries\u001b[0m\u001b[1;33m.\u001b[0m\u001b[0mget\u001b[0m\u001b[1;33m[\u001b[0m\u001b[1;34m'Korea'\u001b[0m\u001b[1;33m]\u001b[0m\u001b[1;33m)\u001b[0m \u001b[1;31m#없는 리스트를 물어보면 에러가 난다\u001b[0m\u001b[1;33m\u001b[0m\u001b[1;33m\u001b[0m\u001b[0m\n\u001b[0m",
      "\u001b[1;31mTypeError\u001b[0m: 'builtin_function_or_method' object is not subscriptable"
     ]
    }
   ],
   "source": [
    "print(countries.get('Japan')) #키를 넣으면, 밸류값을 준다\n",
    "print(countries.get('Korea')) #없으면 none\n",
    "print(countries.get['Korea']) #없는 리스트를 물어보면 에러가 난다"
   ]
  },
  {
   "cell_type": "markdown",
   "id": "2748cab5",
   "metadata": {},
   "source": [
    "__2. Dictinoaries : Iterations and extractions__\n",
    "- iteration == 반복, extractions = 추출"
   ]
  },
  {
   "cell_type": "code",
   "execution_count": 6,
   "id": "9bdd0f38",
   "metadata": {
    "scrolled": true
   },
   "outputs": [
    {
     "name": "stdout",
     "output_type": "stream",
     "text": [
      "The country code of Korea is kr.\n",
      "The country code of Japan is jp.\n",
      "The country code of Taiwan is tw.\n",
      "The country code of Finland is fi.\n"
     ]
    }
   ],
   "source": [
    "# Iterating elements in a dictionary\n",
    "countries = {'Korea':'kr', 'Japan':'jp', 'Taiwan':'tw', 'Finland':'fi'}\n",
    "for country, code in countries.items(): \n",
    "    #items == 딕션에 쌍으로 할당된 아이템들을 두 변수에 쌍으로 할당\n",
    "    print(f'The country code of {country} is {code}.')"
   ]
  },
  {
   "cell_type": "code",
   "execution_count": 4,
   "id": "f0e67899",
   "metadata": {},
   "outputs": [
    {
     "name": "stdout",
     "output_type": "stream",
     "text": [
      "Korea Japan Taiwan Finland \n",
      "kr jp tw fi "
     ]
    }
   ],
   "source": [
    "for country in countries.keys():\n",
    "    print(country, end=' ')\n",
    "print()\n",
    "for codes in countries.values():\n",
    "    print(codes, end=' ')\n",
    "#for 반복문 + keys / valuse 메서드를 통해 각각 추출"
   ]
  },
  {
   "cell_type": "code",
   "execution_count": 15,
   "id": "71636a02",
   "metadata": {},
   "outputs": [
    {
     "name": "stdout",
     "output_type": "stream",
     "text": [
      "['Korea', 'Japan', 'Taiwan', 'Finland']\n",
      "[82, 81, 886, 358]\n",
      "([('Korea', 82), ('Japan', 81), ('Taiwan', 886), ('Finland', 358)], [('Korea', 82), ('Japan', 81)])\n"
     ]
    }
   ],
   "source": [
    "c_codes = {'Korea':82, 'Japan':81, 'Taiwan':886, 'Finland':358}\n",
    "print(list(c_codes.keys()))\n",
    "print(list(c_codes.values()))\n",
    "l_countries = list(c_codes.items()) #쌍으로 나오는 것을 리스트안에 넣어준다\n",
    "sliced_c = l_countries, l_countries[:2]\n",
    "print(sliced_c)"
   ]
  },
  {
   "cell_type": "markdown",
   "id": "432d8cf9",
   "metadata": {},
   "source": [
    "(Exercise) Printing the country name and cod without using items method,"
   ]
  },
  {
   "cell_type": "code",
   "execution_count": 17,
   "id": "7289883b",
   "metadata": {},
   "outputs": [
    {
     "name": "stdout",
     "output_type": "stream",
     "text": [
      "The country cod of Korea is kr.\n",
      "The country cod of Japan is jp.\n",
      "The country cod of Taiwan is tw.\n",
      "The country cod of Finland is fi.\n"
     ]
    }
   ],
   "source": [
    "for i, j in zip(countries.keys(), countries.values()):\n",
    "    print(f'The country cod of {i} is {j}.')\n",
    "#zip 메서드로 추출할 수도 있다"
   ]
  },
  {
   "cell_type": "markdown",
   "id": "47ccc3fe",
   "metadata": {},
   "source": [
    "__3. Dictionaries : Sorting and comprehension expressions__"
   ]
  },
  {
   "cell_type": "code",
   "execution_count": 20,
   "id": "c5d94634",
   "metadata": {},
   "outputs": [
    {
     "name": "stdout",
     "output_type": "stream",
     "text": [
      "['Finland', 'Japan', 'Korea', 'Taiwan']\n",
      "['Finland', 'Japan', 'Korea', 'Taiwan']\n",
      "[81, 82, 358, 886]\n",
      "[('Finland', 358), ('Japan', 81), ('Korea', 82), ('Taiwan', 886)]\n"
     ]
    }
   ],
   "source": [
    "#Sorting dictionary items\n",
    "print(sorted(c_codes))\n",
    "print(sorted(c_codes.keys()))\n",
    "print(sorted(c_codes.values()))\n",
    "print(sorted(c_codes.items()))"
   ]
  },
  {
   "cell_type": "code",
   "execution_count": 25,
   "id": "132fe7e4",
   "metadata": {},
   "outputs": [
    {
     "name": "stdout",
     "output_type": "stream",
     "text": [
      "[(81, 'Japan'), (82, 'Korea'), (358, 'Finland'), (886, 'Taiwan')]\n",
      "{'Japan': 27.666666666666668, 'Korea': 26.666666666666668}\n",
      "{'Japan': 81, 'Korea': 82, 'Finland': 358, 'Taiwan': 886}\n"
     ]
    }
   ],
   "source": [
    "#키와 밸류값을 뒤집어줌(스위치), 밸류값이 중복일 때 앞의 것이 사라진다\n",
    "switched = {code: country for country, code in c_codes.items()}\n",
    "print(sorted(switched.items()))\n",
    "\n",
    "temperature = {'Japan':[23, 34, 26], 'Korea':[22, 33, 25]} #밸류값에 리스트 넣기\n",
    "temp_mean = {k: sum(v)/len(v) for k,v in temperature.items()}\n",
    "print(temp_mean)\n",
    "\n",
    "s_value = {k: v for k, v in sorted(c_codes.items(), key=lambda country: country[1])}\n",
    "print(s_value)"
   ]
  },
  {
   "cell_type": "markdown",
   "id": "aa98de4a",
   "metadata": {},
   "source": [
    "(Exercise) Word tokenizing example with a quote from 'I have a dream'"
   ]
  },
  {
   "cell_type": "code",
   "execution_count": 27,
   "id": "36da12b6",
   "metadata": {},
   "outputs": [],
   "source": [
    "dream = \"\"\"I have a dream that one day this nation will rise up and live out the true meaning of its creed We hold these truths to be self-evident that all men are created equal\n",
    "I have a dream that one day on the red hills of Georgia the sons of former slaves and the sons of former slave owners will be able to sit down together at the table of brotherhood\n",
    "I have a dream that one day even the state of Mississippi a state sweltering with the heat of injustice sweltering with the heat of oppression, will be transformed into an oasis of freedom and justice\n",
    "I have a dream that my four little children will one day live in a nation where they will not be judged by the color of their skin but by the content of their character\n",
    "I have a dream today\n",
    "I have a dream that one day, down in Alabama, with its vicious racists, with its governor having his lips dripping with the words of interposition and nullification one day right there in Alabama little black boys and black girls will be able to join hands with little white boys and white girls as sisters and brothers\"\"\""
   ]
  },
  {
   "cell_type": "code",
   "execution_count": 34,
   "id": "8a43cafa",
   "metadata": {
    "scrolled": true
   },
   "outputs": [
    {
     "name": "stdout",
     "output_type": "stream",
     "text": [
      "{'of': 12, 'the': 11, 'a': 8, 'and': 7, 'I': 6, 'have': 6, 'dream': 6, 'that': 6, 'one': 6, 'will': 6, 'with': 6, 'day': 5, 'be': 5, 'its': 3, 'to': 3, 'little': 3, 'in': 3, 'nation': 2, 'live': 2, 'sons': 2, 'former': 2, 'able': 2, 'down': 2, 'state': 2, 'sweltering': 2, 'heat': 2, 'by': 2, 'their': 2, 'black': 2, 'boys': 2, 'girls': 2, 'white': 2, 'this': 1, 'rise': 1, 'up': 1, 'out': 1, 'true': 1, 'meaning': 1, 'creed': 1, 'We': 1, 'hold': 1, 'these': 1, 'truths': 1, 'self-evident': 1, 'all': 1, 'men': 1, 'are': 1, 'created': 1, 'equal': 1, 'on': 1, 'red': 1, 'hills': 1, 'Georgia': 1, 'slaves': 1, 'slave': 1, 'owners': 1, 'sit': 1, 'together': 1, 'at': 1, 'table': 1, 'brotherhood': 1, 'even': 1, 'Mississippi': 1, 'injustice': 1, 'oppression,': 1, 'transformed': 1, 'into': 1, 'an': 1, 'oasis': 1, 'freedom': 1, 'justice': 1, 'my': 1, 'four': 1, 'children': 1, 'where': 1, 'they': 1, 'not': 1, 'judged': 1, 'color': 1, 'skin': 1, 'but': 1, 'content': 1, 'character': 1, 'today': 1, 'day,': 1, 'Alabama,': 1, 'vicious': 1, 'racists,': 1, 'governor': 1, 'having': 1, 'his': 1, 'lips': 1, 'dripping': 1, 'words': 1, 'interposition': 1, 'nullification': 1, 'right': 1, 'there': 1, 'Alabama': 1, 'join': 1, 'hands': 1, 'as': 1, 'sisters': 1, 'brothers': 1}\n"
     ]
    }
   ],
   "source": [
    "dream_words = dream.split() #split 기능은 문장을 단어로 분리하는 기능이다\n",
    "#print(dream_words) #리스트가 만들어졌다\n",
    "wordlist = {}\n",
    "for word in dream_words:\n",
    "    if word in wordlist:\n",
    "        wordlist[word] += 1\n",
    "    else:\n",
    "        wordlist[word] = 1\n",
    "#print(wordlist, len(wordlist))\n",
    "swl_byvalue = {k: v for k, v in sorted(wordlist.items(), key = lambda i : i[1], reverse = True)}\n",
    "#밸류값으로 소팅, 순서는 내림차순, 가장 많이 나온 순서대로 추출\n",
    "print(swl_byvalue)"
   ]
  },
  {
   "cell_type": "code",
   "execution_count": 35,
   "id": "5ac53fa2",
   "metadata": {},
   "outputs": [
    {
     "name": "stdout",
     "output_type": "stream",
     "text": [
      "WORD            COUNT\n",
      "of              12\n",
      "the             11\n",
      "a               8\n",
      "and             7\n",
      "I               6\n",
      "have            6\n",
      "dream           6\n",
      "that            6\n",
      "one             6\n",
      "will            6\n",
      "with            6\n",
      "\n",
      "Number of unique words:  104\n"
     ]
    }
   ],
   "source": [
    "print(f'{\"WORD\":<16}COUNT') #제목, 왼쪽으로 16칸 정렬\n",
    "\n",
    "for word, count in swl_byvalue.items(): #word와 count라는 변수에 swl_byvalue 쌍으로 할당\n",
    "    if count >= 6: #6개 이상만 추출\n",
    "        print(f'{word:<16}{count}')\n",
    "print('\\nNumber of unique words: ', len(wordlist))"
   ]
  },
  {
   "cell_type": "code",
   "execution_count": 37,
   "id": "c3df8b2c",
   "metadata": {},
   "outputs": [
    {
     "name": "stdout",
     "output_type": "stream",
     "text": [
      "Counter({'of': 12, 'the': 11, 'a': 8, 'and': 7, 'I': 6, 'have': 6, 'dream': 6, 'that': 6, 'one': 6, 'will': 6, 'with': 6, 'day': 5, 'be': 5, 'its': 3, 'to': 3, 'little': 3, 'in': 3, 'nation': 2, 'live': 2, 'sons': 2, 'former': 2, 'able': 2, 'down': 2, 'state': 2, 'sweltering': 2, 'heat': 2, 'by': 2, 'their': 2, 'black': 2, 'boys': 2, 'girls': 2, 'white': 2, 'this': 1, 'rise': 1, 'up': 1, 'out': 1, 'true': 1, 'meaning': 1, 'creed': 1, 'We': 1, 'hold': 1, 'these': 1, 'truths': 1, 'self-evident': 1, 'all': 1, 'men': 1, 'are': 1, 'created': 1, 'equal': 1, 'on': 1, 'red': 1, 'hills': 1, 'Georgia': 1, 'slaves': 1, 'slave': 1, 'owners': 1, 'sit': 1, 'together': 1, 'at': 1, 'table': 1, 'brotherhood': 1, 'even': 1, 'Mississippi': 1, 'injustice': 1, 'oppression,': 1, 'transformed': 1, 'into': 1, 'an': 1, 'oasis': 1, 'freedom': 1, 'justice': 1, 'my': 1, 'four': 1, 'children': 1, 'where': 1, 'they': 1, 'not': 1, 'judged': 1, 'color': 1, 'skin': 1, 'but': 1, 'content': 1, 'character': 1, 'today': 1, 'day,': 1, 'Alabama,': 1, 'vicious': 1, 'racists,': 1, 'governor': 1, 'having': 1, 'his': 1, 'lips': 1, 'dripping': 1, 'words': 1, 'interposition': 1, 'nullification': 1, 'right': 1, 'there': 1, 'Alabama': 1, 'join': 1, 'hands': 1, 'as': 1, 'sisters': 1, 'brothers': 1})\n",
      "WORD            COUNT\n",
      "of              12\n",
      "the             11\n",
      "a               8\n",
      "and             7\n",
      "I               6\n",
      "have            6\n",
      "dream           6\n",
      "that            6\n",
      "one             6\n",
      "will            6\n",
      "with            6\n",
      "\n",
      "Number of unique words:  104\n"
     ]
    }
   ],
   "source": [
    "from collections import Counter\n",
    "\n",
    "wordlist1 = Counter(dream_words) #카운터함수를 활용하여 리스트안에 파싱(parsing)\n",
    "print(wordlist1)\n",
    "sorted_wl1 = {k: v for k, v in sorted(wordlist.items(), key = lambda i : i[1], reverse = True)}\n",
    "\n",
    "print(f'{\"WORD\":<16}COUNT')\n",
    "for word, count in sorted_wl1.items():\n",
    "    if count >= 6:\n",
    "        print(f'{word:<16}{count}')\n",
    "print('\\nNumber of unique words: ', len(wordlist1))"
   ]
  },
  {
   "cell_type": "markdown",
   "id": "8ab37440",
   "metadata": {},
   "source": [
    "__4. Sets : Creation and modification__"
   ]
  },
  {
   "cell_type": "code",
   "execution_count": 38,
   "id": "03e3557d",
   "metadata": {},
   "outputs": [
    {
     "name": "stdout",
     "output_type": "stream",
     "text": [
      "{'May', 'June', 'Febuary', 'January', 'March', 'April', 'February'}\n"
     ]
    }
   ],
   "source": [
    "Months = {'January', 'February', 'Febuary', 'March','April','May','June'}\n",
    "print(Months)\n",
    "#함수(set)는 중복불가, 순서없음"
   ]
  },
  {
   "cell_type": "code",
   "execution_count": 40,
   "id": "f7b9ae5b",
   "metadata": {},
   "outputs": [
    {
     "name": "stdout",
     "output_type": "stream",
     "text": [
      "{0, 1, 2, 3, 4, 5, 6, 7, 8, 9, 10, 11, 12, 13, 14}\n",
      "15\n",
      "True\n"
     ]
    }
   ],
   "source": [
    "digits = set(list(range(10))+list(range(5,15))) #0~9까지의 리스트 + 5~14까지의 리스트\n",
    "print(digits) #중복된 5,6,7,8,9\n",
    "print(len(digits))\n",
    "print(10 in digits) #있냐 없냐"
   ]
  },
  {
   "cell_type": "code",
   "execution_count": 42,
   "id": "da3ec5fc",
   "metadata": {},
   "outputs": [
    {
     "name": "stdout",
     "output_type": "stream",
     "text": [
      "{0, 1, 2, 3, 4, 5, 6, 7, 9, 10, 11, 12, 13, 14}\n"
     ]
    }
   ],
   "source": [
    "digits.remove(8) #삭제\n",
    "print(digits)"
   ]
  },
  {
   "cell_type": "code",
   "execution_count": 43,
   "id": "4f496090",
   "metadata": {},
   "outputs": [
    {
     "name": "stdout",
     "output_type": "stream",
     "text": [
      "set()\n"
     ]
    }
   ],
   "source": [
    "digits.clear() #비움\n",
    "print(digits)"
   ]
  },
  {
   "cell_type": "code",
   "execution_count": 45,
   "id": "8a5506b9",
   "metadata": {},
   "outputs": [
    {
     "name": "stdout",
     "output_type": "stream",
     "text": [
      "{0, 1, 2, 3, 4, 5, 6, 7, 8, 9}\n"
     ]
    }
   ],
   "source": [
    "digits.update(range(10)) #업데이트\n",
    "print(digits)"
   ]
  },
  {
   "cell_type": "markdown",
   "id": "dc430f7b",
   "metadata": {},
   "source": [
    "__5. Sets : Operations and comprehension__"
   ]
  },
  {
   "cell_type": "code",
   "execution_count": 48,
   "id": "5291974c",
   "metadata": {},
   "outputs": [
    {
     "name": "stdout",
     "output_type": "stream",
     "text": [
      "True\n",
      "True\n",
      "{1, 2, 3, 4, 5, 6, 7}\n",
      "{1, 2, 3}\n",
      "set()\n",
      "{4, 5, 6, 7}\n"
     ]
    }
   ],
   "source": [
    "print({1,2,3} <= {1,2,3,4,5,6,7}) #왼쪽 집합이 오른쪽 집합에 포함되어있냐(부분집합)?\n",
    "print({1,2,3} <= {1,2,3})\n",
    "print({1,2,3} | {1,2,3,4,5,6,7}) #합집합\n",
    "print({1,2,3} & {1,2,3,4,5,6,7}) #교집합\n",
    "print({1,2,3} - {1,2,3,4,5,6,7}) #여집합\n",
    "print({1,2,3,4,5,6,7} - {1,2,3}) #차집합"
   ]
  },
  {
   "cell_type": "code",
   "execution_count": 49,
   "id": "cf20d3d2",
   "metadata": {},
   "outputs": [
    {
     "name": "stdout",
     "output_type": "stream",
     "text": [
      "{1, 3, 5, 7, 9}\n"
     ]
    }
   ],
   "source": [
    "odds = {i for i in digits if i%2 != 0}\n",
    "print(odds)"
   ]
  },
  {
   "cell_type": "code",
   "execution_count": 55,
   "id": "ebf33843",
   "metadata": {},
   "outputs": [
    {
     "data": {
      "text/plain": [
       "{0, 1, 2, 3, 4}"
      ]
     },
     "execution_count": 55,
     "metadata": {},
     "output_type": "execute_result"
    }
   ],
   "source": [
    "B = set(range(10))\n",
    "C = set(range(5, 15))\n",
    "B-C"
   ]
  },
  {
   "cell_type": "code",
   "execution_count": null,
   "id": "693966c2",
   "metadata": {},
   "outputs": [],
   "source": []
  },
  {
   "cell_type": "code",
   "execution_count": null,
   "id": "ae187bc7",
   "metadata": {},
   "outputs": [],
   "source": []
  },
  {
   "cell_type": "code",
   "execution_count": null,
   "id": "7f33ed89",
   "metadata": {},
   "outputs": [],
   "source": []
  }
 ],
 "metadata": {
  "kernelspec": {
   "display_name": "Python 3",
   "language": "python",
   "name": "python3"
  },
  "language_info": {
   "codemirror_mode": {
    "name": "ipython",
    "version": 3
   },
   "file_extension": ".py",
   "mimetype": "text/x-python",
   "name": "python",
   "nbconvert_exporter": "python",
   "pygments_lexer": "ipython3",
   "version": "3.8.8"
  }
 },
 "nbformat": 4,
 "nbformat_minor": 5
}
