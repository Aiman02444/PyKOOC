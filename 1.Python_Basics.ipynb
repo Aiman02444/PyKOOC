{
 "cells": [
  {
   "cell_type": "markdown",
   "id": "4119c5d8",
   "metadata": {},
   "source": [
    "## Python Basics\n",
    "#의 이름 == Hash sign"
   ]
  },
  {
   "cell_type": "markdown",
   "id": "c57e8f56",
   "metadata": {},
   "source": [
    "__1. Correct indentation and strings__\n",
    "앞뒤로 __를 넣어주면 번호(순서)표기"
   ]
  },
  {
   "cell_type": "markdown",
   "id": "2873d96d",
   "metadata": {},
   "source": [
    "- strings are used for storing and representing text data.\n",
    "앞에 -를 넣으면 떙떙이"
   ]
  },
  {
   "cell_type": "code",
   "execution_count": 4,
   "id": "6c270535",
   "metadata": {},
   "outputs": [
    {
     "ename": "IndentationError",
     "evalue": "unexpected indent (Temp/ipykernel_28684/3340061167.py, line 2)",
     "output_type": "error",
     "traceback": [
      "\u001b[1;36m  File \u001b[1;32m\"C:\\Users\\82109\\AppData\\Local\\Temp/ipykernel_28684/3340061167.py\"\u001b[1;36m, line \u001b[1;32m2\u001b[0m\n\u001b[1;33m    print(\"Course name \\nis Practical Python\")\u001b[0m\n\u001b[1;37m    ^\u001b[0m\n\u001b[1;31mIndentationError\u001b[0m\u001b[1;31m:\u001b[0m unexpected indent\n"
     ]
    }
   ],
   "source": [
    "print('This Kooc is an excellent course')\n",
    "    print(\"Course name \\nis Practical Python\")\n",
    "print(\"Those who don't take this Kooc would regret their decisions\")\n",
    "# \\n은 줄바꿈"
   ]
  },
  {
   "cell_type": "markdown",
   "id": "892efab3",
   "metadata": {},
   "source": [
    "__2. Integers, floats and decimal : using Python as a calculator__"
   ]
  },
  {
   "cell_type": "markdown",
   "id": "4ee42797",
   "metadata": {},
   "source": [
    "- Variable names are identifiers, so they follow the rules of identifier.\n",
    "- Variables store values such as strings, numbers, and other data types.\n",
    "- Use a hash, #, to write memos in a line."
   ]
  },
  {
   "cell_type": "code",
   "execution_count": 5,
   "id": "ec9657ee",
   "metadata": {},
   "outputs": [
    {
     "data": {
      "text/plain": [
       "40"
      ]
     },
     "execution_count": 5,
     "metadata": {},
     "output_type": "execute_result"
    }
   ],
   "source": [
    "23+17"
   ]
  },
  {
   "cell_type": "code",
   "execution_count": 6,
   "id": "2376ab15",
   "metadata": {},
   "outputs": [
    {
     "data": {
      "text/plain": [
       "0.6666666666666666"
      ]
     },
     "execution_count": 6,
     "metadata": {},
     "output_type": "execute_result"
    }
   ],
   "source": [
    "2/3"
   ]
  },
  {
   "cell_type": "code",
   "execution_count": 10,
   "id": "31950247",
   "metadata": {},
   "outputs": [
    {
     "name": "stdout",
     "output_type": "stream",
     "text": [
      "40\n",
      "40 6 391 1.3529411764705883\n"
     ]
    }
   ],
   "source": [
    "x = 23 ; y = 17\n",
    "print(x + y)\n",
    "print(x + y, x - y, x * y, x/y) #프린트 안에 여러 개의 수식을 넣을 수 있다.\n",
    "# 세미콜론 ;을 사용하면, 두 줄을 한 줄에 사용할 수 있다(줄이 길어질 수록 비효율적)"
   ]
  },
  {
   "cell_type": "markdown",
   "id": "a60bed01",
   "metadata": {},
   "source": [
    "__3. Data types and simple use of print function__"
   ]
  },
  {
   "cell_type": "code",
   "execution_count": 18,
   "id": "2f493221",
   "metadata": {},
   "outputs": [
    {
     "name": "stdout",
     "output_type": "stream",
     "text": [
      "y + z=  12.5\n",
      "y - z=  -2.5\n",
      "y * z=  37.5\n",
      "y / z=  0.6666666666666666\n",
      "y **2 = 56.25\n",
      "z//y = 1.0\n",
      "z%y = 2.5\n",
      "<class 'int'>\n",
      "<class 'float'>\n"
     ]
    }
   ],
   "source": [
    "y = 5\n",
    "z = 7.5\n",
    "print(\"y + z= \", y + z)\n",
    "print(\"y - z= \", y - z)\n",
    "print(\"y * z= \", y * z)\n",
    "print(\"y / z= \", y / z)\n",
    "print(\"y **2 =\", z**2)\n",
    "print(\"z//y =\", z//y)\n",
    "print(\"z%y =\", z%y)\n",
    "#//는 몫, %=는 나머지\n",
    "print(type(y))\n",
    "print(type(z))"
   ]
  },
  {
   "cell_type": "markdown",
   "id": "d65e7810",
   "metadata": {},
   "source": [
    "__4. String, Boolean, and triple quoted strings__"
   ]
  },
  {
   "cell_type": "markdown",
   "id": "04eb678a",
   "metadata": {},
   "source": [
    "- Boolean expression\n",
    "- \"\"\" are used to write multiple line strings\"\"\"\n",
    "- is also used for docstrings."
   ]
  },
  {
   "cell_type": "code",
   "execution_count": 19,
   "id": "0191bf6d",
   "metadata": {},
   "outputs": [
    {
     "name": "stdout",
     "output_type": "stream",
     "text": [
      "True\n",
      "False\n",
      "<class 'bool'> True\n"
     ]
    }
   ],
   "source": [
    "print(7 > 3)\n",
    "print(3 > 7)\n",
    "x = 7 > 3\n",
    "print(type(x), x)"
   ]
  },
  {
   "cell_type": "code",
   "execution_count": 22,
   "id": "e20169bb",
   "metadata": {},
   "outputs": [
    {
     "data": {
      "text/plain": [
       "'Triple quoted strings are used to write multiple line string.\\nThis is an example of a doc string.'"
      ]
     },
     "execution_count": 22,
     "metadata": {},
     "output_type": "execute_result"
    }
   ],
   "source": [
    "\"\"\"Triple quoted strings are used to write multiple line string.\n",
    "This is an example of a doc string.\"\"\""
   ]
  },
  {
   "cell_type": "code",
   "execution_count": 21,
   "id": "17901252",
   "metadata": {},
   "outputs": [
    {
     "data": {
      "text/plain": [
       "'\\na + b = c\\nd + e = g\\n'"
      ]
     },
     "execution_count": 21,
     "metadata": {},
     "output_type": "execute_result"
    }
   ],
   "source": [
    "\"\"\"\n",
    "a + b = c\n",
    "d + e = g\n",
    "\"\"\""
   ]
  },
  {
   "cell_type": "markdown",
   "id": "05845894",
   "metadata": {},
   "source": [
    "__5. Taking input valus__"
   ]
  },
  {
   "cell_type": "code",
   "execution_count": 23,
   "id": "a63d719b",
   "metadata": {},
   "outputs": [
    {
     "name": "stdout",
     "output_type": "stream",
     "text": [
      "What is your name?이상재\n",
      "이상재\n"
     ]
    }
   ],
   "source": [
    "your_name = input('What is your name?')\n",
    "print(your_name)"
   ]
  },
  {
   "cell_type": "code",
   "execution_count": 31,
   "id": "5dccc96a",
   "metadata": {},
   "outputs": [
    {
     "name": "stdout",
     "output_type": "stream",
     "text": [
      "How old are you?25\n",
      "25 <class 'str'>\n"
     ]
    }
   ],
   "source": [
    "your_age = input('How old are you?')\n",
    "print(your_age, type(your_age))"
   ]
  },
  {
   "cell_type": "code",
   "execution_count": 32,
   "id": "c0cde868",
   "metadata": {},
   "outputs": [
    {
     "name": "stdout",
     "output_type": "stream",
     "text": [
      "How old am I?20\n",
      "2520\n"
     ]
    }
   ],
   "source": [
    "my_age = input('How old am I?')\n",
    "print(your_age+my_age) #문자열의 연산, 그대로 연결(concatenatino)"
   ]
  },
  {
   "cell_type": "code",
   "execution_count": 33,
   "id": "8487cd63",
   "metadata": {},
   "outputs": [
    {
     "name": "stdout",
     "output_type": "stream",
     "text": [
      "45\n"
     ]
    }
   ],
   "source": [
    "print(int(your_age)+int(my_age)) #정수형으로 형변환"
   ]
  },
  {
   "cell_type": "code",
   "execution_count": 35,
   "id": "7a31e796",
   "metadata": {},
   "outputs": [
    {
     "data": {
      "text/plain": [
       "21"
      ]
     },
     "execution_count": 35,
     "metadata": {},
     "output_type": "execute_result"
    }
   ],
   "source": [
    "int(21.8) #float -> int"
   ]
  },
  {
   "cell_type": "code",
   "execution_count": 36,
   "id": "cd5a2a97",
   "metadata": {},
   "outputs": [
    {
     "name": "stdout",
     "output_type": "stream",
     "text": [
      "45.0\n"
     ]
    }
   ],
   "source": [
    "print(float(your_age)+float(my_age)) #유리수형으로 형변환"
   ]
  },
  {
   "cell_type": "markdown",
   "id": "cda848c3",
   "metadata": {},
   "source": [
    "__6. If clause and comparison operators__\n",
    "\n",
    "[comparison operators]\n",
    "\n",
    "- x >, <, >=, <=, ==, !=\n",
    "`\n",
    "[If clause]\n",
    "- if, elif, else"
   ]
  },
  {
   "cell_type": "code",
   "execution_count": 2,
   "id": "f442ad5b",
   "metadata": {},
   "outputs": [
    {
     "name": "stdout",
     "output_type": "stream",
     "text": [
      "Enter an integer1\n",
      "x has a value of 1\n"
     ]
    }
   ],
   "source": [
    "x = int(input('Enter an integer'))\n",
    "\n",
    "if x == 1:\n",
    "    print('x has a value of 1')\n",
    "else:\n",
    "    print('x does not have a value of 1')"
   ]
  },
  {
   "cell_type": "code",
   "execution_count": 3,
   "id": "f18eb45d",
   "metadata": {},
   "outputs": [
    {
     "name": "stdout",
     "output_type": "stream",
     "text": [
      "Enter the first integer1\n",
      "Enter the sencond integer2\n",
      "The second integer is positive and its value is 2\n"
     ]
    }
   ],
   "source": [
    "var1 = int(input('Enter the first integer'))\n",
    "if var1 < 0:\n",
    "    print('The first integer is', var1, 'and its value is negative.')\n",
    "\n",
    "var2 = int(input('Enter the sencond integer'))\n",
    "if var2 < 0:\n",
    "    print('The second integer is negative', 'and its value is', var2)\n",
    "else:\n",
    "    print('The second integer is positive', 'and its value is', var2)"
   ]
  },
  {
   "cell_type": "markdown",
   "id": "ce1b5547",
   "metadata": {},
   "source": [
    "__7. Dynamic value assingment and type changing__\n",
    "- What happens if you assing different values for the same variable?"
   ]
  },
  {
   "cell_type": "code",
   "execution_count": 5,
   "id": "d475b01c",
   "metadata": {},
   "outputs": [
    {
     "name": "stdout",
     "output_type": "stream",
     "text": [
      "1 <class 'int'>\n",
      "2.5 <class 'float'>\n",
      "Android <class 'str'>\n"
     ]
    }
   ],
   "source": [
    "print(x, type(x))\n",
    "\n",
    "x = 2.5\n",
    "print(x, type(x))\n",
    "\n",
    "x = 'Android'\n",
    "print(x, type(x))\n",
    "#=> 기본 파이썬은 변수의 '값'뿐만 아니라 '데이터타입'에 대한 정보를 모두 저장한다!"
   ]
  },
  {
   "cell_type": "markdown",
   "id": "3970690c",
   "metadata": {},
   "source": [
    "__8. Multiple statements on a single line__\n",
    "- seperate two command lines with semicolon"
   ]
  },
  {
   "cell_type": "code",
   "execution_count": 6,
   "id": "1ecb14eb",
   "metadata": {},
   "outputs": [
    {
     "name": "stdout",
     "output_type": "stream",
     "text": [
      "hello!\n",
      "this is kooc content \n",
      "for python basics.\n"
     ]
    }
   ],
   "source": [
    "print(\"hello!\"); print('this is kooc content \\nfor python basics.')"
   ]
  },
  {
   "cell_type": "code",
   "execution_count": null,
   "id": "0ef07888",
   "metadata": {},
   "outputs": [],
   "source": []
  }
 ],
 "metadata": {
  "kernelspec": {
   "display_name": "Python 3",
   "language": "python",
   "name": "python3"
  },
  "language_info": {
   "codemirror_mode": {
    "name": "ipython",
    "version": 3
   },
   "file_extension": ".py",
   "mimetype": "text/x-python",
   "name": "python",
   "nbconvert_exporter": "python",
   "pygments_lexer": "ipython3",
   "version": "3.8.8"
  }
 },
 "nbformat": 4,
 "nbformat_minor": 5
}
