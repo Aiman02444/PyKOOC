{
 "cells": [
  {
   "cell_type": "markdown",
   "id": "fd93db82",
   "metadata": {},
   "source": [
    "# Python : Control Statements\n",
    "- control statements : if, elif, else, while, for, break and continue\n",
    "- Additionally, we learn formatted strings, augmented assignments"
   ]
  },
  {
   "cell_type": "markdown",
   "id": "90a38d2f",
   "metadata": {},
   "source": [
    "__1. if, elif, else__"
   ]
  },
  {
   "cell_type": "code",
   "execution_count": 18,
   "id": "0dc0a4a7",
   "metadata": {},
   "outputs": [
    {
     "name": "stdout",
     "output_type": "stream",
     "text": [
      "Type your weight20\n",
      "thin \n",
      "Eat more!\n"
     ]
    }
   ],
   "source": [
    "weight = int(input('Type your weight'))\n",
    "\n",
    "if weight >= 90:\n",
    "    print('fat!', 'Exercise!')\n",
    "elif weight >= 60:\n",
    "    print('normal')\n",
    "else:\n",
    "    print('thin \\nEat more!')"
   ]
  },
  {
   "cell_type": "code",
   "execution_count": 19,
   "id": "cdf20080",
   "metadata": {},
   "outputs": [
    {
     "name": "stdout",
     "output_type": "stream",
     "text": [
      "Enter a grade85\n",
      "B\n"
     ]
    }
   ],
   "source": [
    "grade = float(input('Enter a grade'))\n",
    "\n",
    "if grade >= 90:\n",
    "    print('A')\n",
    "elif grade >= 80:\n",
    "    print('B')\n",
    "elif grade >= 70:\n",
    "    print('C')\n",
    "elif grade >= 60:\n",
    "    print('D')\n",
    "else:\n",
    "    print('F')\n",
    "#else는 바로 앞 if의 조건 외의 모든 것을 출력한다\n",
    "#=> 여러 범위가 지정된 if문에는 else를 사용하지 말자"
   ]
  },
  {
   "cell_type": "code",
   "execution_count": 20,
   "id": "d9f2f375",
   "metadata": {},
   "outputs": [
    {
     "name": "stdout",
     "output_type": "stream",
     "text": [
      "Type your weight in kg55\n",
      "Type your height in cm155\n",
      "thin! \n",
      "Eat more!\n"
     ]
    }
   ],
   "source": [
    "weight = int(input('Type your weight in kg'))\n",
    "height = int(input('Type your height in cm'))\n",
    "\n",
    "if weight >= 90 and height <= 150:\n",
    "    print('fat!', 'Exercise!')\n",
    "elif weight >= 60 or 160 <= height < 180:\n",
    "    print('normal')\n",
    "else:\n",
    "    print('thin! \\nEat more!')"
   ]
  },
  {
   "cell_type": "markdown",
   "id": "7e191c38",
   "metadata": {},
   "source": [
    "__2. while statemet__\n",
    "\n",
    "- iteration, repeating the same suite, continues as long as condition remains true.\n",
    "- sentinel-controlled iteration : repeats untila a sentinal(flag, signal) value appears."
   ]
  },
  {
   "cell_type": "code",
   "execution_count": 21,
   "id": "839348aa",
   "metadata": {},
   "outputs": [
    {
     "name": "stdout",
     "output_type": "stream",
     "text": [
      "2\n",
      "4\n",
      "8\n",
      "16\n",
      "32\n",
      "64\n",
      "128\n"
     ]
    }
   ],
   "source": [
    "k = 1\n",
    "\n",
    "while k <= 100:\n",
    "    k = k*2\n",
    "    print(k)\n",
    "#통제문은 항상 콜론(:)이 따라오며, 그 다음 문장은 indentation(들여쓰기)를 한다!"
   ]
  },
  {
   "cell_type": "code",
   "execution_count": 22,
   "id": "15afc484",
   "metadata": {},
   "outputs": [
    {
     "name": "stdout",
     "output_type": "stream",
     "text": [
      "9 8 7 6 5 4 3 2 1 0 "
     ]
    }
   ],
   "source": [
    "l = 10\n",
    "while I > 0:\n",
    "    l = l - 1\n",
    "    print(l, end=' ') #printing horizontally\n",
    "    #print만 하면 밑으로 찍는다, end=''는 옆으로 찍는다"
   ]
  },
  {
   "cell_type": "code",
   "execution_count": 27,
   "id": "1e802e08",
   "metadata": {},
   "outputs": [
    {
     "name": "stdout",
     "output_type": "stream",
     "text": [
      "Enter grade or -1 to end: 100\n",
      "Enter grade or -1 to end: 90\n",
      "Enter grade or -1 to end: 80\n",
      "Enter grade or -1 to end: 70\n",
      "Enter grade or -1 to end: 50\n",
      "Enter grade or -1 to end: -1\n",
      "Total grade is 390\n",
      "The number of student is 5\n",
      "Class Average is 78.0\n"
     ]
    }
   ],
   "source": [
    "total = 0\n",
    "counter = 0\n",
    "\n",
    "grade = int(input('Enter grade or -1 to end: '))\n",
    "\n",
    "while grade != -1:\n",
    "    total += grade\n",
    "    counter += 1\n",
    "    grade = int(input('Enter grade or -1 to end: '))\n",
    "    \n",
    "if counter != 0:\n",
    "    average = total/counter\n",
    "    print('Total grade is', total)\n",
    "    print('The number of student is', counter)\n",
    "    print(f'Class Average is {average}') \n",
    "    # formattied string, f-string \n",
    "    #f를 쓰고 중괄호{}를 넣어주면 그 값을 출력한다\n",
    "else:\n",
    "          print('No grades were entered')"
   ]
  },
  {
   "cell_type": "markdown",
   "id": "57d042a5",
   "metadata": {},
   "source": [
    "__3. For loop for iteration\n",
    "- Collection based iteration\n",
    "- Repeat actions for eacg item in a sequence of items."
   ]
  },
  {
   "cell_type": "code",
   "execution_count": 32,
   "id": "50d02b3c",
   "metadata": {},
   "outputs": [
    {
     "name": "stdout",
     "output_type": "stream",
     "text": [
      "item : 1\n",
      "item : 2\n",
      "item : 3\n",
      "item : 4\n",
      "item : 5\n",
      "letters : A\n",
      "letters : B\n",
      "letters : C\n",
      "letters : D\n"
     ]
    },
    {
     "data": {
      "text/plain": [
       "'\\nfor : 주어진 정보를 순차적으로 접근, 고갈시 반복 종료\\nwhile : 조건이 충족되는 한 반복\\n'"
      ]
     },
     "execution_count": 32,
     "metadata": {},
     "output_type": "execute_result"
    }
   ],
   "source": [
    "for a in [1, 2, 3, 4, 5]: \n",
    "#list[] : 다양한 데이터 타입(수, 문자, 단어 등)을 담을 수 있는 유연한 배열\n",
    "    print('item :', a)\n",
    "# a는 인덱스일 뿐...\n",
    "    \n",
    "letters = ['A','B','C','D']\n",
    "for i in letters:\n",
    "    print('letters :', i)\n",
    "    \n",
    "\"\"\"\n",
    "for : 주어진 정보를 순차적으로 접근, 고갈시 반복 종료\n",
    "while : 조건이 충족되는 한 반복\n",
    "\"\"\""
   ]
  },
  {
   "cell_type": "code",
   "execution_count": 40,
   "id": "6f2dc1f7",
   "metadata": {},
   "outputs": [
    {
     "name": "stdout",
     "output_type": "stream",
     "text": [
      "Each letter : A\n",
      "Each letter : B\n",
      "Each letter : C\n",
      "Each letter : D\n",
      "PythonProgramming\n",
      "25\n"
     ]
    }
   ],
   "source": [
    "for i in range(len(letters)):\n",
    "    print('Each letter :', letters[i])\n",
    "#len = length, 그 값만큼의 길이 또는 수치\n",
    "    \n",
    "for i in 'PythonProgramming':\n",
    "    print(i, end='')\n",
    "    \n",
    "print() #줄바꿈\n",
    "\n",
    "total = 0\n",
    "for number in [2, -3, 0, 17, 9]:\n",
    "    #total = total + number\n",
    "    total += number \n",
    "print(total)"
   ]
  },
  {
   "cell_type": "markdown",
   "id": "930af4ed",
   "metadata": {},
   "source": [
    "__4. augmented assignment__"
   ]
  },
  {
   "cell_type": "markdown",
   "id": "307eade0",
   "metadata": {},
   "source": [
    "- += -= *= **= /= //= %="
   ]
  },
  {
   "cell_type": "code",
   "execution_count": 43,
   "id": "fe060d85",
   "metadata": {},
   "outputs": [
    {
     "name": "stdout",
     "output_type": "stream",
     "text": [
      "0 1 2 3 4 5 6 7 8 9 "
     ]
    },
    {
     "data": {
      "text/plain": [
       "45"
      ]
     },
     "execution_count": 43,
     "metadata": {},
     "output_type": "execute_result"
    }
   ],
   "source": [
    "total = 0\n",
    "for i in range(10):\n",
    "    print(i, end=' ')\n",
    "    total += i\n",
    "total\n",
    "# 빌트인함수의 이름을 절대 변수명으로 사용하지 말자 !!\n",
    "# 빌트인함수를 사용할 수 없다!!"
   ]
  },
  {
   "cell_type": "markdown",
   "id": "12bbe3c3",
   "metadata": {},
   "source": [
    "__5. Making a for loop with augmented assignments__"
   ]
  },
  {
   "cell_type": "code",
   "execution_count": 45,
   "id": "ce7c08d4",
   "metadata": {},
   "outputs": [
    {
     "name": "stdout",
     "output_type": "stream",
     "text": [
      "Class average is 81.7\n",
      "Average is 81.70\n"
     ]
    }
   ],
   "source": [
    "total = 0\n",
    "NumStudents = 0\n",
    "grades = [98, 76, 71, 87, 83, 90, 57, 79, 82, 94]\n",
    "for i in grades:\n",
    "    total += i\n",
    "    NumStudents += 1\n",
    "average = total/NumStudents\n",
    "print(f'Class average is {average}')\n",
    "print(f'Average is {total/NumStudents:.2f}')\n",
    "#f string : formatted string을 이용하여 문자열 내 변수를 넣을 수 있다\n",
    "# :.2f == 소수점 2자리까지 표시하라"
   ]
  },
  {
   "cell_type": "markdown",
   "id": "251f7273",
   "metadata": {},
   "source": [
    "__6. A built in function, range"
   ]
  },
  {
   "cell_type": "code",
   "execution_count": 48,
   "id": "7d8d4852",
   "metadata": {},
   "outputs": [
    {
     "name": "stdout",
     "output_type": "stream",
     "text": [
      "7, 8, 9, 10, 11, 12, 13, 14, 15, 16, 17, 18, 19, \n",
      "10, 13, 16, 19, \n",
      "15, 13, 11, 9, 7, 5, 3, 1, "
     ]
    }
   ],
   "source": [
    " for i in range(7, 20): #소괄호속 숫자만큼의 '정수를 만들어내는 function'\n",
    "    print(i, end = ', ')\n",
    "    \n",
    "print()\n",
    "for i in range(10, 20, 3):\n",
    "    print(i, end=', ')\n",
    "    \n",
    "print()\n",
    "for i in range(15, 0, -2):\n",
    "    print(i, end=', ')"
   ]
  },
  {
   "cell_type": "markdown",
   "id": "a72c6b3a",
   "metadata": {},
   "source": [
    "__7. Advanced use of while and for loops\n",
    "\n",
    "- Break : terminates loops immediately. 즉시 전체 반복을 종료\n",
    "- Continue : terminates loops immediately, jumps to the top of the loop and continues. 현재 진행중인 반복을 '건너뛰고' 다음 반복을 실행\n",
    "- In while and for loops, else can be used."
   ]
  },
  {
   "cell_type": "code",
   "execution_count": 49,
   "id": "704b9e32",
   "metadata": {},
   "outputs": [
    {
     "name": "stdout",
     "output_type": "stream",
     "text": [
      "9 8 7 6 5 4 3 2 1 0 \n",
      "Loop ended 0\n"
     ]
    }
   ],
   "source": [
    "l = 10\n",
    "while l > 0:\n",
    "    l = l-1\n",
    "    print(l, end=' ')\n",
    "print()\n",
    "print('Loop ended', l)"
   ]
  },
  {
   "cell_type": "code",
   "execution_count": 50,
   "id": "84ca51f5",
   "metadata": {},
   "outputs": [
    {
     "name": "stdout",
     "output_type": "stream",
     "text": [
      "9 8 7 6 \n",
      "Loop ended 5\n"
     ]
    }
   ],
   "source": [
    "l = 10\n",
    "while l > 0:\n",
    "    l = l-1\n",
    "    if l ==5:\n",
    "        break\n",
    "    print(l, end=' ')\n",
    "print()\n",
    "print('Loop ended', l)"
   ]
  },
  {
   "cell_type": "code",
   "execution_count": 51,
   "id": "33ab5184",
   "metadata": {},
   "outputs": [
    {
     "name": "stdout",
     "output_type": "stream",
     "text": [
      "9 8 7 6 4 3 2 1 0 \n",
      "Loop ended 0\n"
     ]
    }
   ],
   "source": [
    "l = 10\n",
    "while l > 0:\n",
    "    l = l-1\n",
    "    if l ==5:\n",
    "        continue\n",
    "    print(l, end=' ')\n",
    "print()\n",
    "print('Loop ended', l)"
   ]
  },
  {
   "cell_type": "code",
   "execution_count": 52,
   "id": "3110d153",
   "metadata": {},
   "outputs": [
    {
     "name": "stdout",
     "output_type": "stream",
     "text": [
      "9 8 7 6 5 4 3 2 1 0 Loop ended 0\n"
     ]
    }
   ],
   "source": [
    "l = 10\n",
    "while l > 0:\n",
    "    l = l-1\n",
    "    print(l, end=' ')\n",
    "\n",
    "else:\n",
    "    print('Loop ended', l)"
   ]
  },
  {
   "cell_type": "code",
   "execution_count": 53,
   "id": "c5557162",
   "metadata": {},
   "outputs": [
    {
     "name": "stdout",
     "output_type": "stream",
     "text": [
      "9 8 7 6 "
     ]
    }
   ],
   "source": [
    "l = 10\n",
    "while l > 0:\n",
    "    l = l-1\n",
    "    if l ==5:\n",
    "        break\n",
    "    print(l, end=' ')\n",
    "else:\n",
    "    print('Loop ended', l)"
   ]
  },
  {
   "cell_type": "code",
   "execution_count": 55,
   "id": "3702b741",
   "metadata": {},
   "outputs": [
    {
     "name": "stdout",
     "output_type": "stream",
     "text": [
      "P y t h o n P r o "
     ]
    }
   ],
   "source": [
    "for i in 'PythonProgramming':\n",
    "    if i == 'g':\n",
    "        break\n",
    "    print(i, end=' ')"
   ]
  },
  {
   "cell_type": "code",
   "execution_count": 57,
   "id": "6839f275",
   "metadata": {},
   "outputs": [
    {
     "name": "stdout",
     "output_type": "stream",
     "text": [
      "P y t h o P r o g r a m m i g "
     ]
    }
   ],
   "source": [
    "for i in 'PythonProgramming':\n",
    "    if i == 'n':\n",
    "        continue\n",
    "    print(i, end=' ')"
   ]
  },
  {
   "cell_type": "code",
   "execution_count": null,
   "id": "76bd0be5",
   "metadata": {},
   "outputs": [],
   "source": []
  }
 ],
 "metadata": {
  "kernelspec": {
   "display_name": "Python 3",
   "language": "python",
   "name": "python3"
  },
  "language_info": {
   "codemirror_mode": {
    "name": "ipython",
    "version": 3
   },
   "file_extension": ".py",
   "mimetype": "text/x-python",
   "name": "python",
   "nbconvert_exporter": "python",
   "pygments_lexer": "ipython3",
   "version": "3.8.8"
  }
 },
 "nbformat": 4,
 "nbformat_minor": 5
}
