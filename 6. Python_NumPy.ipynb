{
 "cells": [
  {
   "cell_type": "markdown",
   "id": "f1892b1b",
   "metadata": {},
   "source": [
    "# Python : NumPy\n",
    "[Pure Python, NumPy, Pandas, and TensorFlow]\n",
    "\n",
    "numpy == Numarical Python\n",
    "\n",
    "Python is a \"dynamically typed\" programming language.\n",
    "\n",
    "list는 데이터의 값과 타입까지 모두 저장을 하는 특징이 있다.\n",
    "\n",
    "유연하고, 많은 양을 저장할 수 있다.\n",
    "\n",
    "때문에 타입도 고려해야하고, 저장용량과 시간을 많이 소모한다.\n",
    "\n",
    "넘파이는 리스트의 이러한 단점을 보완하기 위해 만들어진 라이브러리이다.\n",
    "\n",
    "특히 숫자데이터 처리에 특화되어있다\n",
    "\n",
    "Numpy keeps \"the same type of data in arrays\"\n",
    "\n",
    "TensorFlow는 연산과정을 그래프화하여 시각화할 수 있다.\n",
    "TensorFlow는 값의 변화 과정을 시각화하여 관찰할 수 있다.\n",
    "\"The computational graph approach, TensorFlow\"\n",
    "\n",
    "PanDas == Panel Data\n",
    "\n",
    "pandas는 빅데이터 환경과 같이 많은 데이터를 효율적으로 처리할 수 있다"
   ]
  },
  {
   "cell_type": "markdown",
   "id": "ca11b832",
   "metadata": {},
   "source": [
    "__1. NumPy : type, dtype, shape, dimension, size__\n",
    "- Data types are the same in an array.\n",
    "- Rank : the (linearly independent) number of variables in a matrix."
   ]
  },
  {
   "cell_type": "code",
   "execution_count": 2,
   "id": "945facbd",
   "metadata": {
    "scrolled": true
   },
   "outputs": [
    {
     "name": "stdout",
     "output_type": "stream",
     "text": [
      "[7, 8, 9, 10, 11]\n",
      "[ 7  8  9 10 11]\n",
      "object type:) <class 'numpy.ndarray'>\n",
      "  data type: int32\n",
      "      shape: (5,)\n",
      "  dimension: 1\n",
      " array size: 5\n",
      "(1, 5)\n",
      "[[ 7  8  9 10 11]]\n"
     ]
    }
   ],
   "source": [
    "#넘파이는 수치연산에 특화되어있다\n",
    "import numpy as np\n",
    "a = np.array([7,8,9,10,11])\n",
    "b = [7,8,9,10,11]; print(b) #리스트\n",
    "#어레이의 모든 요소는 같은 사이즈(같은 크기의 공간을 차지)로 이루어져있다\n",
    "#가장 큰 사이즈의 크기로 모든 값에 할당하다 보니, 출력값의 띄어쓰기가 이상이상\n",
    "print(f'{a}\\n{\"object type:\":>12}) {type(a)}\\n{\"data type:\":>12} {a.dtype}\\n{\"shape:\":>12} \\\n",
    "{a.shape}\\n{\"dimension:\":>12} {a.ndim}\\n{\"array size:\":>12} {a.size}')\n",
    "a1 = np.array([a]); print(a1.shape)\n",
    "print(a1) \n",
    "#대괄호의 개수를 통해 데이터의 차원을 파악할 수 있다\n",
    "#shape안에 숫자의 개수는 차원의 개수를 나타낸다\n",
    "#(1, 5)의 의미 == 행 5열의 2차원배열"
   ]
  },
  {
   "cell_type": "code",
   "execution_count": 6,
   "id": "1af69167",
   "metadata": {},
   "outputs": [
    {
     "name": "stdout",
     "output_type": "stream",
     "text": [
      "[[ 1.   2.   3.   4.   5. ]\n",
      " [ 8.   9.  10.  11.  12.2]]\n",
      "object type:) <class 'numpy.ndarray'>\n",
      "  data type: float64\n",
      "      shape: (2, 5)\n",
      "  dimension: 2\n",
      " array size: 10\n",
      "(1, 2, 5)\n"
     ]
    }
   ],
   "source": [
    "b = np.array([[1.0,2,3,4,5],[8,9,10,11,12.2]])\n",
    "#1.0덕분에 모두 유리수화, 같은 공간 차지\n",
    "print(f'{b}\\n{\"object type:\":>12}) {type(b)}\\n{\"data type:\":>12} {b.dtype}\\n{\"shape:\":>12} \\\n",
    "{b.shape}\\n{\"dimension:\":>12} {b.ndim}\\n{\"array size:\":>12} {b.size}')\n",
    "b1 = np.array([b]); print(b1.shape)"
   ]
  },
  {
   "cell_type": "code",
   "execution_count": 6,
   "id": "e86f43eb",
   "metadata": {},
   "outputs": [
    {
     "name": "stdout",
     "output_type": "stream",
     "text": [
      "[[[ 1  2  3  4  5]\n",
      "  [ 8  9 10 11 12]]\n",
      "\n",
      " [[ 4  5  6  7  8]\n",
      "  [10 11 12 13 14]]]\n",
      "object type:) <class 'numpy.ndarray'>\n",
      "  data type: int32\n",
      "      shape: (2, 2, 5)\n",
      "  dimension: 3\n",
      " array size: 20\n",
      "(1, 2, 2, 5)\n"
     ]
    }
   ],
   "source": [
    "c = np.array([[[1,2,3,4,5],[8,9,10,11,12]],[[4,5,6,7,8],[10,11,12,13,14]]])\n",
    "print(f'{c}\\n{\"object type:\":>12}) {type(c)}\\n{\"data type:\":>12} {c.dtype}\\n{\"shape:\":>12} \\\n",
    "{c.shape}\\n{\"dimension:\":>12} {c.ndim}\\n{\"array size:\":>12} {c.size}')\n",
    "c1 = np.array([c]); print(c1.shape)\n",
    "#shape은 3차원, 2, 2, 5을 표시\n",
    "#dimension : 3"
   ]
  },
  {
   "cell_type": "code",
   "execution_count": 10,
   "id": "a692a7c2",
   "metadata": {},
   "outputs": [
    {
     "name": "stdout",
     "output_type": "stream",
     "text": [
      "[[[ 1  2  3  4  5]\n",
      "  [ 8  9 10 11 12]]]\n",
      "object type:) <class 'numpy.ndarray'>\n",
      "  data type: int32\n",
      "      shape: (1, 2, 5)\n",
      "  dimension: 3\n",
      " array size: 10\n"
     ]
    }
   ],
   "source": [
    "ac1 = np.array([[[1,2,3,4,5],[8,9,10,11,12]]])\n",
    "print(f'{ac1}\\n{\"object type:\":>12}) {type(ac1)}\\n{\"data type:\":>12} {ac1.dtype}\\n{\"shape:\":>12} \\\n",
    "{ac1.shape}\\n{\"dimension:\":>12} {ac1.ndim}\\n{\"array size:\":>12} {ac1.size}')\n",
    "\n",
    "#3차원에 1개의 벡터가 존재한다(이래서 헷갈림))\n"
   ]
  },
  {
   "cell_type": "markdown",
   "id": "35f1e421",
   "metadata": {},
   "source": [
    "__2. Numpy:special arrays and indexing__\n",
    "- 하나의 Numpy 배열은 하나의 데이터 타입만을 가질 수 있다"
   ]
  },
  {
   "cell_type": "code",
   "execution_count": 4,
   "id": "8b7f070f",
   "metadata": {},
   "outputs": [
    {
     "name": "stdout",
     "output_type": "stream",
     "text": [
      "[[0. 0. 0.]\n",
      " [0. 0. 0.]]\n",
      "[[1 1 1 1]\n",
      " [1 1 1 1]]\n",
      "[[7 7 7 7 7]\n",
      " [7 7 7 7 7]]\n",
      "[[1. 0. 0.]\n",
      " [0. 1. 0.]\n",
      " [0. 0. 1.]]\n"
     ]
    }
   ],
   "source": [
    "a_zeros = np.zeros((2,3)) #0으로만 이루어진 행렬\n",
    "print(a_zeros)\n",
    "a_ones = np.ones((2,4) , dtype=int) #1로만 이루어진 행렬\n",
    "print(a_ones)\n",
    "a_full = np.full((2,5),7) #어떤 숫자로든지, 지명만 하면 꽉 채워준다\n",
    "print(a_full)\n",
    "print(np.eye(3)) #eye = 단위행렬(identity matrix)"
   ]
  },
  {
   "cell_type": "code",
   "execution_count": 18,
   "id": "aa4b8724",
   "metadata": {},
   "outputs": [
    {
     "name": "stdout",
     "output_type": "stream",
     "text": [
      "[[[0.36156941 0.77474134 0.0924999  0.81244489]\n",
      "  [0.55973587 0.7097845  0.3867217  0.17556014]\n",
      "  [0.52199992 0.1928971  0.45678501 0.89781183]]\n",
      "\n",
      " [[0.94006228 0.57794847 0.76301555 0.7880795 ]\n",
      "  [0.8060596  0.84865695 0.00964268 0.71475056]\n",
      "  [0.71904663 0.78433024 0.49779394 0.9805822 ]]]\n",
      "float64\n"
     ]
    }
   ],
   "source": [
    "a_ran = np.random.random((2,3,4)) #2개의 행렬에 3행 4열 을 랜덤하게\n",
    "print(f'{a_ran}\\n{a_ran.dtype}')\n",
    "\n",
    "#random은 0포함, 1미만"
   ]
  },
  {
   "cell_type": "code",
   "execution_count": 8,
   "id": "66f2d26d",
   "metadata": {},
   "outputs": [
    {
     "name": "stdout",
     "output_type": "stream",
     "text": [
      "[[[ 1  2  3  4  5]\n",
      "  [ 8  9 10 11 12]]\n",
      "\n",
      " [[ 4  5  6  7  8]\n",
      "  [10 11 12 13 14]]]\n",
      "1\n",
      "2\n",
      "5\n",
      "8\n",
      "11\n"
     ]
    }
   ],
   "source": [
    "print(c)\n",
    "print(c[0,0,0])\n",
    "print(c[0,0,1])\n",
    "print(c[0,0,4])\n",
    "print(c[1,0,4])\n",
    "print(c[1,1,1])"
   ]
  },
  {
   "cell_type": "markdown",
   "id": "9657f690",
   "metadata": {},
   "source": [
    "__3. NumPy : flattening and making arrays with arrange function__\n",
    "- flattening은 다차원 배열을 일차원 배열로 변환해주는 함수이다"
   ]
  },
  {
   "cell_type": "code",
   "execution_count": 32,
   "id": "caa28214",
   "metadata": {},
   "outputs": [
    {
     "name": "stdout",
     "output_type": "stream",
     "text": [
      "[[[ 1  2  3  4  5]\n",
      "  [ 8  9 10 11 12]]\n",
      "\n",
      " [[ 4  5  6  7  8]\n",
      "  [10 11 12 13 14]]]\n",
      "[1, 2, 3, 4, 5, 8, 9, 10, 11, 12, 4, 5, 6, 7, 8, 10, 11, 12, 13, 14]\n",
      "[ 1  2  3  4  5  8  9 10 11 12  4  5  6  7  8 10 11 12 13 14]\n",
      "\n",
      "[ 1  2  3  4  5  8  9 10 11 12  4  5  6  7  8 10 11 12 13 14]\n"
     ]
    }
   ],
   "source": [
    "print(c)\n",
    "l = []\n",
    "for i in c:\n",
    "    for j in i:\n",
    "        for k in j:\n",
    "            l.append(k)\n",
    "print(f'{l}\\n{np.array(l)}')\n",
    "print()\n",
    "#flattening\n",
    "print(np.array(c.flat))\n",
    "\n",
    "#list는 콤마와 스페이스로, 넘파이어레이는 스페이스로 요소를 구분하여 보여준다"
   ]
  },
  {
   "cell_type": "code",
   "execution_count": 10,
   "id": "c9422cba",
   "metadata": {},
   "outputs": [
    {
     "name": "stdout",
     "output_type": "stream",
     "text": [
      "[ 0  1  2  3  4  5  6  7  8  9 10 11 12 13 14 15 16 17 18 19 20]\n",
      "<class 'numpy.ndarray'>\n",
      "[[[ 0  1  2  3  4  5  6]\n",
      "  [ 7  8  9 10 11 12 13]\n",
      "  [14 15 16 17 18 19 20]]]\n"
     ]
    }
   ],
   "source": [
    "#arange를 array로 바꾸기 == reshape\n",
    "#arange는 1차원의 배열(not list), reshape을 통해 차원을 형성할 수 있다\n",
    "g = np.arange(21)\n",
    "print(f'{g}\\n{type(g)}')\n",
    "print(g.reshape(1,3,7))"
   ]
  },
  {
   "cell_type": "code",
   "execution_count": 8,
   "id": "2a0e4d6c",
   "metadata": {},
   "outputs": [
    {
     "name": "stdout",
     "output_type": "stream",
     "text": [
      "[ 5  7  9 11 13 15 17 19]\n",
      "[[ 1  2  3  4  5  6  7  8  9 10]\n",
      " [11 12 13 14 15 16 17 18 19 20]]\n"
     ]
    }
   ],
   "source": [
    "h = np.arange(5, 21, 2) #어레인지는 단순히 처음과 끝, 구간을 설정하는 것\n",
    "print(h)\n",
    "print(np.arange(1, 21).reshape(2,10))"
   ]
  },
  {
   "cell_type": "code",
   "execution_count": 10,
   "id": "dc99e6af",
   "metadata": {},
   "outputs": [
    {
     "name": "stdout",
     "output_type": "stream",
     "text": [
      "[0.  0.1 0.2 0.3 0.4 0.5 0.6 0.7 0.8 0.9 1. ]\n",
      "(11,)\n",
      "11\n"
     ]
    }
   ],
   "source": [
    "a_ss = np.linspace(0,1,11) #linspace는 마지막 숫자를 포함한다\n",
    "print(f'{a_ss}\\n{a_ss.shape}\\n{a_ss.size}')"
   ]
  },
  {
   "cell_type": "code",
   "execution_count": 18,
   "id": "7bcf4b38",
   "metadata": {},
   "outputs": [
    {
     "name": "stdout",
     "output_type": "stream",
     "text": [
      "[ True  True  True  True  True]\n"
     ]
    }
   ],
   "source": [
    "seven = np.array([[[1,2,3,4,5]]])\n",
    "print(seven.flat == seven.reshape(5,))"
   ]
  },
  {
   "cell_type": "markdown",
   "id": "2fca0e15",
   "metadata": {},
   "source": [
    "__4. NumPy : Array operations__\n",
    "- Operations on all elements of arrays"
   ]
  },
  {
   "cell_type": "code",
   "execution_count": 21,
   "id": "e954e660",
   "metadata": {},
   "outputs": [
    {
     "name": "stdout",
     "output_type": "stream",
     "text": [
      "(3, 2) (3, 2)\n",
      "[[ 4  6]\n",
      " [ 8 10]\n",
      " [12 14]]\n",
      "[[ 2  4]\n",
      " [ 6  8]\n",
      " [10 12]]\n"
     ]
    }
   ],
   "source": [
    "#배열의 차원이 완전히 일치하는 경우 element-wise연산이 가능하다\n",
    "xa = np.array([[1,2],[3,4],[5,6]])\n",
    "xb = np.array([[3,4],[5,6],[7,8]])\n",
    "print(xa.shape, xb.shape)\n",
    "print(f'{xa+xb}\\n{xa*2}')"
   ]
  },
  {
   "cell_type": "code",
   "execution_count": 24,
   "id": "8d760dd7",
   "metadata": {},
   "outputs": [
    {
     "name": "stdout",
     "output_type": "stream",
     "text": [
      "[[ 4  6]\n",
      " [ 8 10]\n",
      " [12 14]]\n",
      "\n",
      "[[-2 -2]\n",
      " [-2 -2]\n",
      " [-2 -2]]\n",
      "\n",
      "[[ 3  8]\n",
      " [15 24]\n",
      " [35 48]]\n",
      "\n",
      "[[1.         1.41421356]\n",
      " [1.73205081 2.        ]\n",
      " [2.23606798 2.44948974]]\n"
     ]
    }
   ],
   "source": [
    "print(np.add(xa,xb)) #더하기\n",
    "print()\n",
    "print(np.subtract(xa,xb)) #빼기\n",
    "print()\n",
    "print(np.multiply(xa,xb)) #곱하기\n",
    "print()\n",
    "print(np.sqrt(xa)) #?"
   ]
  },
  {
   "cell_type": "code",
   "execution_count": 26,
   "id": "82b3b4a8",
   "metadata": {},
   "outputs": [
    {
     "name": "stdout",
     "output_type": "stream",
     "text": [
      "[[1.]\n",
      " [1.]] (2, 1) 2\n",
      "\n",
      "[[ 3.]\n",
      " [ 7.]\n",
      " [11.]]\n",
      "\n",
      "[[ 7.]\n",
      " [11.]\n",
      " [15.]]\n"
     ]
    }
   ],
   "source": [
    "#행렬의 inner product연산의 경우 두 행렬의 정합성이 맞아야 한다\n",
    "xc = np.ones((2,1))\n",
    "print(xc, xc.shape, xc.ndim)\n",
    "print()\n",
    "print(xa.dot(xc)) #xa = 3x2, xc = 2x1 이므로 둘을 합(dot)하면 3x1이 나온다\n",
    "print()\n",
    "print(np.dot(xb,xc) #dot() as a method"
   ]
  },
  {
   "cell_type": "code",
   "execution_count": 27,
   "id": "31e3599d",
   "metadata": {},
   "outputs": [
    {
     "name": "stdout",
     "output_type": "stream",
     "text": [
      "[[1 2]\n",
      " [1 2]]\n",
      "[[ 3  6]\n",
      " [ 7 14]\n",
      " [11 22]]\n",
      "[[ 7 14]\n",
      " [11 22]\n",
      " [15 30]]\n"
     ]
    }
   ],
   "source": [
    "xd = np.array([[1,2],[1,2]]); print(xd)\n",
    "print(np.dot(xa,xd));print(np.dot(xb,xd))"
   ]
  },
  {
   "cell_type": "code",
   "execution_count": 30,
   "id": "ba58d95f",
   "metadata": {},
   "outputs": [
    {
     "name": "stdout",
     "output_type": "stream",
     "text": [
      "[[1 2]\n",
      " [3 4]\n",
      " [5 6]]\n",
      "[[1 3 5]\n",
      " [2 4 6]]\n",
      "\n",
      "[[12 13]\n",
      " [14 15]\n",
      " [16 17]]\n",
      "[[ 9 10]\n",
      " [11 12]\n",
      " [13 14]]\n",
      "[[12 13]\n",
      " [14 15]\n",
      " [16 17]]\n"
     ]
    }
   ],
   "source": [
    "print(xa)\n",
    "print(xa.T) # T는 Transposed, 전치행렬 3x2 -> 2x3으로\n",
    "print()\n",
    "print(xb+3)\n",
    "print(xb) #원래 xb는 남아있는 상태\n",
    "xb += 3\n",
    "print(xb) #xb의 값이 바뀜"
   ]
  },
  {
   "cell_type": "markdown",
   "id": "66c88787",
   "metadata": {},
   "source": [
    "__5. NumPy : Broadcasting__\n",
    "- Arithmetic operation between different shaped arrays"
   ]
  },
  {
   "cell_type": "code",
   "execution_count": 36,
   "id": "6ccc1119",
   "metadata": {},
   "outputs": [
    {
     "name": "stdout",
     "output_type": "stream",
     "text": [
      "[[1 2 3]\n",
      " [4 5 6]\n",
      " [7 8 9]]\n",
      "\n",
      "[[1.]\n",
      " [1.]\n",
      " [1.]]\n",
      "\n",
      "[[ 2.  3.  4.]\n",
      " [ 5.  6.  7.]\n",
      " [ 8.  9. 10.]]\n",
      "\n",
      "[[2 2 2]]\n",
      "\n",
      "[[ 3  4  5]\n",
      " [ 6  7  8]\n",
      " [ 9 10 11]]\n"
     ]
    }
   ],
   "source": [
    "ya = np.arange(1,10).reshape(3,3); print(ya)\n",
    "print()\n",
    "yv1 = np.ones((3,1)); print(yv1)\n",
    "print()\n",
    "yb = ya + yv1 ; print(yb) #dimension이 틀려도 broadcasting rule이 적용되면 계산가능\n",
    "print()\n",
    "yv2 = np.full((1,3),2); print(yv2)\n",
    "print()\n",
    "yc = ya + yv2; print(yc)"
   ]
  },
  {
   "cell_type": "markdown",
   "id": "8a7978ed",
   "metadata": {},
   "source": [
    "__6. NumPy : Summary Statistics__"
   ]
  },
  {
   "cell_type": "code",
   "execution_count": 42,
   "id": "8daaef62",
   "metadata": {},
   "outputs": [
    {
     "name": "stdout",
     "output_type": "stream",
     "text": [
      "63 7.0 3 11 6.666666666666667 2.581988897471611\n",
      "8 0\n",
      "[6. 7. 8.] [ 4.  7. 10.]\n"
     ]
    }
   ],
   "source": [
    "print(yc.sum(), yc.mean(), yc.min(), yc.max(), yc.var(), yc.std())\n",
    "print(yc.argmax(), yc.argmin()) #가장 크고 작은 값의 인덱스 반환\n",
    "print(yc.mean(axis=0), yc.mean(axis=1)) #0은 열, 1은 행"
   ]
  },
  {
   "cell_type": "markdown",
   "id": "4d427df0",
   "metadata": {},
   "source": [
    "__7.NumPy : Slicing, Flatten, and Stacking__"
   ]
  },
  {
   "cell_type": "code",
   "execution_count": 52,
   "id": "50531a9e",
   "metadata": {},
   "outputs": [
    {
     "name": "stdout",
     "output_type": "stream",
     "text": [
      "[[ 0  1  2  3  4  5  6]\n",
      " [ 7  8  9 10 11 12 13]\n",
      " [14 15 16 17 18 19 20]]\n",
      "\n",
      "[0 1 2 3 4 5 6]\n",
      "\n",
      "[[ 0  1  2  3  4  5  6]\n",
      " [ 7  8  9 10 11 12 13]\n",
      " [14 15 16 17 18 19 20]]\n",
      "\n",
      "[[ 0  1  2  3  4  5  6]\n",
      " [ 7  8  9 10 11 12 13]]\n",
      "\n",
      "[[0 1 2]\n",
      " [7 8 9]]\n"
     ]
    }
   ],
   "source": [
    "karray = np.arange(21).reshape(3,7); print(karray)\n",
    "print()\n",
    "print(karray[0])\n",
    "print()\n",
    "print(karray[0:4])\n",
    "print()\n",
    "print(karray[:2]) #콤마가 없을 경우는 row만 인식한다는 것\n",
    "print()\n",
    "print(karray[:2,:3]) #2개의 행, 3개의 열"
   ]
  },
  {
   "cell_type": "code",
   "execution_count": 58,
   "id": "34ca4087",
   "metadata": {},
   "outputs": [
    {
     "name": "stdout",
     "output_type": "stream",
     "text": [
      "[[ 0  1  2  3  4  5  6]\n",
      " [ 7  8  9 10 11 12 13]\n",
      " [14 15 16 17 18 19 20]]\n",
      "\n",
      "[[ 0  1  2  3  4  5  6]\n",
      " [14 15 16 17 18 19 20]]\n",
      "\n",
      "[[ 1  5]\n",
      " [ 8 12]\n",
      " [15 19]]\n",
      "\n",
      "[[ 1  2  3  4]\n",
      " [ 8  9 10 11]\n",
      " [15 16 17 18]]\n"
     ]
    }
   ],
   "source": [
    "karray = np.arange(21).reshape(3,7); print(karray)\n",
    "print()\n",
    "print(karray[[0,2]]) #0과 2의 로우 지정\n",
    "print()\n",
    "print(karray[:,[1,5]]) #row는 모두, column은 1과 5만\n",
    "print()\n",
    "print(karray[:,1:5]) #row는 모두, column은 1부터5까지"
   ]
  },
  {
   "cell_type": "code",
   "execution_count": 69,
   "id": "118d2536",
   "metadata": {},
   "outputs": [
    {
     "name": "stdout",
     "output_type": "stream",
     "text": [
      "[[ 0  1  2  3  4  5  6]\n",
      " [ 7  8  9 10 11 12 13]\n",
      " [14 15 16 17 18 19 20]]\n",
      "\n",
      "[ 0  1  2  3  4  5  6  7  8  9 10 11 12 13 14 15 16 17 18 19 20] (21,)\n",
      "\n",
      "[ 0  1  2  3  4  5  6  7  8  9 10 11 12 13 14 15 16 17 18 19 20]\n",
      "\n",
      "[[ 0  1  2  3  4  5  6  7  8  9 10 11 12 13 14 15 16 17 18 19 20]] (1, 21)\n",
      "\n",
      "[[ 0  1  2  3  4  5  6]\n",
      " [ 7  8  9 10 11 12 13]\n",
      " [14 15 16 17 18 19 20]] (3, 7)\n"
     ]
    }
   ],
   "source": [
    "karray = np.arange(21).reshape(3,7); print(karray)\n",
    "fkarray = karray.flatten() #1차원 어레이로 나열\n",
    "print()\n",
    "print(fkarray, fkarray.shape)\n",
    "print()\n",
    "fkarray1 = np.array(karray.flat) #아니면 이렇게 해도 됨 np.array보다는 flatten이 편함\n",
    "print(fkarray1)\n",
    "print()\n",
    "rfkarray = karray.reshape(1,21) #reshape으로 어레이의 차원 변경 가능\n",
    "print(rfkarray, rfkarray.shape)\n",
    "print()\n",
    "rfkarray.resize(3,7) #새로운 형태로 변형\n",
    "print(rfkarray, rfkarray.shape)"
   ]
  },
  {
   "cell_type": "code",
   "execution_count": 74,
   "id": "c19b6f9d",
   "metadata": {},
   "outputs": [
    {
     "name": "stdout",
     "output_type": "stream",
     "text": [
      "[[ 0  1  2  3  4  5]\n",
      " [ 7  8  9 10 11 12]\n",
      " [14 15 16 17 18 19]]\n",
      "\n",
      "[[ 0  1  2]\n",
      " [ 7  8  9]\n",
      " [14 15 16]\n",
      " [ 3  4  5]\n",
      " [10 11 12]\n",
      " [17 18 19]]\n"
     ]
    }
   ],
   "source": [
    "#stacking\n",
    "karray1 = karray[:,:3]; karray2 = karray[:,3:6]\n",
    "karrayh = np.hstack([karray1, karray2]); print(karrayh) #가로로 쌓기\n",
    "print()\n",
    "karrayv = np.vstack([karray1, karray2]); print(karrayv) #세로로 쌓기"
   ]
  },
  {
   "cell_type": "code",
   "execution_count": 83,
   "id": "b0f7f92d",
   "metadata": {},
   "outputs": [
    {
     "data": {
      "text/plain": [
       "array([[4, 4],\n",
       "       [4, 4],\n",
       "       [4, 4]])"
      ]
     },
     "execution_count": 83,
     "metadata": {},
     "output_type": "execute_result"
    }
   ],
   "source": [
    "A = np.full((3,2),3)\n",
    "B = np.ones((2,1))\n",
    "print(A)\n",
    "print(B)\n",
    "A.dot(B)\n",
    "A.size\n",
    "B.size\n",
    "A+1"
   ]
  },
  {
   "cell_type": "code",
   "execution_count": 99,
   "id": "44816e9a",
   "metadata": {},
   "outputs": [
    {
     "data": {
      "text/plain": [
       "5"
      ]
     },
     "execution_count": 99,
     "metadata": {},
     "output_type": "execute_result"
    }
   ],
   "source": [
    "Array1 = np.array([[1,2],[3,4],[5,6]])\n",
    "Array1.resize(2,3)\n",
    "Array1.shape\n",
    "Array1.argmax()"
   ]
  },
  {
   "cell_type": "code",
   "execution_count": null,
   "id": "b1ae960b",
   "metadata": {},
   "outputs": [],
   "source": []
  }
 ],
 "metadata": {
  "kernelspec": {
   "display_name": "Python 3",
   "language": "python",
   "name": "python3"
  },
  "language_info": {
   "codemirror_mode": {
    "name": "ipython",
    "version": 3
   },
   "file_extension": ".py",
   "mimetype": "text/x-python",
   "name": "python",
   "nbconvert_exporter": "python",
   "pygments_lexer": "ipython3",
   "version": "3.8.8"
  }
 },
 "nbformat": 4,
 "nbformat_minor": 5
}
