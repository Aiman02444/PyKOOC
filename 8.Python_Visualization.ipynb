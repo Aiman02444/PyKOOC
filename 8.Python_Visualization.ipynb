{
 "cells": [
  {
   "cell_type": "markdown",
   "id": "28c7e3f1",
   "metadata": {},
   "source": [
    "# String, Files and Data Visulaization\n",
    "\n",
    "__1. String : formatted strings(f-strings)__\n",
    "- f'{y:<x.2f}' => f'{ }' 안에는 y, : < x . 2f 가 들어갈 수 있다\n",
    "- f-string은 파이썬3.0 이후에 통용되는 방식, 다른 방법도 있다\n",
    "- y = 여러 형태의 정보 == 숫자, 공식, 문자 모두 가능 ==> 출력시 string\n",
    "- string을 넣을 때에는 \" \" 를 사용하자\n",
    "- <는 좌측정렬, >는 우측정렬, ^는 가운데정렬\n",
    "- x는 정보가 차지할 공간(the number of space)를 지정한다, x안에 y가 들어감\n",
    "- .2는 소숫점 몇번째까지\n",
    "- f는 float, d는 integer, b는 binary, c는 character"
   ]
  },
  {
   "cell_type": "code",
   "execution_count": 3,
   "id": "5e34a5db",
   "metadata": {},
   "outputs": [
    {
     "name": "stdout",
     "output_type": "stream",
     "text": [
      "['L', 'o', 'n', 'g', ' ', 'l', 'i', 'v', 'e', ' ', 't', 'h', 'e', ' ', 'K', 'i', 'n', 'g']\n"
     ]
    }
   ],
   "source": [
    "mansei = list('Long live the King') #빈공간도 리스트에 할당된다\n",
    "print(mansei)"
   ]
  },
  {
   "cell_type": "code",
   "execution_count": 5,
   "id": "60f5109b",
   "metadata": {},
   "outputs": [
    {
     "name": "stdout",
     "output_type": "stream",
     "text": [
      "     1.235\n"
     ]
    },
    {
     "data": {
      "text/plain": [
       "'     1.235'"
      ]
     },
     "execution_count": 5,
     "metadata": {},
     "output_type": "execute_result"
    }
   ],
   "source": [
    "print(f'{1.23456:>10.3f}')\n",
    "f'{1.23456:>10.3f}'"
   ]
  },
  {
   "cell_type": "code",
   "execution_count": 6,
   "id": "004734c3",
   "metadata": {},
   "outputs": [
    {
     "name": "stdout",
     "output_type": "stream",
     "text": [
      "21        \n",
      "     10101\n"
     ]
    }
   ],
   "source": [
    "print(f'{21:<10}\\n{21:10b}')\n",
    "#문자는 왼쪽정렬, 숫자는 오른쪽 정렬"
   ]
  },
  {
   "cell_type": "code",
   "execution_count": 7,
   "id": "f7529bf9",
   "metadata": {},
   "outputs": [
    {
     "name": "stdout",
     "output_type": "stream",
     "text": [
      "         A\n",
      "         c\n"
     ]
    }
   ],
   "source": [
    "print(f'{65:10c}\\n{99:10c}')\n",
    "#65의 아스키코드 A, 99의 아스키코드 C"
   ]
  },
  {
   "cell_type": "code",
   "execution_count": 8,
   "id": "c75ad82a",
   "metadata": {},
   "outputs": [
    {
     "name": "stdout",
     "output_type": "stream",
     "text": [
      "Python    \n",
      "        98\n"
     ]
    }
   ],
   "source": [
    "print(f'{\"Python\":10}\\n{98:10}')"
   ]
  },
  {
   "cell_type": "markdown",
   "id": "dea7abe6",
   "metadata": {},
   "source": [
    "__2. Interchanging a character and a ASCII code of the character__"
   ]
  },
  {
   "cell_type": "code",
   "execution_count": 10,
   "id": "fdbeef20",
   "metadata": {},
   "outputs": [
    {
     "name": "stdout",
     "output_type": "stream",
     "text": [
      "65 A 56 B\n"
     ]
    }
   ],
   "source": [
    "print(ord('A'), chr(65), ord('8'), chr(66))\n",
    "# A에 할당된 숫자를 알고싶다 == ord\n",
    "# 65에 할당된 아스키코드를 알고 싶다 == chr\n",
    "# 인공지능분류에서 사용된다\n",
    "# 인간은 문자를 개발하여 지식을 표현할 수 있지만, 컴퓨터는 할 수 없다 \n",
    "# -> 숫자로 변환시켜 표현해야 한다"
   ]
  },
  {
   "cell_type": "markdown",
   "id": "4ba1b5ae",
   "metadata": {},
   "source": [
    "__3. File reading and dataset repositories__\n",
    "- UC Irvine Machine Learning Repository : http://archive.ics.uci.edu/ml/index.php\n",
    "- Rdatasets : https://vincentarelbundock.github.io/Rdatasets/datasets.html\n",
    "- Kaggle datasets : https://www.kaggle.com/datasets"
   ]
  },
  {
   "cell_type": "code",
   "execution_count": 4,
   "id": "03584463",
   "metadata": {},
   "outputs": [],
   "source": [
    "import pandas as pd\n",
    "import numpy as np\n",
    "import matplotlib.pyplot as plt #그림그리는 패키지, pyplot은 모듈"
   ]
  },
  {
   "cell_type": "code",
   "execution_count": 20,
   "id": "04f366d4",
   "metadata": {},
   "outputs": [
    {
     "data": {
      "text/html": [
       "<div>\n",
       "<style scoped>\n",
       "    .dataframe tbody tr th:only-of-type {\n",
       "        vertical-align: middle;\n",
       "    }\n",
       "\n",
       "    .dataframe tbody tr th {\n",
       "        vertical-align: top;\n",
       "    }\n",
       "\n",
       "    .dataframe thead th {\n",
       "        text-align: right;\n",
       "    }\n",
       "</style>\n",
       "<table border=\"1\" class=\"dataframe\">\n",
       "  <thead>\n",
       "    <tr style=\"text-align: right;\">\n",
       "      <th></th>\n",
       "      <th>SepalLength</th>\n",
       "      <th>SepalWidth</th>\n",
       "      <th>PetalLength</th>\n",
       "      <th>PetalWidth</th>\n",
       "      <th>Name</th>\n",
       "    </tr>\n",
       "  </thead>\n",
       "  <tbody>\n",
       "    <tr>\n",
       "      <th>0</th>\n",
       "      <td>5.1</td>\n",
       "      <td>3.5</td>\n",
       "      <td>1.4</td>\n",
       "      <td>0.2</td>\n",
       "      <td>Iris-setosa</td>\n",
       "    </tr>\n",
       "    <tr>\n",
       "      <th>1</th>\n",
       "      <td>4.9</td>\n",
       "      <td>3.0</td>\n",
       "      <td>1.4</td>\n",
       "      <td>0.2</td>\n",
       "      <td>Iris-setosa</td>\n",
       "    </tr>\n",
       "    <tr>\n",
       "      <th>2</th>\n",
       "      <td>4.7</td>\n",
       "      <td>3.2</td>\n",
       "      <td>1.3</td>\n",
       "      <td>0.2</td>\n",
       "      <td>Iris-setosa</td>\n",
       "    </tr>\n",
       "    <tr>\n",
       "      <th>3</th>\n",
       "      <td>4.6</td>\n",
       "      <td>3.1</td>\n",
       "      <td>1.5</td>\n",
       "      <td>0.2</td>\n",
       "      <td>Iris-setosa</td>\n",
       "    </tr>\n",
       "    <tr>\n",
       "      <th>4</th>\n",
       "      <td>5.0</td>\n",
       "      <td>3.6</td>\n",
       "      <td>1.4</td>\n",
       "      <td>0.2</td>\n",
       "      <td>Iris-setosa</td>\n",
       "    </tr>\n",
       "    <tr>\n",
       "      <th>5</th>\n",
       "      <td>5.4</td>\n",
       "      <td>3.9</td>\n",
       "      <td>1.7</td>\n",
       "      <td>0.4</td>\n",
       "      <td>Iris-setosa</td>\n",
       "    </tr>\n",
       "    <tr>\n",
       "      <th>6</th>\n",
       "      <td>4.6</td>\n",
       "      <td>3.4</td>\n",
       "      <td>1.4</td>\n",
       "      <td>0.3</td>\n",
       "      <td>Iris-setosa</td>\n",
       "    </tr>\n",
       "    <tr>\n",
       "      <th>7</th>\n",
       "      <td>5.0</td>\n",
       "      <td>3.4</td>\n",
       "      <td>1.5</td>\n",
       "      <td>0.2</td>\n",
       "      <td>Iris-setosa</td>\n",
       "    </tr>\n",
       "    <tr>\n",
       "      <th>8</th>\n",
       "      <td>4.4</td>\n",
       "      <td>2.9</td>\n",
       "      <td>1.4</td>\n",
       "      <td>0.2</td>\n",
       "      <td>Iris-setosa</td>\n",
       "    </tr>\n",
       "    <tr>\n",
       "      <th>9</th>\n",
       "      <td>4.9</td>\n",
       "      <td>3.1</td>\n",
       "      <td>1.5</td>\n",
       "      <td>0.1</td>\n",
       "      <td>Iris-setosa</td>\n",
       "    </tr>\n",
       "  </tbody>\n",
       "</table>\n",
       "</div>"
      ],
      "text/plain": [
       "   SepalLength  SepalWidth  PetalLength  PetalWidth         Name\n",
       "0          5.1         3.5          1.4         0.2  Iris-setosa\n",
       "1          4.9         3.0          1.4         0.2  Iris-setosa\n",
       "2          4.7         3.2          1.3         0.2  Iris-setosa\n",
       "3          4.6         3.1          1.5         0.2  Iris-setosa\n",
       "4          5.0         3.6          1.4         0.2  Iris-setosa\n",
       "5          5.4         3.9          1.7         0.4  Iris-setosa\n",
       "6          4.6         3.4          1.4         0.3  Iris-setosa\n",
       "7          5.0         3.4          1.5         0.2  Iris-setosa\n",
       "8          4.4         2.9          1.4         0.2  Iris-setosa\n",
       "9          4.9         3.1          1.5         0.1  Iris-setosa"
      ]
     },
     "execution_count": 20,
     "metadata": {},
     "output_type": "execute_result"
    }
   ],
   "source": [
    "irisdata = pd.read_csv('https://archive.ics.uci.edu/ml/machine-learning-databases/iris/iris.data', header = None)\n",
    "#링크만 넣어서 데이터 추출 가능, header = None 은 제목 없이 데이터만 나열된 자료\n",
    "#만약 header=none이 없는 경우 첫번째 줄의 데이터를 제목으로 인식한다\n",
    "#변수명이 있다면 header = True 또는 그냥 냅두면 된다\n",
    "irisdata.columns = ['SepalLength', 'SepalWidth','PetalLength','PetalWidth','Name']\n",
    "#columns 인덱스 또한 미설정시 0부터 들어간다\n",
    "irisdata.head(10)\n",
    "#아이리스데이터 = 150개의 샘플의 꽃잎형태를 기록해놓은 데이터"
   ]
  },
  {
   "cell_type": "code",
   "execution_count": 21,
   "id": "8eaa098a",
   "metadata": {},
   "outputs": [
    {
     "data": {
      "text/plain": [
       "150"
      ]
     },
     "execution_count": 21,
     "metadata": {},
     "output_type": "execute_result"
    }
   ],
   "source": [
    "len(irisdata)"
   ]
  },
  {
   "cell_type": "code",
   "execution_count": 25,
   "id": "22678067",
   "metadata": {},
   "outputs": [
    {
     "data": {
      "text/plain": [
       "('Iris-versicolor',\n",
       "     SepalLength  SepalWidth  PetalLength  PetalWidth             Name\n",
       " 50          7.0         3.2          4.7         1.4  Iris-versicolor\n",
       " 51          6.4         3.2          4.5         1.5  Iris-versicolor\n",
       " 52          6.9         3.1          4.9         1.5  Iris-versicolor\n",
       " 53          5.5         2.3          4.0         1.3  Iris-versicolor\n",
       " 54          6.5         2.8          4.6         1.5  Iris-versicolor\n",
       " 55          5.7         2.8          4.5         1.3  Iris-versicolor\n",
       " 56          6.3         3.3          4.7         1.6  Iris-versicolor\n",
       " 57          4.9         2.4          3.3         1.0  Iris-versicolor\n",
       " 58          6.6         2.9          4.6         1.3  Iris-versicolor\n",
       " 59          5.2         2.7          3.9         1.4  Iris-versicolor\n",
       " 60          5.0         2.0          3.5         1.0  Iris-versicolor\n",
       " 61          5.9         3.0          4.2         1.5  Iris-versicolor\n",
       " 62          6.0         2.2          4.0         1.0  Iris-versicolor\n",
       " 63          6.1         2.9          4.7         1.4  Iris-versicolor\n",
       " 64          5.6         2.9          3.6         1.3  Iris-versicolor\n",
       " 65          6.7         3.1          4.4         1.4  Iris-versicolor\n",
       " 66          5.6         3.0          4.5         1.5  Iris-versicolor\n",
       " 67          5.8         2.7          4.1         1.0  Iris-versicolor\n",
       " 68          6.2         2.2          4.5         1.5  Iris-versicolor\n",
       " 69          5.6         2.5          3.9         1.1  Iris-versicolor\n",
       " 70          5.9         3.2          4.8         1.8  Iris-versicolor\n",
       " 71          6.1         2.8          4.0         1.3  Iris-versicolor\n",
       " 72          6.3         2.5          4.9         1.5  Iris-versicolor\n",
       " 73          6.1         2.8          4.7         1.2  Iris-versicolor\n",
       " 74          6.4         2.9          4.3         1.3  Iris-versicolor\n",
       " 75          6.6         3.0          4.4         1.4  Iris-versicolor\n",
       " 76          6.8         2.8          4.8         1.4  Iris-versicolor\n",
       " 77          6.7         3.0          5.0         1.7  Iris-versicolor\n",
       " 78          6.0         2.9          4.5         1.5  Iris-versicolor\n",
       " 79          5.7         2.6          3.5         1.0  Iris-versicolor\n",
       " 80          5.5         2.4          3.8         1.1  Iris-versicolor\n",
       " 81          5.5         2.4          3.7         1.0  Iris-versicolor\n",
       " 82          5.8         2.7          3.9         1.2  Iris-versicolor\n",
       " 83          6.0         2.7          5.1         1.6  Iris-versicolor\n",
       " 84          5.4         3.0          4.5         1.5  Iris-versicolor\n",
       " 85          6.0         3.4          4.5         1.6  Iris-versicolor\n",
       " 86          6.7         3.1          4.7         1.5  Iris-versicolor\n",
       " 87          6.3         2.3          4.4         1.3  Iris-versicolor\n",
       " 88          5.6         3.0          4.1         1.3  Iris-versicolor\n",
       " 89          5.5         2.5          4.0         1.3  Iris-versicolor\n",
       " 90          5.5         2.6          4.4         1.2  Iris-versicolor\n",
       " 91          6.1         3.0          4.6         1.4  Iris-versicolor\n",
       " 92          5.8         2.6          4.0         1.2  Iris-versicolor\n",
       " 93          5.0         2.3          3.3         1.0  Iris-versicolor\n",
       " 94          5.6         2.7          4.2         1.3  Iris-versicolor\n",
       " 95          5.7         3.0          4.2         1.2  Iris-versicolor\n",
       " 96          5.7         2.9          4.2         1.3  Iris-versicolor\n",
       " 97          6.2         2.9          4.3         1.3  Iris-versicolor\n",
       " 98          5.1         2.5          3.0         1.1  Iris-versicolor\n",
       " 99          5.7         2.8          4.1         1.3  Iris-versicolor)"
      ]
     },
     "execution_count": 25,
     "metadata": {},
     "output_type": "execute_result"
    }
   ],
   "source": [
    "groups = irisdata.groupby('Name')\n",
    "list(groups)[1]"
   ]
  },
  {
   "cell_type": "code",
   "execution_count": 5,
   "id": "cba4fb52",
   "metadata": {},
   "outputs": [
    {
     "data": {
      "text/html": [
       "<div>\n",
       "<style scoped>\n",
       "    .dataframe tbody tr th:only-of-type {\n",
       "        vertical-align: middle;\n",
       "    }\n",
       "\n",
       "    .dataframe tbody tr th {\n",
       "        vertical-align: top;\n",
       "    }\n",
       "\n",
       "    .dataframe thead th {\n",
       "        text-align: right;\n",
       "    }\n",
       "</style>\n",
       "<table border=\"1\" class=\"dataframe\">\n",
       "  <thead>\n",
       "    <tr style=\"text-align: right;\">\n",
       "      <th></th>\n",
       "      <th>sepalL</th>\n",
       "      <th>sepalW</th>\n",
       "      <th>petalL</th>\n",
       "      <th>petalW</th>\n",
       "      <th>Name</th>\n",
       "    </tr>\n",
       "  </thead>\n",
       "  <tbody>\n",
       "    <tr>\n",
       "      <th>0</th>\n",
       "      <td>5.1</td>\n",
       "      <td>3.5</td>\n",
       "      <td>1.4</td>\n",
       "      <td>0.2</td>\n",
       "      <td>Setosa</td>\n",
       "    </tr>\n",
       "    <tr>\n",
       "      <th>1</th>\n",
       "      <td>4.9</td>\n",
       "      <td>3.0</td>\n",
       "      <td>1.4</td>\n",
       "      <td>0.2</td>\n",
       "      <td>Setosa</td>\n",
       "    </tr>\n",
       "    <tr>\n",
       "      <th>2</th>\n",
       "      <td>4.7</td>\n",
       "      <td>3.2</td>\n",
       "      <td>1.3</td>\n",
       "      <td>0.2</td>\n",
       "      <td>Setosa</td>\n",
       "    </tr>\n",
       "    <tr>\n",
       "      <th>3</th>\n",
       "      <td>4.6</td>\n",
       "      <td>3.1</td>\n",
       "      <td>1.5</td>\n",
       "      <td>0.2</td>\n",
       "      <td>Setosa</td>\n",
       "    </tr>\n",
       "    <tr>\n",
       "      <th>4</th>\n",
       "      <td>5.0</td>\n",
       "      <td>3.6</td>\n",
       "      <td>1.4</td>\n",
       "      <td>0.2</td>\n",
       "      <td>Setosa</td>\n",
       "    </tr>\n",
       "  </tbody>\n",
       "</table>\n",
       "</div>"
      ],
      "text/plain": [
       "   sepalL  sepalW  petalL  petalW    Name\n",
       "0     5.1     3.5     1.4     0.2  Setosa\n",
       "1     4.9     3.0     1.4     0.2  Setosa\n",
       "2     4.7     3.2     1.3     0.2  Setosa\n",
       "3     4.6     3.1     1.5     0.2  Setosa\n",
       "4     5.0     3.6     1.4     0.2  Setosa"
      ]
     },
     "execution_count": 5,
     "metadata": {},
     "output_type": "execute_result"
    }
   ],
   "source": [
    "iris = pd.read_csv('data/iris.csv')\n",
    "iris.head()"
   ]
  },
  {
   "cell_type": "code",
   "execution_count": 63,
   "id": "3bc30413",
   "metadata": {},
   "outputs": [
    {
     "data": {
      "text/html": [
       "<div>\n",
       "<style scoped>\n",
       "    .dataframe tbody tr th:only-of-type {\n",
       "        vertical-align: middle;\n",
       "    }\n",
       "\n",
       "    .dataframe tbody tr th {\n",
       "        vertical-align: top;\n",
       "    }\n",
       "\n",
       "    .dataframe thead th {\n",
       "        text-align: right;\n",
       "    }\n",
       "</style>\n",
       "<table border=\"1\" class=\"dataframe\">\n",
       "  <thead>\n",
       "    <tr style=\"text-align: right;\">\n",
       "      <th></th>\n",
       "      <th>sepalL</th>\n",
       "      <th>sepalW</th>\n",
       "      <th>petalL</th>\n",
       "      <th>petalW</th>\n",
       "    </tr>\n",
       "  </thead>\n",
       "  <tbody>\n",
       "    <tr>\n",
       "      <th>count</th>\n",
       "      <td>150.00</td>\n",
       "      <td>150.00</td>\n",
       "      <td>150.00</td>\n",
       "      <td>150.00</td>\n",
       "    </tr>\n",
       "    <tr>\n",
       "      <th>mean</th>\n",
       "      <td>5.84</td>\n",
       "      <td>3.06</td>\n",
       "      <td>3.76</td>\n",
       "      <td>1.20</td>\n",
       "    </tr>\n",
       "    <tr>\n",
       "      <th>std</th>\n",
       "      <td>0.83</td>\n",
       "      <td>0.44</td>\n",
       "      <td>1.77</td>\n",
       "      <td>0.76</td>\n",
       "    </tr>\n",
       "    <tr>\n",
       "      <th>min</th>\n",
       "      <td>4.30</td>\n",
       "      <td>2.00</td>\n",
       "      <td>1.00</td>\n",
       "      <td>0.10</td>\n",
       "    </tr>\n",
       "    <tr>\n",
       "      <th>25%</th>\n",
       "      <td>5.10</td>\n",
       "      <td>2.80</td>\n",
       "      <td>1.60</td>\n",
       "      <td>0.30</td>\n",
       "    </tr>\n",
       "    <tr>\n",
       "      <th>50%</th>\n",
       "      <td>5.80</td>\n",
       "      <td>3.00</td>\n",
       "      <td>4.35</td>\n",
       "      <td>1.30</td>\n",
       "    </tr>\n",
       "    <tr>\n",
       "      <th>75%</th>\n",
       "      <td>6.40</td>\n",
       "      <td>3.30</td>\n",
       "      <td>5.10</td>\n",
       "      <td>1.80</td>\n",
       "    </tr>\n",
       "    <tr>\n",
       "      <th>max</th>\n",
       "      <td>7.90</td>\n",
       "      <td>4.40</td>\n",
       "      <td>6.90</td>\n",
       "      <td>2.50</td>\n",
       "    </tr>\n",
       "  </tbody>\n",
       "</table>\n",
       "</div>"
      ],
      "text/plain": [
       "       sepalL  sepalW  petalL  petalW\n",
       "count  150.00  150.00  150.00  150.00\n",
       "mean     5.84    3.06    3.76    1.20\n",
       "std      0.83    0.44    1.77    0.76\n",
       "min      4.30    2.00    1.00    0.10\n",
       "25%      5.10    2.80    1.60    0.30\n",
       "50%      5.80    3.00    4.35    1.30\n",
       "75%      6.40    3.30    5.10    1.80\n",
       "max      7.90    4.40    6.90    2.50"
      ]
     },
     "execution_count": 63,
     "metadata": {},
     "output_type": "execute_result"
    }
   ],
   "source": [
    "pd.set_option('precision', 2)\n",
    "iris.describe()"
   ]
  },
  {
   "cell_type": "code",
   "execution_count": 64,
   "id": "c8b1d810",
   "metadata": {},
   "outputs": [
    {
     "data": {
      "text/html": [
       "<div>\n",
       "<style scoped>\n",
       "    .dataframe tbody tr th:only-of-type {\n",
       "        vertical-align: middle;\n",
       "    }\n",
       "\n",
       "    .dataframe tbody tr th {\n",
       "        vertical-align: top;\n",
       "    }\n",
       "\n",
       "    .dataframe thead th {\n",
       "        text-align: right;\n",
       "    }\n",
       "</style>\n",
       "<table border=\"1\" class=\"dataframe\">\n",
       "  <thead>\n",
       "    <tr style=\"text-align: right;\">\n",
       "      <th></th>\n",
       "      <th>Name</th>\n",
       "      <th>Iris-setosa</th>\n",
       "      <th>Iris-versicolor</th>\n",
       "      <th>Iris-virginica</th>\n",
       "    </tr>\n",
       "  </thead>\n",
       "  <tbody>\n",
       "    <tr>\n",
       "      <th rowspan=\"8\" valign=\"top\">SepalLength</th>\n",
       "      <th>count</th>\n",
       "      <td>50.00</td>\n",
       "      <td>50.00</td>\n",
       "      <td>50.00</td>\n",
       "    </tr>\n",
       "    <tr>\n",
       "      <th>mean</th>\n",
       "      <td>5.01</td>\n",
       "      <td>5.94</td>\n",
       "      <td>6.59</td>\n",
       "    </tr>\n",
       "    <tr>\n",
       "      <th>std</th>\n",
       "      <td>0.35</td>\n",
       "      <td>0.52</td>\n",
       "      <td>0.64</td>\n",
       "    </tr>\n",
       "    <tr>\n",
       "      <th>min</th>\n",
       "      <td>4.30</td>\n",
       "      <td>4.90</td>\n",
       "      <td>4.90</td>\n",
       "    </tr>\n",
       "    <tr>\n",
       "      <th>25%</th>\n",
       "      <td>4.80</td>\n",
       "      <td>5.60</td>\n",
       "      <td>6.22</td>\n",
       "    </tr>\n",
       "    <tr>\n",
       "      <th>50%</th>\n",
       "      <td>5.00</td>\n",
       "      <td>5.90</td>\n",
       "      <td>6.50</td>\n",
       "    </tr>\n",
       "    <tr>\n",
       "      <th>75%</th>\n",
       "      <td>5.20</td>\n",
       "      <td>6.30</td>\n",
       "      <td>6.90</td>\n",
       "    </tr>\n",
       "    <tr>\n",
       "      <th>max</th>\n",
       "      <td>5.80</td>\n",
       "      <td>7.00</td>\n",
       "      <td>7.90</td>\n",
       "    </tr>\n",
       "    <tr>\n",
       "      <th rowspan=\"8\" valign=\"top\">SepalWidth</th>\n",
       "      <th>count</th>\n",
       "      <td>50.00</td>\n",
       "      <td>50.00</td>\n",
       "      <td>50.00</td>\n",
       "    </tr>\n",
       "    <tr>\n",
       "      <th>mean</th>\n",
       "      <td>3.42</td>\n",
       "      <td>2.77</td>\n",
       "      <td>2.97</td>\n",
       "    </tr>\n",
       "    <tr>\n",
       "      <th>std</th>\n",
       "      <td>0.38</td>\n",
       "      <td>0.31</td>\n",
       "      <td>0.32</td>\n",
       "    </tr>\n",
       "    <tr>\n",
       "      <th>min</th>\n",
       "      <td>2.30</td>\n",
       "      <td>2.00</td>\n",
       "      <td>2.20</td>\n",
       "    </tr>\n",
       "    <tr>\n",
       "      <th>25%</th>\n",
       "      <td>3.12</td>\n",
       "      <td>2.52</td>\n",
       "      <td>2.80</td>\n",
       "    </tr>\n",
       "    <tr>\n",
       "      <th>50%</th>\n",
       "      <td>3.40</td>\n",
       "      <td>2.80</td>\n",
       "      <td>3.00</td>\n",
       "    </tr>\n",
       "    <tr>\n",
       "      <th>75%</th>\n",
       "      <td>3.68</td>\n",
       "      <td>3.00</td>\n",
       "      <td>3.18</td>\n",
       "    </tr>\n",
       "    <tr>\n",
       "      <th>max</th>\n",
       "      <td>4.40</td>\n",
       "      <td>3.40</td>\n",
       "      <td>3.80</td>\n",
       "    </tr>\n",
       "    <tr>\n",
       "      <th rowspan=\"8\" valign=\"top\">PetalLength</th>\n",
       "      <th>count</th>\n",
       "      <td>50.00</td>\n",
       "      <td>50.00</td>\n",
       "      <td>50.00</td>\n",
       "    </tr>\n",
       "    <tr>\n",
       "      <th>mean</th>\n",
       "      <td>1.46</td>\n",
       "      <td>4.26</td>\n",
       "      <td>5.55</td>\n",
       "    </tr>\n",
       "    <tr>\n",
       "      <th>std</th>\n",
       "      <td>0.17</td>\n",
       "      <td>0.47</td>\n",
       "      <td>0.55</td>\n",
       "    </tr>\n",
       "    <tr>\n",
       "      <th>min</th>\n",
       "      <td>1.00</td>\n",
       "      <td>3.00</td>\n",
       "      <td>4.50</td>\n",
       "    </tr>\n",
       "    <tr>\n",
       "      <th>25%</th>\n",
       "      <td>1.40</td>\n",
       "      <td>4.00</td>\n",
       "      <td>5.10</td>\n",
       "    </tr>\n",
       "    <tr>\n",
       "      <th>50%</th>\n",
       "      <td>1.50</td>\n",
       "      <td>4.35</td>\n",
       "      <td>5.55</td>\n",
       "    </tr>\n",
       "    <tr>\n",
       "      <th>75%</th>\n",
       "      <td>1.58</td>\n",
       "      <td>4.60</td>\n",
       "      <td>5.88</td>\n",
       "    </tr>\n",
       "    <tr>\n",
       "      <th>max</th>\n",
       "      <td>1.90</td>\n",
       "      <td>5.10</td>\n",
       "      <td>6.90</td>\n",
       "    </tr>\n",
       "    <tr>\n",
       "      <th rowspan=\"8\" valign=\"top\">PetalWidth</th>\n",
       "      <th>count</th>\n",
       "      <td>50.00</td>\n",
       "      <td>50.00</td>\n",
       "      <td>50.00</td>\n",
       "    </tr>\n",
       "    <tr>\n",
       "      <th>mean</th>\n",
       "      <td>0.24</td>\n",
       "      <td>1.33</td>\n",
       "      <td>2.03</td>\n",
       "    </tr>\n",
       "    <tr>\n",
       "      <th>std</th>\n",
       "      <td>0.11</td>\n",
       "      <td>0.20</td>\n",
       "      <td>0.27</td>\n",
       "    </tr>\n",
       "    <tr>\n",
       "      <th>min</th>\n",
       "      <td>0.10</td>\n",
       "      <td>1.00</td>\n",
       "      <td>1.40</td>\n",
       "    </tr>\n",
       "    <tr>\n",
       "      <th>25%</th>\n",
       "      <td>0.20</td>\n",
       "      <td>1.20</td>\n",
       "      <td>1.80</td>\n",
       "    </tr>\n",
       "    <tr>\n",
       "      <th>50%</th>\n",
       "      <td>0.20</td>\n",
       "      <td>1.30</td>\n",
       "      <td>2.00</td>\n",
       "    </tr>\n",
       "    <tr>\n",
       "      <th>75%</th>\n",
       "      <td>0.30</td>\n",
       "      <td>1.50</td>\n",
       "      <td>2.30</td>\n",
       "    </tr>\n",
       "    <tr>\n",
       "      <th>max</th>\n",
       "      <td>0.60</td>\n",
       "      <td>1.80</td>\n",
       "      <td>2.50</td>\n",
       "    </tr>\n",
       "  </tbody>\n",
       "</table>\n",
       "</div>"
      ],
      "text/plain": [
       "Name               Iris-setosa  Iris-versicolor  Iris-virginica\n",
       "SepalLength count        50.00            50.00           50.00\n",
       "            mean          5.01             5.94            6.59\n",
       "            std           0.35             0.52            0.64\n",
       "            min           4.30             4.90            4.90\n",
       "            25%           4.80             5.60            6.22\n",
       "            50%           5.00             5.90            6.50\n",
       "            75%           5.20             6.30            6.90\n",
       "            max           5.80             7.00            7.90\n",
       "SepalWidth  count        50.00            50.00           50.00\n",
       "            mean          3.42             2.77            2.97\n",
       "            std           0.38             0.31            0.32\n",
       "            min           2.30             2.00            2.20\n",
       "            25%           3.12             2.52            2.80\n",
       "            50%           3.40             2.80            3.00\n",
       "            75%           3.68             3.00            3.18\n",
       "            max           4.40             3.40            3.80\n",
       "PetalLength count        50.00            50.00           50.00\n",
       "            mean          1.46             4.26            5.55\n",
       "            std           0.17             0.47            0.55\n",
       "            min           1.00             3.00            4.50\n",
       "            25%           1.40             4.00            5.10\n",
       "            50%           1.50             4.35            5.55\n",
       "            75%           1.58             4.60            5.88\n",
       "            max           1.90             5.10            6.90\n",
       "PetalWidth  count        50.00            50.00           50.00\n",
       "            mean          0.24             1.33            2.03\n",
       "            std           0.11             0.20            0.27\n",
       "            min           0.10             1.00            1.40\n",
       "            25%           0.20             1.20            1.80\n",
       "            50%           0.20             1.30            2.00\n",
       "            75%           0.30             1.50            2.30\n",
       "            max           0.60             1.80            2.50"
      ]
     },
     "execution_count": 64,
     "metadata": {},
     "output_type": "execute_result"
    }
   ],
   "source": [
    "irisdata.groupby('Name').describe().T"
   ]
  },
  {
   "cell_type": "code",
   "execution_count": 65,
   "id": "905884ef",
   "metadata": {},
   "outputs": [
    {
     "data": {
      "text/html": [
       "<div>\n",
       "<style scoped>\n",
       "    .dataframe tbody tr th:only-of-type {\n",
       "        vertical-align: middle;\n",
       "    }\n",
       "\n",
       "    .dataframe tbody tr th {\n",
       "        vertical-align: top;\n",
       "    }\n",
       "\n",
       "    .dataframe thead th {\n",
       "        text-align: right;\n",
       "    }\n",
       "</style>\n",
       "<table border=\"1\" class=\"dataframe\">\n",
       "  <thead>\n",
       "    <tr style=\"text-align: right;\">\n",
       "      <th></th>\n",
       "      <th>SepalLength</th>\n",
       "      <th>SepalWidth</th>\n",
       "      <th>PetalLength</th>\n",
       "      <th>PetalWidth</th>\n",
       "    </tr>\n",
       "  </thead>\n",
       "  <tbody>\n",
       "    <tr>\n",
       "      <th>SepalLength</th>\n",
       "      <td>0.69</td>\n",
       "      <td>-0.04</td>\n",
       "      <td>1.27</td>\n",
       "      <td>0.52</td>\n",
       "    </tr>\n",
       "    <tr>\n",
       "      <th>SepalWidth</th>\n",
       "      <td>-0.04</td>\n",
       "      <td>0.19</td>\n",
       "      <td>-0.32</td>\n",
       "      <td>-0.12</td>\n",
       "    </tr>\n",
       "    <tr>\n",
       "      <th>PetalLength</th>\n",
       "      <td>1.27</td>\n",
       "      <td>-0.32</td>\n",
       "      <td>3.11</td>\n",
       "      <td>1.30</td>\n",
       "    </tr>\n",
       "    <tr>\n",
       "      <th>PetalWidth</th>\n",
       "      <td>0.52</td>\n",
       "      <td>-0.12</td>\n",
       "      <td>1.30</td>\n",
       "      <td>0.58</td>\n",
       "    </tr>\n",
       "  </tbody>\n",
       "</table>\n",
       "</div>"
      ],
      "text/plain": [
       "             SepalLength  SepalWidth  PetalLength  PetalWidth\n",
       "SepalLength         0.69       -0.04         1.27        0.52\n",
       "SepalWidth         -0.04        0.19        -0.32       -0.12\n",
       "PetalLength         1.27       -0.32         3.11        1.30\n",
       "PetalWidth          0.52       -0.12         1.30        0.58"
      ]
     },
     "execution_count": 65,
     "metadata": {},
     "output_type": "execute_result"
    }
   ],
   "source": [
    "irisdata.cov() #covariance 공분산"
   ]
  },
  {
   "cell_type": "code",
   "execution_count": 66,
   "id": "7590f3b2",
   "metadata": {},
   "outputs": [
    {
     "data": {
      "text/html": [
       "<div>\n",
       "<style scoped>\n",
       "    .dataframe tbody tr th:only-of-type {\n",
       "        vertical-align: middle;\n",
       "    }\n",
       "\n",
       "    .dataframe tbody tr th {\n",
       "        vertical-align: top;\n",
       "    }\n",
       "\n",
       "    .dataframe thead th {\n",
       "        text-align: right;\n",
       "    }\n",
       "</style>\n",
       "<table border=\"1\" class=\"dataframe\">\n",
       "  <thead>\n",
       "    <tr style=\"text-align: right;\">\n",
       "      <th></th>\n",
       "      <th></th>\n",
       "      <th>SepalLength</th>\n",
       "      <th>SepalWidth</th>\n",
       "      <th>PetalLength</th>\n",
       "      <th>PetalWidth</th>\n",
       "    </tr>\n",
       "    <tr>\n",
       "      <th>Name</th>\n",
       "      <th></th>\n",
       "      <th></th>\n",
       "      <th></th>\n",
       "      <th></th>\n",
       "      <th></th>\n",
       "    </tr>\n",
       "  </thead>\n",
       "  <tbody>\n",
       "    <tr>\n",
       "      <th rowspan=\"4\" valign=\"top\">Iris-setosa</th>\n",
       "      <th>SepalLength</th>\n",
       "      <td>1.00</td>\n",
       "      <td>0.75</td>\n",
       "      <td>0.26</td>\n",
       "      <td>0.28</td>\n",
       "    </tr>\n",
       "    <tr>\n",
       "      <th>SepalWidth</th>\n",
       "      <td>0.75</td>\n",
       "      <td>1.00</td>\n",
       "      <td>0.18</td>\n",
       "      <td>0.28</td>\n",
       "    </tr>\n",
       "    <tr>\n",
       "      <th>PetalLength</th>\n",
       "      <td>0.26</td>\n",
       "      <td>0.18</td>\n",
       "      <td>1.00</td>\n",
       "      <td>0.31</td>\n",
       "    </tr>\n",
       "    <tr>\n",
       "      <th>PetalWidth</th>\n",
       "      <td>0.28</td>\n",
       "      <td>0.28</td>\n",
       "      <td>0.31</td>\n",
       "      <td>1.00</td>\n",
       "    </tr>\n",
       "    <tr>\n",
       "      <th rowspan=\"4\" valign=\"top\">Iris-versicolor</th>\n",
       "      <th>SepalLength</th>\n",
       "      <td>1.00</td>\n",
       "      <td>0.53</td>\n",
       "      <td>0.75</td>\n",
       "      <td>0.55</td>\n",
       "    </tr>\n",
       "    <tr>\n",
       "      <th>SepalWidth</th>\n",
       "      <td>0.53</td>\n",
       "      <td>1.00</td>\n",
       "      <td>0.56</td>\n",
       "      <td>0.66</td>\n",
       "    </tr>\n",
       "    <tr>\n",
       "      <th>PetalLength</th>\n",
       "      <td>0.75</td>\n",
       "      <td>0.56</td>\n",
       "      <td>1.00</td>\n",
       "      <td>0.79</td>\n",
       "    </tr>\n",
       "    <tr>\n",
       "      <th>PetalWidth</th>\n",
       "      <td>0.55</td>\n",
       "      <td>0.66</td>\n",
       "      <td>0.79</td>\n",
       "      <td>1.00</td>\n",
       "    </tr>\n",
       "    <tr>\n",
       "      <th rowspan=\"4\" valign=\"top\">Iris-virginica</th>\n",
       "      <th>SepalLength</th>\n",
       "      <td>1.00</td>\n",
       "      <td>0.46</td>\n",
       "      <td>0.86</td>\n",
       "      <td>0.28</td>\n",
       "    </tr>\n",
       "    <tr>\n",
       "      <th>SepalWidth</th>\n",
       "      <td>0.46</td>\n",
       "      <td>1.00</td>\n",
       "      <td>0.40</td>\n",
       "      <td>0.54</td>\n",
       "    </tr>\n",
       "    <tr>\n",
       "      <th>PetalLength</th>\n",
       "      <td>0.86</td>\n",
       "      <td>0.40</td>\n",
       "      <td>1.00</td>\n",
       "      <td>0.32</td>\n",
       "    </tr>\n",
       "    <tr>\n",
       "      <th>PetalWidth</th>\n",
       "      <td>0.28</td>\n",
       "      <td>0.54</td>\n",
       "      <td>0.32</td>\n",
       "      <td>1.00</td>\n",
       "    </tr>\n",
       "  </tbody>\n",
       "</table>\n",
       "</div>"
      ],
      "text/plain": [
       "                             SepalLength  SepalWidth  PetalLength  PetalWidth\n",
       "Name                                                                         \n",
       "Iris-setosa     SepalLength         1.00        0.75         0.26        0.28\n",
       "                SepalWidth          0.75        1.00         0.18        0.28\n",
       "                PetalLength         0.26        0.18         1.00        0.31\n",
       "                PetalWidth          0.28        0.28         0.31        1.00\n",
       "Iris-versicolor SepalLength         1.00        0.53         0.75        0.55\n",
       "                SepalWidth          0.53        1.00         0.56        0.66\n",
       "                PetalLength         0.75        0.56         1.00        0.79\n",
       "                PetalWidth          0.55        0.66         0.79        1.00\n",
       "Iris-virginica  SepalLength         1.00        0.46         0.86        0.28\n",
       "                SepalWidth          0.46        1.00         0.40        0.54\n",
       "                PetalLength         0.86        0.40         1.00        0.32\n",
       "                PetalWidth          0.28        0.54         0.32        1.00"
      ]
     },
     "execution_count": 66,
     "metadata": {},
     "output_type": "execute_result"
    }
   ],
   "source": [
    "irisdata.groupby('Name').corr() #correlation 상관분석\n",
    "#groupby를 통해 데이터를 그룹화하여 정리할 수 있다"
   ]
  },
  {
   "cell_type": "markdown",
   "id": "8680eff4",
   "metadata": {},
   "source": [
    "__4. Data visulization : matplotlib__\n",
    "- plt.bar : bar chart\n",
    "- plt.scatter : scatter chart\n",
    "- plt.boxplot : 최대 최소 median(중간, 2분위계수) 1분위수와 3분위수\n",
    "- plt.hist : histogram\n",
    "- plt.plot : line graph\n",
    "- Also, hist(), boxplot(), and plot() method can be applied to DataFrame."
   ]
  },
  {
   "cell_type": "code",
   "execution_count": 67,
   "id": "5bb00b07",
   "metadata": {},
   "outputs": [
    {
     "data": {
      "image/png": "[encoded data removed]",
      "text/plain": [
       "<Figure size 432x288 with 2 Axes>"
      ]
     },
     "metadata": {
      "needs_background": "light"
     },
     "output_type": "display_data"
    }
   ],
   "source": [
    "plt.figure(figsize=(6,4)) #캔버스, 항상 필요하다, 시작 \n",
    "#figsize를 통해 데이터를 시각화 할 배경의 크기를 먼저 설정한다\n",
    "plt.subplot(1,2,1) #(row, column, order)\n",
    "plt.subplot(1,2,2) #subplot기능을 이용하여 시각화할 데이터들의 좌표를 입력한다\n",
    "plt.show() #작업의 종료를 의미, 반드시 마지막에 넣어준다"
   ]
  },
  {
   "cell_type": "code",
   "execution_count": 68,
   "id": "5d518de3",
   "metadata": {},
   "outputs": [
    {
     "data": {
      "text/plain": [
       "<AxesSubplot:>"
      ]
     },
     "execution_count": 68,
     "metadata": {},
     "output_type": "execute_result"
    },
    {
     "data": {
      "image/png": "[encoded data removed]",
      "text/plain": [
       "<Figure size 432x288 with 2 Axes>"
      ]
     },
     "metadata": {
      "needs_background": "light"
     },
     "output_type": "display_data"
    }
   ],
   "source": [
    "plt.subplot(2,1,1) #(row, column, order)\n",
    "plt.subplot(2,1,2)"
   ]
  },
  {
   "cell_type": "code",
   "execution_count": 69,
   "id": "bfe68f5d",
   "metadata": {},
   "outputs": [
    {
     "data": {
      "image/png": "[encoded data removed]",
      "text/plain": [
       "<Figure size 432x288 with 1 Axes>"
      ]
     },
     "metadata": {
      "needs_background": "light"
     },
     "output_type": "display_data"
    }
   ],
   "source": [
    "iris.boxplot()\n",
    "plt.show()"
   ]
  },
  {
   "cell_type": "code",
   "execution_count": 70,
   "id": "00fb7c6e",
   "metadata": {},
   "outputs": [
    {
     "data": {
      "image/png": "[encoded data removed]",
      "text/plain": [
       "<Figure size 432x288 with 4 Axes>"
      ]
     },
     "metadata": {
      "needs_background": "light"
     },
     "output_type": "display_data"
    }
   ],
   "source": [
    "iris.hist()\n",
    "plt.show()"
   ]
  },
  {
   "cell_type": "code",
   "execution_count": 71,
   "id": "16f34676",
   "metadata": {},
   "outputs": [
    {
     "data": {
      "image/png": "[encoded data removed]",
      "text/plain": [
       "<Figure size 432x288 with 1 Axes>"
      ]
     },
     "metadata": {
      "needs_background": "light"
     },
     "output_type": "display_data"
    }
   ],
   "source": [
    "iris.plot()\n",
    "plt.show()"
   ]
  },
  {
   "cell_type": "code",
   "execution_count": 73,
   "id": "1a55b768",
   "metadata": {},
   "outputs": [
    {
     "data": {
      "image/png": "[encoded data removed]",
      "text/plain": [
       "<Figure size 432x288 with 1 Axes>"
      ]
     },
     "metadata": {
      "needs_background": "light"
     },
     "output_type": "display_data"
    }
   ],
   "source": [
    "plt.scatter(iris['petalL'], iris['petalW'])\n",
    "plt.show()\n",
    "#scatter는 변수가 2개 필요, iris 데이터에는 4개의 변수가 있기에 원하는 거 두개 뽑아오면됨"
   ]
  },
  {
   "cell_type": "code",
   "execution_count": 15,
   "id": "36119f13",
   "metadata": {},
   "outputs": [
    {
     "data": {
      "image/png": "[encoded data removed]",
      "text/plain": [
       "<Figure size 864x216 with 2 Axes>"
      ]
     },
     "metadata": {
      "needs_background": "light"
     },
     "output_type": "display_data"
    }
   ],
   "source": [
    "year, number = (['1st Year', '2nd Year', '3rd Year', '4th Year'],[14,11,15,18])\n",
    "plt.figure(figsize=(12,3))\n",
    "plt.subplot(1,2,1)\n",
    "plt.bar(year,number)\n",
    "plt.subplot(1,2,2)\n",
    "plt.barh(year,number) #옆으로\n",
    "plt.show()"
   ]
  },
  {
   "cell_type": "code",
   "execution_count": 16,
   "id": "e0870f0e",
   "metadata": {},
   "outputs": [
    {
     "data": {
      "image/png": "[encoded data removed]",
      "text/plain": [
       "<Figure size 432x216 with 1 Axes>"
      ]
     },
     "metadata": {
      "needs_background": "light"
     },
     "output_type": "display_data"
    }
   ],
   "source": [
    "students = pd.Series([14,11,15,18], index = ['1st Year', '2nd Year', '3rd Year', '4th Year'])\n",
    "plt.figure()\n",
    "students.sort_values().plot(kind='barh', grid=True, figsize = (6,3)) \n",
    "#kind 종류 #grid = 눈금 #사이즈까지\n",
    "plt.show()"
   ]
  },
  {
   "cell_type": "code",
   "execution_count": 8,
   "id": "bb14a4a5",
   "metadata": {},
   "outputs": [],
   "source": [
    "setosa = iris.iloc[0:50,:]\n",
    "versicolor = iris.iloc[50:100,:]\n",
    "verginica = iris.iloc[100:150,:]"
   ]
  },
  {
   "cell_type": "code",
   "execution_count": 9,
   "id": "5a6a0c88",
   "metadata": {},
   "outputs": [
    {
     "data": {
      "image/png": "[encoded data removed]",
      "text/plain": [
       "<Figure size 432x288 with 1 Axes>"
      ]
     },
     "metadata": {
      "needs_background": "light"
     },
     "output_type": "display_data"
    }
   ],
   "source": [
    "x = np.linspace(0, 2*np.pi, 400) #linspace : 구간, 간격을 정해 쪼갬\n",
    "y = np.sin(x**2) #사인그래프\n",
    "\n",
    "fig, ax = plt.subplots()  #fig, 는 캔버스\n",
    "ax.plot(x, y)\n",
    "ax.set_title('Simple plot')\n",
    "plt.show()"
   ]
  },
  {
   "cell_type": "code",
   "execution_count": 10,
   "id": "75a3f668",
   "metadata": {},
   "outputs": [
    {
     "data": {
      "image/png": "[encoded data removed]",
      "text/plain": [
       "<Figure size 432x288 with 1 Axes>"
      ]
     },
     "metadata": {
      "needs_background": "light"
     },
     "output_type": "display_data"
    }
   ],
   "source": [
    "plt.figure(figsize=(6,4))\n",
    "plt.hist(iris['sepalL'], color = 'red')\n",
    "plt.hist(setosa['sepalL'])\n",
    "plt.hist(versicolor['sepalL'])\n",
    "plt.hist(verginica['sepalL'])\n",
    "plt.xlabel('Sepal Length(cm)', fontsize=10)\n",
    "plt.ylabel('Frequency', fontsize=10)\n",
    "plt.show()"
   ]
  },
  {
   "cell_type": "code",
   "execution_count": 11,
   "id": "f9a29e18",
   "metadata": {},
   "outputs": [],
   "source": [
    "kinds = [setosa, versicolor, verginica]\n",
    "names = ['Setosa','Versicolor','Verginica']"
   ]
  },
  {
   "cell_type": "code",
   "execution_count": 12,
   "id": "788ac2fa",
   "metadata": {},
   "outputs": [
    {
     "data": {
      "image/png": "[encoded data removed]",
      "text/plain": [
       "<Figure size 432x288 with 1 Axes>"
      ]
     },
     "metadata": {
      "needs_background": "light"
     },
     "output_type": "display_data"
    }
   ],
   "source": [
    "fig, ax = plt.subplots(figsize = (6,4)) #위의 fig에 같은 크기로 subplot지정\n",
    "for name, kind in zip(names, kinds): #for문을 통해 여러 그래프 붙이기\n",
    "    ax.plot(kind.petalL, #x축\n",
    "            kind.petalW, #y축\n",
    "            marker='o', #모양\n",
    "            linestyle='', #라인을 없애라\n",
    "            label=name) \n",
    "ax.legend(fontsize=10, loc='upper left') #값들의 이름을 왼쪽 상단에 위치해라\n",
    "fig.suptitle('Distribution of Iris by its Kinds') #그래프의 이름\n",
    "plt.xlabel('Petal Length(cm)', fontsize=10) #x축 이름\n",
    "plt.ylabel('Petal Width(cm)', fontsize=10) #y축 이름\n",
    "plt.show()"
   ]
  },
  {
   "cell_type": "code",
   "execution_count": 13,
   "id": "7a0ffeef",
   "metadata": {},
   "outputs": [
    {
     "data": {
      "image/png": "[encoded data removed]",
      "text/plain": [
       "<Figure size 432x288 with 1 Axes>"
      ]
     },
     "metadata": {
      "needs_background": "light"
     },
     "output_type": "display_data"
    }
   ],
   "source": [
    "fig, ax = plt.subplots(figsize = (6,4))\n",
    "plt.hist(iris['sepalL'])\n",
    "for x, y in zip(names, kinds):\n",
    "    ax.hist(y.sepalL, label=x)\n",
    "plt.title('Distribution of Iris by its Kinds')\n",
    "plt.xlabel('Petal Length(cm)', fontsize=10)\n",
    "ax.legend(fontsize=10, loc='upper right')\n",
    "plt.ylabel('Frequency', fontsize=10)\n",
    "plt.show()"
   ]
  },
  {
   "cell_type": "code",
   "execution_count": 17,
   "id": "c3b9b8b7",
   "metadata": {
    "scrolled": true
   },
   "outputs": [
    {
     "data": {
      "image/png": "[encoded data removed]",
      "text/plain": [
       "<Figure size 504x288 with 1 Axes>"
      ]
     },
     "metadata": {},
     "output_type": "display_data"
    }
   ],
   "source": [
    "fig, ax = plt.subplots(figsize=(7,4))\n",
    "ax.pie(students, explode=(0,1,0,0.1), labels = students.index,\n",
    "      autopct='%1.2f%%', shadow=True, startangle=90)\n",
    "fig.suptitle(\"Students by Year\", fontsize=14) #전체에 붙이는 슈퍼타이틀\n",
    "ax.axis('equal')\n",
    "plt.show()\n",
    "\n",
    "#autopct = 소숫점둘째짜리까지 %비율로 나타내라, % 앞 뒤에 %로 감싼 형태\n",
    "#explode =  파이를 떨어뜨려놓는 정도, 0000이면 다 붙음\n",
    "#stratangle은 보통 90으로 시작한다"
   ]
  },
  {
   "cell_type": "code",
   "execution_count": 1,
   "id": "7de84156",
   "metadata": {},
   "outputs": [],
   "source": [
    "import seaborn as sns"
   ]
  },
  {
   "cell_type": "code",
   "execution_count": 19,
   "id": "36f3311b",
   "metadata": {},
   "outputs": [
    {
     "data": {
      "image/png": "[encoded data removed]",
      "text/plain": [
       "<Figure size 576x432 with 1 Axes>"
      ]
     },
     "metadata": {
      "needs_background": "light"
     },
     "output_type": "display_data"
    }
   ],
   "source": [
    "plt.figure(figsize=(8,6))\n",
    "sns.set_style('whitegrid')\n",
    "iris_scat = sns.scatterplot(x='petalL', y='petalW', palette = 'bright',\n",
    "                           hue = 'Name', style = 'Name', s=80, data=iris)\n",
    "iris_scat.set_title('Iris Distribution by Sepal', fontsize = 14)\n",
    "iris_scat.set(xlabel = 'Sepal Length(cm)', ylabel = 'Sepal Width(cm)')\n",
    "plt.show()\n",
    "\n",
    "#palette = 'bright' 좀 더 밝게 해라\n",
    "#hue, style = name, 이름마다 바뀐다"
   ]
  },
  {
   "cell_type": "code",
   "execution_count": 22,
   "id": "88bca92d",
   "metadata": {},
   "outputs": [
    {
     "data": {
      "image/png": "[encoded data removed]",
      "text/plain": [
       "<Figure size 432x432 with 1 Axes>"
      ]
     },
     "metadata": {},
     "output_type": "display_data"
    }
   ],
   "source": [
    "plt.figure(figsize=(6,6))\n",
    "sns.boxplot(x='Name', y='sepalW', data=iris)\n",
    "plt.show()"
   ]
  },
  {
   "cell_type": "markdown",
   "id": "f88ef044",
   "metadata": {},
   "source": [
    "fig, ax = plt.subplots() 를 통해 그래프의 Figure와 서브플롯을 생성하는 코드가 있습니다. \n",
    "\n",
    "해당 부분의 설명이 조금 어려워서, 나름대로 찾아봤는데 (링크 참고)\n",
    "\n",
    "fig 라는 변수를 객체화를 먼저 시키고 (i.e, fix = plt.figure()), 이후 리턴된값이 ax에 적용되어 \n",
    "\n",
    "ax = fig.subplots()라는 과정이 한번에 일어난다고 합니다. \n",
    "\n",
    "즉, \n",
    "\n",
    "fig, ax = plt.subplots() 는 \n",
    "\n",
    "fig = plt.subplots()\n",
    "\n",
    "ax = fig.subplots() 와 동일한 의미로 보입니다. "
   ]
  },
  {
   "cell_type": "markdown",
   "id": "bc2a6e97",
   "metadata": {},
   "source": [
    "설명이 좀 부족한 부분을 잘 찾아냈네요^^. fig, ax 방식으로 하면 subplot을 여러장 붙일때 (2,2,1) 과 같이 지정하지 않고 subplot의 배치에 관한 설정을 매트릭스 디멘전 설정방식으로 합니다. 즉, 위 아래로 두장을 붙일 때 \n",
    "\n",
    "fig, (ax1, ax2) = plt.subplots(2,1) 로 지정하고 이어서 ax1과 ax2에 각각 원하는 그래프를 메스드 방식으로 설정해 주면 됩니다. fig는 캔버스를 정의하고 거기에 두개의 subplot 붙는 것이지요. 사실 그냥 plt를 이용해 캔버스를 만들고 그림을 붙여나가도 되나 이 방식이 조금 덜 수고를 덜고 코드가 짧아집니다. 앞으로 업데이트 버전을 만들 때는 보완을 하려고 합니다. 현재도 최근 코세라에 개설한 강좌에는 이부분이 많이 보완되어 있습니다. 코세라 강좌 11강에 있습니다. 다만 영상 길이가 길어지는 단점이 있습니다. 이 강좌를 만들 때는 최소한의 기초만 제고하면 나머지 부족한 부분은 구글링을 통해 충분히 찾아나갈 수 있다는 생각에 이정도로 그쳤는데 그동안 판다스와 데이터 시각화 부분에 대한 보완 요청이 많아 그러려고 합니다. --권영선 드림"
   ]
  },
  {
   "cell_type": "code",
   "execution_count": null,
   "id": "084db601",
   "metadata": {},
   "outputs": [],
   "source": []
  },
  {
   "cell_type": "code",
   "execution_count": null,
   "id": "dfe4ae4f",
   "metadata": {},
   "outputs": [],
   "source": []
  }
 ],
 "metadata": {
  "kernelspec": {
   "display_name": "Python 3",
   "language": "python",
   "name": "python3"
  },
  "language_info": {
   "codemirror_mode": {
    "name": "ipython",
    "version": 3
   },
   "file_extension": ".py",
   "mimetype": "text/x-python",
   "name": "python",
   "nbconvert_exporter": "python",
   "pygments_lexer": "ipython3",
   "version": "3.8.8"
  }
 },
 "nbformat": 4,
 "nbformat_minor": 5
}
