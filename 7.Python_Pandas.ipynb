{
 "cells": [
  {
   "cell_type": "markdown",
   "id": "80151267",
   "metadata": {},
   "source": [
    "# Python : Pandas\n",
    "- pandas for panel data(big data)\n",
    "- panel data : same subjects\n",
    "- Flexibile indexing\n",
    "- Series(1차원), DataFrames(2차원), MultiIndex(다차원)\n",
    "- panel data는 시간에 따른 데이터 변화를 나타낸 것이다\n",
    "\n",
    "세상에 존재하는 다양한 형태의 데이터를 모아서 처리하는데 유리하다(<=>수치연산의 넘파이)"
   ]
  },
  {
   "cell_type": "markdown",
   "id": "fff55465",
   "metadata": {},
   "source": [
    "__1. Pandas : Series creation and indexing__"
   ]
  },
  {
   "cell_type": "code",
   "execution_count": 1,
   "id": "a956b1f3",
   "metadata": {},
   "outputs": [],
   "source": [
    "import pandas as pd"
   ]
  },
  {
   "cell_type": "code",
   "execution_count": 3,
   "id": "1e2bfc73",
   "metadata": {},
   "outputs": [
    {
     "name": "stdout",
     "output_type": "stream",
     "text": [
      "0    80\n",
      "1    82\n",
      "2    84\n",
      "3    86\n",
      "4    88\n",
      "5    90\n",
      "6    92\n",
      "7    94\n",
      "8    96\n",
      "9    98\n",
      "dtype: int64\n"
     ]
    }
   ],
   "source": [
    "grades = pd.Series(range(80, 100, 2))\n",
    "print(grades)\n",
    "#리스트에서는 range, 넘파이에서는 arange, 판다스에서는 range\n",
    "#인덱스는 자동으로 만들어진다"
   ]
  },
  {
   "cell_type": "code",
   "execution_count": 4,
   "id": "b5f169e7",
   "metadata": {},
   "outputs": [
    {
     "name": "stdout",
     "output_type": "stream",
     "text": [
      "count    10.000000\n",
      "mean     89.000000\n",
      "std       6.055301\n",
      "min      80.000000\n",
      "25%      84.500000\n",
      "50%      89.000000\n",
      "75%      93.500000\n",
      "max      98.000000\n",
      "dtype: float64\n",
      "10\n"
     ]
    }
   ],
   "source": [
    "print(grades.describe())\n",
    "#판다스는 인덱스를 유연하게 변경할 수 있다 + 원하는 내용을 인덱스로 사용할 수 있다\n",
    "print(len(grades))"
   ]
  },
  {
   "cell_type": "code",
   "execution_count": 7,
   "id": "848bb884",
   "metadata": {},
   "outputs": [
    {
     "name": "stdout",
     "output_type": "stream",
     "text": [
      "Kim     175\n",
      "Kwon    184\n",
      "Lee     170\n",
      "dtype: int64\n",
      "184 184 184\n"
     ]
    }
   ],
   "source": [
    "height = pd.Series([175,184,170], index = ['Kim','Kwon','Lee']) #인덱스지정\n",
    "print(height)\n",
    "print(height.Kwon, height['Kwon'], height[1]) #다양하게 출력 가능"
   ]
  },
  {
   "cell_type": "code",
   "execution_count": 8,
   "id": "7edbd48b",
   "metadata": {},
   "outputs": [
    {
     "name": "stdout",
     "output_type": "stream",
     "text": [
      "Korea    82\n",
      "Japan    81\n",
      "China    cn\n",
      "dtype: object\n"
     ]
    }
   ],
   "source": [
    "nations = pd.Series({'Korea':82,'Japan':81,'China':'cn'}) \n",
    "#리스트와 인덱스로 구성하는 방법 외에 dictionary를 이용할 수 있다\n",
    "print(nations)\n",
    "#판다스에서 인덱스는 왼쪽정렬, 컬럼의 변수는 오른쪽 정렬을 한다 "
   ]
  },
  {
   "cell_type": "markdown",
   "id": "38145e89",
   "metadata": {},
   "source": [
    "__2. Pnadas : DataFrames creation and indexing__"
   ]
  },
  {
   "cell_type": "code",
   "execution_count": 9,
   "id": "6225e500",
   "metadata": {},
   "outputs": [
    {
     "name": "stdout",
     "output_type": "stream",
     "text": [
      "   Spring  Summer  Fall  Winter\n",
      "0      10      24    24       8\n",
      "1      14      27    21       0\n",
      "2      18      30    18      -5\n"
     ]
    }
   ],
   "source": [
    "season_temps = pd.DataFrame({'Spring':[10,14,18],'Summer':[24,27,30],'\\\n",
    "Fall':[24,21,18],'Winter':[8,0,-5]})\n",
    "print(season_temps)\n",
    "#2차원 배열의 경우 키값이 자동으로 columns이 된다\n",
    "#row인덱스는 별도로 지정해줄 수 있다"
   ]
  },
  {
   "cell_type": "code",
   "execution_count": 10,
   "id": "a764998a",
   "metadata": {},
   "outputs": [
    {
     "name": "stdout",
     "output_type": "stream",
     "text": [
      "   Kim  Park  Sam  Kwon  Lee\n",
      "0   87   100   94   100   83\n",
      "1   96    87   77    90   65\n",
      "2   70    90   90    95   85\n"
     ]
    }
   ],
   "source": [
    "scores = {'Kim':[87,96,70],'Park':[100,87,90],'Sam':[94,77,90],'Kwon':[100,90,95],'Lee':[83,65,85]}\n",
    "scores_df = pd.DataFrame(scores)\n",
    "print(scores_df)"
   ]
  },
  {
   "cell_type": "code",
   "execution_count": 12,
   "id": "3144298a",
   "metadata": {},
   "outputs": [
    {
     "name": "stdout",
     "output_type": "stream",
     "text": [
      "         Kim  Park  Sam  Kwon  Lee\n",
      "Math      87   100   94   100   83\n",
      "Econ      96    87   77    90   65\n",
      "Physics   70    90   90    95   85\n",
      "         Kim  Park  Sam  Kwon  Lee\n",
      "Math      87   100   94   100   83\n",
      "Econ      96    87   77    90   65\n",
      "Physics   70    90   90    95   85\n"
     ]
    }
   ],
   "source": [
    "scores_ni = pd.DataFrame(scores, index = ['Math','Econ','Physics']) #새로운 변수로\n",
    "print(scores_ni)\n",
    "scores_df.index = ['Math','Econ','Physics'] #기존의 df에 인덱스 추가, 변형\n",
    "print(scores_df)"
   ]
  },
  {
   "cell_type": "markdown",
   "id": "f0d97137",
   "metadata": {},
   "source": [
    "__3. Pandas : DataFrame slicing__\n",
    "- loc : 설정해준 row네임으로\n",
    "- iloc : 자동할당된 index넘버로\n",
    "- at : 2차원의 DF에서 특정 데이터만 뽑아내는 것\n",
    "- iat : index를 특정하여 데이터를 뽑아내는 것"
   ]
  },
  {
   "cell_type": "code",
   "execution_count": 14,
   "id": "0bd2da23",
   "metadata": {},
   "outputs": [
    {
     "name": "stdout",
     "output_type": "stream",
     "text": [
      "Spring    10\n",
      "Summer    24\n",
      "Fall      24\n",
      "Winter     8\n",
      "Name: 0, dtype: int64\n",
      "\n",
      "Spring    10\n",
      "Summer    24\n",
      "Fall      24\n",
      "Winter     8\n",
      "Name: 0, dtype: int64\n"
     ]
    }
   ],
   "source": [
    "print(f'{season_temps.loc[0]}\\n\\n{season_temps.iloc[0]}')"
   ]
  },
  {
   "cell_type": "code",
   "execution_count": 23,
   "id": "c43b73fb",
   "metadata": {},
   "outputs": [
    {
     "name": "stdout",
     "output_type": "stream",
     "text": [
      "      Kim  Park  Sam  Kwon  Lee\n",
      "Math   87   100   94   100   83\n",
      "Econ   96    87   77    90   65\n",
      "\n",
      "      Kim  Park  Sam\n",
      "Math   87   100   94\n",
      "Econ   96    87   77\n"
     ]
    }
   ],
   "source": [
    "print(f'{scores_ni.loc[\"Math\":\"Econ\"]}\\n\\n{scores_df.iloc[:2,:3]}')"
   ]
  },
  {
   "cell_type": "code",
   "execution_count": 27,
   "id": "8cd33198",
   "metadata": {},
   "outputs": [
    {
     "name": "stdout",
     "output_type": "stream",
     "text": [
      "         Kim  Park  Sam  Kwon  Lee\n",
      "Math      87   100   94   100   83\n",
      "Physics   70    90   90    95   85\n",
      "\n",
      "         Kim  Park  Sam\n",
      "Math      87   100   94\n",
      "Physics   70    90   90\n"
     ]
    }
   ],
   "source": [
    "print(f'{scores_df.loc[[\"Math\",\"Physics\"]]}\\n\\n{scores_df.iloc[[0,2],:3]}')\n",
    "#콤마를 사용하면 특정 데이터값만 뽑아내는 것, 콜론은 일정 구간을 뽑아내는 기능"
   ]
  },
  {
   "cell_type": "code",
   "execution_count": 29,
   "id": "b16fbe05",
   "metadata": {},
   "outputs": [
    {
     "name": "stdout",
     "output_type": "stream",
     "text": [
      "         Kim  Sam\n",
      "Math      87   94\n",
      "Econ      96   77\n",
      "Physics   70   90\n",
      "\n",
      "         Kim  Park  Sam\n",
      "Math      87   100   94\n",
      "Physics   70    90   90\n"
     ]
    }
   ],
   "source": [
    "print(f'{scores_ni.loc[\"Math\":\"Physics\",[\"Kim\",\"Sam\"]]}\\\n",
    "\\n\\n{scores_df.iloc[[0,2],0:3]}')"
   ]
  },
  {
   "cell_type": "code",
   "execution_count": 32,
   "id": "6b857f6e",
   "metadata": {},
   "outputs": [
    {
     "name": "stdout",
     "output_type": "stream",
     "text": [
      "         Kim  Sam\n",
      "Math      87   94\n",
      "Physics   70   90\n"
     ]
    }
   ],
   "source": [
    "print(f'{scores_ni.loc[[\"Math\",\"Physics\"],[\"Kim\",\"Sam\"]]}')"
   ]
  },
  {
   "cell_type": "code",
   "execution_count": 36,
   "id": "bf6f026c",
   "metadata": {},
   "outputs": [
    {
     "name": "stdout",
     "output_type": "stream",
     "text": [
      "         Kim  Park  Sam  Kwon  Lee\n",
      "Math      87   100   94   100   83\n",
      "Econ      96    87   77    90   65\n",
      "Physics   70    90   90    95   85\n",
      "90 90\n"
     ]
    }
   ],
   "source": [
    "print(scores_df)\n",
    "print(scores_df.at['Econ','Kwon'], scores_df.iat[1,3])"
   ]
  },
  {
   "cell_type": "markdown",
   "id": "ff84580c",
   "metadata": {},
   "source": [
    "__4. Pandas : Boolean indexing__"
   ]
  },
  {
   "cell_type": "code",
   "execution_count": 38,
   "id": "5518ea78",
   "metadata": {},
   "outputs": [
    {
     "data": {
      "text/html": [
       "<div>\n",
       "<style scoped>\n",
       "    .dataframe tbody tr th:only-of-type {\n",
       "        vertical-align: middle;\n",
       "    }\n",
       "\n",
       "    .dataframe tbody tr th {\n",
       "        vertical-align: top;\n",
       "    }\n",
       "\n",
       "    .dataframe thead th {\n",
       "        text-align: right;\n",
       "    }\n",
       "</style>\n",
       "<table border=\"1\" class=\"dataframe\">\n",
       "  <thead>\n",
       "    <tr style=\"text-align: right;\">\n",
       "      <th></th>\n",
       "      <th>Kim</th>\n",
       "      <th>Park</th>\n",
       "      <th>Sam</th>\n",
       "      <th>Kwon</th>\n",
       "      <th>Lee</th>\n",
       "    </tr>\n",
       "  </thead>\n",
       "  <tbody>\n",
       "    <tr>\n",
       "      <th>Math</th>\n",
       "      <td>NaN</td>\n",
       "      <td>100.0</td>\n",
       "      <td>94.0</td>\n",
       "      <td>100</td>\n",
       "      <td>NaN</td>\n",
       "    </tr>\n",
       "    <tr>\n",
       "      <th>Econ</th>\n",
       "      <td>96.0</td>\n",
       "      <td>NaN</td>\n",
       "      <td>NaN</td>\n",
       "      <td>90</td>\n",
       "      <td>NaN</td>\n",
       "    </tr>\n",
       "    <tr>\n",
       "      <th>Physics</th>\n",
       "      <td>NaN</td>\n",
       "      <td>90.0</td>\n",
       "      <td>90.0</td>\n",
       "      <td>95</td>\n",
       "      <td>NaN</td>\n",
       "    </tr>\n",
       "  </tbody>\n",
       "</table>\n",
       "</div>"
      ],
      "text/plain": [
       "          Kim   Park   Sam  Kwon  Lee\n",
       "Math      NaN  100.0  94.0   100  NaN\n",
       "Econ     96.0    NaN   NaN    90  NaN\n",
       "Physics   NaN   90.0  90.0    95  NaN"
      ]
     },
     "execution_count": 38,
     "metadata": {},
     "output_type": "execute_result"
    }
   ],
   "source": [
    "scores_df[scores_df >= 90]\n",
    "#판다스에서 결측 데이터는 'NAN(Not A Number)'으로 표시됨"
   ]
  },
  {
   "cell_type": "code",
   "execution_count": 41,
   "id": "a2ea1986",
   "metadata": {},
   "outputs": [
    {
     "data": {
      "text/html": [
       "<div>\n",
       "<style scoped>\n",
       "    .dataframe tbody tr th:only-of-type {\n",
       "        vertical-align: middle;\n",
       "    }\n",
       "\n",
       "    .dataframe tbody tr th {\n",
       "        vertical-align: top;\n",
       "    }\n",
       "\n",
       "    .dataframe thead th {\n",
       "        text-align: right;\n",
       "    }\n",
       "</style>\n",
       "<table border=\"1\" class=\"dataframe\">\n",
       "  <thead>\n",
       "    <tr style=\"text-align: right;\">\n",
       "      <th></th>\n",
       "      <th>Kim</th>\n",
       "      <th>Park</th>\n",
       "      <th>Sam</th>\n",
       "      <th>Kwon</th>\n",
       "      <th>Lee</th>\n",
       "    </tr>\n",
       "  </thead>\n",
       "  <tbody>\n",
       "    <tr>\n",
       "      <th>Math</th>\n",
       "      <td>87.0</td>\n",
       "      <td>NaN</td>\n",
       "      <td>NaN</td>\n",
       "      <td>NaN</td>\n",
       "      <td>83.0</td>\n",
       "    </tr>\n",
       "    <tr>\n",
       "      <th>Econ</th>\n",
       "      <td>NaN</td>\n",
       "      <td>87.0</td>\n",
       "      <td>77.0</td>\n",
       "      <td>NaN</td>\n",
       "      <td>NaN</td>\n",
       "    </tr>\n",
       "    <tr>\n",
       "      <th>Physics</th>\n",
       "      <td>NaN</td>\n",
       "      <td>NaN</td>\n",
       "      <td>NaN</td>\n",
       "      <td>NaN</td>\n",
       "      <td>85.0</td>\n",
       "    </tr>\n",
       "  </tbody>\n",
       "</table>\n",
       "</div>"
      ],
      "text/plain": [
       "          Kim  Park   Sam  Kwon   Lee\n",
       "Math     87.0   NaN   NaN   NaN  83.0\n",
       "Econ      NaN  87.0  77.0   NaN   NaN\n",
       "Physics   NaN   NaN   NaN   NaN  85.0"
      ]
     },
     "execution_count": 41,
     "metadata": {},
     "output_type": "execute_result"
    }
   ],
   "source": [
    "scores_df[(scores_df < 90) & (scores_df > 70)]"
   ]
  },
  {
   "cell_type": "markdown",
   "id": "98b15724",
   "metadata": {},
   "source": [
    "__5. Pandas : Descriptive statistics__"
   ]
  },
  {
   "cell_type": "code",
   "execution_count": 42,
   "id": "ce37cdcc",
   "metadata": {},
   "outputs": [
    {
     "name": "stdout",
     "output_type": "stream",
     "text": [
      "          Kim     Park     Sam   Kwon     Lee\n",
      "count   3.000    3.000   3.000    3.0   3.000\n",
      "mean   84.333   92.333  87.000   95.0  77.667\n",
      "std    13.204    6.807   8.888    5.0  11.015\n",
      "min    70.000   87.000  77.000   90.0  65.000\n",
      "25%    78.500   88.500  83.500   92.5  74.000\n",
      "50%    87.000   90.000  90.000   95.0  83.000\n",
      "75%    91.500   95.000  92.000   97.5  84.000\n",
      "max    96.000  100.000  94.000  100.0  85.000\n"
     ]
    }
   ],
   "source": [
    "pd.set_option('precision', 3) #소수점 셋째자리까지 표현하라\n",
    "print(scores_df.describe())"
   ]
  },
  {
   "cell_type": "code",
   "execution_count": 49,
   "id": "c1243fa3",
   "metadata": {},
   "outputs": [
    {
     "data": {
      "text/plain": [
       "Kim     13.204\n",
       "Park     6.807\n",
       "Sam      8.888\n",
       "Kwon     5.000\n",
       "Lee     11.015\n",
       "dtype: float64"
      ]
     },
     "execution_count": 49,
     "metadata": {},
     "output_type": "execute_result"
    }
   ],
   "source": [
    "scores_df.mean()\n",
    "scores_df.std()"
   ]
  },
  {
   "cell_type": "markdown",
   "id": "24ad9ee5",
   "metadata": {},
   "source": [
    "__6. Pandas : Transposing__"
   ]
  },
  {
   "cell_type": "code",
   "execution_count": 50,
   "id": "7b643dda",
   "metadata": {},
   "outputs": [
    {
     "data": {
      "text/html": [
       "<div>\n",
       "<style scoped>\n",
       "    .dataframe tbody tr th:only-of-type {\n",
       "        vertical-align: middle;\n",
       "    }\n",
       "\n",
       "    .dataframe tbody tr th {\n",
       "        vertical-align: top;\n",
       "    }\n",
       "\n",
       "    .dataframe thead th {\n",
       "        text-align: right;\n",
       "    }\n",
       "</style>\n",
       "<table border=\"1\" class=\"dataframe\">\n",
       "  <thead>\n",
       "    <tr style=\"text-align: right;\">\n",
       "      <th></th>\n",
       "      <th>Math</th>\n",
       "      <th>Econ</th>\n",
       "      <th>Physics</th>\n",
       "    </tr>\n",
       "  </thead>\n",
       "  <tbody>\n",
       "    <tr>\n",
       "      <th>Kim</th>\n",
       "      <td>87</td>\n",
       "      <td>96</td>\n",
       "      <td>70</td>\n",
       "    </tr>\n",
       "    <tr>\n",
       "      <th>Park</th>\n",
       "      <td>100</td>\n",
       "      <td>87</td>\n",
       "      <td>90</td>\n",
       "    </tr>\n",
       "    <tr>\n",
       "      <th>Sam</th>\n",
       "      <td>94</td>\n",
       "      <td>77</td>\n",
       "      <td>90</td>\n",
       "    </tr>\n",
       "    <tr>\n",
       "      <th>Kwon</th>\n",
       "      <td>100</td>\n",
       "      <td>90</td>\n",
       "      <td>95</td>\n",
       "    </tr>\n",
       "    <tr>\n",
       "      <th>Lee</th>\n",
       "      <td>83</td>\n",
       "      <td>65</td>\n",
       "      <td>85</td>\n",
       "    </tr>\n",
       "  </tbody>\n",
       "</table>\n",
       "</div>"
      ],
      "text/plain": [
       "      Math  Econ  Physics\n",
       "Kim     87    96       70\n",
       "Park   100    87       90\n",
       "Sam     94    77       90\n",
       "Kwon   100    90       95\n",
       "Lee     83    65       85"
      ]
     },
     "execution_count": 50,
     "metadata": {},
     "output_type": "execute_result"
    }
   ],
   "source": [
    "scores_df.T #전치"
   ]
  },
  {
   "cell_type": "code",
   "execution_count": 51,
   "id": "b79f6022",
   "metadata": {},
   "outputs": [
    {
     "data": {
      "text/html": [
       "<div>\n",
       "<style scoped>\n",
       "    .dataframe tbody tr th:only-of-type {\n",
       "        vertical-align: middle;\n",
       "    }\n",
       "\n",
       "    .dataframe tbody tr th {\n",
       "        vertical-align: top;\n",
       "    }\n",
       "\n",
       "    .dataframe thead th {\n",
       "        text-align: right;\n",
       "    }\n",
       "</style>\n",
       "<table border=\"1\" class=\"dataframe\">\n",
       "  <thead>\n",
       "    <tr style=\"text-align: right;\">\n",
       "      <th></th>\n",
       "      <th>Math</th>\n",
       "      <th>Econ</th>\n",
       "      <th>Physics</th>\n",
       "    </tr>\n",
       "  </thead>\n",
       "  <tbody>\n",
       "    <tr>\n",
       "      <th>count</th>\n",
       "      <td>5.000</td>\n",
       "      <td>5.000</td>\n",
       "      <td>5.000</td>\n",
       "    </tr>\n",
       "    <tr>\n",
       "      <th>mean</th>\n",
       "      <td>92.800</td>\n",
       "      <td>83.000</td>\n",
       "      <td>86.000</td>\n",
       "    </tr>\n",
       "    <tr>\n",
       "      <th>std</th>\n",
       "      <td>7.662</td>\n",
       "      <td>12.186</td>\n",
       "      <td>9.618</td>\n",
       "    </tr>\n",
       "    <tr>\n",
       "      <th>min</th>\n",
       "      <td>83.000</td>\n",
       "      <td>65.000</td>\n",
       "      <td>70.000</td>\n",
       "    </tr>\n",
       "    <tr>\n",
       "      <th>25%</th>\n",
       "      <td>87.000</td>\n",
       "      <td>77.000</td>\n",
       "      <td>85.000</td>\n",
       "    </tr>\n",
       "    <tr>\n",
       "      <th>50%</th>\n",
       "      <td>94.000</td>\n",
       "      <td>87.000</td>\n",
       "      <td>90.000</td>\n",
       "    </tr>\n",
       "    <tr>\n",
       "      <th>75%</th>\n",
       "      <td>100.000</td>\n",
       "      <td>90.000</td>\n",
       "      <td>90.000</td>\n",
       "    </tr>\n",
       "    <tr>\n",
       "      <th>max</th>\n",
       "      <td>100.000</td>\n",
       "      <td>96.000</td>\n",
       "      <td>95.000</td>\n",
       "    </tr>\n",
       "  </tbody>\n",
       "</table>\n",
       "</div>"
      ],
      "text/plain": [
       "          Math    Econ  Physics\n",
       "count    5.000   5.000    5.000\n",
       "mean    92.800  83.000   86.000\n",
       "std      7.662  12.186    9.618\n",
       "min     83.000  65.000   70.000\n",
       "25%     87.000  77.000   85.000\n",
       "50%     94.000  87.000   90.000\n",
       "75%    100.000  90.000   90.000\n",
       "max    100.000  96.000   95.000"
      ]
     },
     "execution_count": 51,
     "metadata": {},
     "output_type": "execute_result"
    }
   ],
   "source": [
    "scores_df.T.describe()"
   ]
  },
  {
   "cell_type": "markdown",
   "id": "ebbde0be",
   "metadata": {},
   "source": [
    "__7. Pandas : Sorting by index and values__"
   ]
  },
  {
   "cell_type": "code",
   "execution_count": 52,
   "id": "5478dfdc",
   "metadata": {},
   "outputs": [
    {
     "data": {
      "text/html": [
       "<div>\n",
       "<style scoped>\n",
       "    .dataframe tbody tr th:only-of-type {\n",
       "        vertical-align: middle;\n",
       "    }\n",
       "\n",
       "    .dataframe tbody tr th {\n",
       "        vertical-align: top;\n",
       "    }\n",
       "\n",
       "    .dataframe thead th {\n",
       "        text-align: right;\n",
       "    }\n",
       "</style>\n",
       "<table border=\"1\" class=\"dataframe\">\n",
       "  <thead>\n",
       "    <tr style=\"text-align: right;\">\n",
       "      <th></th>\n",
       "      <th>Spring</th>\n",
       "      <th>Summer</th>\n",
       "      <th>Fall</th>\n",
       "      <th>Winter</th>\n",
       "    </tr>\n",
       "  </thead>\n",
       "  <tbody>\n",
       "    <tr>\n",
       "      <th>2</th>\n",
       "      <td>18</td>\n",
       "      <td>30</td>\n",
       "      <td>18</td>\n",
       "      <td>-5</td>\n",
       "    </tr>\n",
       "    <tr>\n",
       "      <th>1</th>\n",
       "      <td>14</td>\n",
       "      <td>27</td>\n",
       "      <td>21</td>\n",
       "      <td>0</td>\n",
       "    </tr>\n",
       "    <tr>\n",
       "      <th>0</th>\n",
       "      <td>10</td>\n",
       "      <td>24</td>\n",
       "      <td>24</td>\n",
       "      <td>8</td>\n",
       "    </tr>\n",
       "  </tbody>\n",
       "</table>\n",
       "</div>"
      ],
      "text/plain": [
       "   Spring  Summer  Fall  Winter\n",
       "2      18      30    18      -5\n",
       "1      14      27    21       0\n",
       "0      10      24    24       8"
      ]
     },
     "execution_count": 52,
     "metadata": {},
     "output_type": "execute_result"
    }
   ],
   "source": [
    "season_temps.sort_index(ascending=False) #== descending (descending = True는 지원x)\n",
    "#판다스는 메서드 방식으로 일관성있게 활용할 수 있다"
   ]
  },
  {
   "cell_type": "code",
   "execution_count": 53,
   "id": "9dfd77b4",
   "metadata": {},
   "outputs": [
    {
     "data": {
      "text/html": [
       "<div>\n",
       "<style scoped>\n",
       "    .dataframe tbody tr th:only-of-type {\n",
       "        vertical-align: middle;\n",
       "    }\n",
       "\n",
       "    .dataframe tbody tr th {\n",
       "        vertical-align: top;\n",
       "    }\n",
       "\n",
       "    .dataframe thead th {\n",
       "        text-align: right;\n",
       "    }\n",
       "</style>\n",
       "<table border=\"1\" class=\"dataframe\">\n",
       "  <thead>\n",
       "    <tr style=\"text-align: right;\">\n",
       "      <th></th>\n",
       "      <th>Kim</th>\n",
       "      <th>Park</th>\n",
       "      <th>Sam</th>\n",
       "      <th>Kwon</th>\n",
       "      <th>Lee</th>\n",
       "    </tr>\n",
       "  </thead>\n",
       "  <tbody>\n",
       "    <tr>\n",
       "      <th>Econ</th>\n",
       "      <td>96</td>\n",
       "      <td>87</td>\n",
       "      <td>77</td>\n",
       "      <td>90</td>\n",
       "      <td>65</td>\n",
       "    </tr>\n",
       "    <tr>\n",
       "      <th>Math</th>\n",
       "      <td>87</td>\n",
       "      <td>100</td>\n",
       "      <td>94</td>\n",
       "      <td>100</td>\n",
       "      <td>83</td>\n",
       "    </tr>\n",
       "    <tr>\n",
       "      <th>Physics</th>\n",
       "      <td>70</td>\n",
       "      <td>90</td>\n",
       "      <td>90</td>\n",
       "      <td>95</td>\n",
       "      <td>85</td>\n",
       "    </tr>\n",
       "  </tbody>\n",
       "</table>\n",
       "</div>"
      ],
      "text/plain": [
       "         Kim  Park  Sam  Kwon  Lee\n",
       "Econ      96    87   77    90   65\n",
       "Math      87   100   94   100   83\n",
       "Physics   70    90   90    95   85"
      ]
     },
     "execution_count": 53,
     "metadata": {},
     "output_type": "execute_result"
    }
   ],
   "source": [
    "scores_df.sort_index()\n",
    "#숫자가 아닐떄의 순서는 아스키코드순서(E-.M->P), column은 그대로"
   ]
  },
  {
   "cell_type": "code",
   "execution_count": 54,
   "id": "d0a70882",
   "metadata": {},
   "outputs": [
    {
     "data": {
      "text/html": [
       "<div>\n",
       "<style scoped>\n",
       "    .dataframe tbody tr th:only-of-type {\n",
       "        vertical-align: middle;\n",
       "    }\n",
       "\n",
       "    .dataframe tbody tr th {\n",
       "        vertical-align: top;\n",
       "    }\n",
       "\n",
       "    .dataframe thead th {\n",
       "        text-align: right;\n",
       "    }\n",
       "</style>\n",
       "<table border=\"1\" class=\"dataframe\">\n",
       "  <thead>\n",
       "    <tr style=\"text-align: right;\">\n",
       "      <th></th>\n",
       "      <th>Kim</th>\n",
       "      <th>Kwon</th>\n",
       "      <th>Lee</th>\n",
       "      <th>Park</th>\n",
       "      <th>Sam</th>\n",
       "    </tr>\n",
       "  </thead>\n",
       "  <tbody>\n",
       "    <tr>\n",
       "      <th>Math</th>\n",
       "      <td>87</td>\n",
       "      <td>100</td>\n",
       "      <td>83</td>\n",
       "      <td>100</td>\n",
       "      <td>94</td>\n",
       "    </tr>\n",
       "    <tr>\n",
       "      <th>Econ</th>\n",
       "      <td>96</td>\n",
       "      <td>90</td>\n",
       "      <td>65</td>\n",
       "      <td>87</td>\n",
       "      <td>77</td>\n",
       "    </tr>\n",
       "    <tr>\n",
       "      <th>Physics</th>\n",
       "      <td>70</td>\n",
       "      <td>95</td>\n",
       "      <td>85</td>\n",
       "      <td>90</td>\n",
       "      <td>90</td>\n",
       "    </tr>\n",
       "  </tbody>\n",
       "</table>\n",
       "</div>"
      ],
      "text/plain": [
       "         Kim  Kwon  Lee  Park  Sam\n",
       "Math      87   100   83   100   94\n",
       "Econ      96    90   65    87   77\n",
       "Physics   70    95   85    90   90"
      ]
     },
     "execution_count": 54,
     "metadata": {},
     "output_type": "execute_result"
    }
   ],
   "source": [
    "scores_df.sort_index(axis=1) #column을 기준으로 정렬, 알파벳 순서"
   ]
  },
  {
   "cell_type": "code",
   "execution_count": 61,
   "id": "c85a8cc5",
   "metadata": {},
   "outputs": [
    {
     "data": {
      "text/html": [
       "<div>\n",
       "<style scoped>\n",
       "    .dataframe tbody tr th:only-of-type {\n",
       "        vertical-align: middle;\n",
       "    }\n",
       "\n",
       "    .dataframe tbody tr th {\n",
       "        vertical-align: top;\n",
       "    }\n",
       "\n",
       "    .dataframe thead th {\n",
       "        text-align: right;\n",
       "    }\n",
       "</style>\n",
       "<table border=\"1\" class=\"dataframe\">\n",
       "  <thead>\n",
       "    <tr style=\"text-align: right;\">\n",
       "      <th></th>\n",
       "      <th>Kim</th>\n",
       "      <th>Kwon</th>\n",
       "      <th>Park</th>\n",
       "      <th>Sam</th>\n",
       "      <th>Lee</th>\n",
       "    </tr>\n",
       "  </thead>\n",
       "  <tbody>\n",
       "    <tr>\n",
       "      <th>Math</th>\n",
       "      <td>87</td>\n",
       "      <td>100</td>\n",
       "      <td>100</td>\n",
       "      <td>94</td>\n",
       "      <td>83</td>\n",
       "    </tr>\n",
       "    <tr>\n",
       "      <th>Econ</th>\n",
       "      <td>96</td>\n",
       "      <td>90</td>\n",
       "      <td>87</td>\n",
       "      <td>77</td>\n",
       "      <td>65</td>\n",
       "    </tr>\n",
       "    <tr>\n",
       "      <th>Physics</th>\n",
       "      <td>70</td>\n",
       "      <td>95</td>\n",
       "      <td>90</td>\n",
       "      <td>90</td>\n",
       "      <td>85</td>\n",
       "    </tr>\n",
       "  </tbody>\n",
       "</table>\n",
       "</div>"
      ],
      "text/plain": [
       "         Kim  Kwon  Park  Sam  Lee\n",
       "Math      87   100   100   94   83\n",
       "Econ      96    90    87   77   65\n",
       "Physics   70    95    90   90   85"
      ]
     },
     "execution_count": 61,
     "metadata": {},
     "output_type": "execute_result"
    }
   ],
   "source": [
    "scores_df.sort_values(by = 'Econ', axis=1, ascending = False)\n",
    "#경제학 순서대로 정렬(내림차순)"
   ]
  },
  {
   "cell_type": "code",
   "execution_count": 63,
   "id": "837f16eb",
   "metadata": {},
   "outputs": [
    {
     "data": {
      "text/html": [
       "<div>\n",
       "<style scoped>\n",
       "    .dataframe tbody tr th:only-of-type {\n",
       "        vertical-align: middle;\n",
       "    }\n",
       "\n",
       "    .dataframe tbody tr th {\n",
       "        vertical-align: top;\n",
       "    }\n",
       "\n",
       "    .dataframe thead th {\n",
       "        text-align: right;\n",
       "    }\n",
       "</style>\n",
       "<table border=\"1\" class=\"dataframe\">\n",
       "  <thead>\n",
       "    <tr style=\"text-align: right;\">\n",
       "      <th></th>\n",
       "      <th>Math</th>\n",
       "      <th>Econ</th>\n",
       "      <th>Physics</th>\n",
       "    </tr>\n",
       "  </thead>\n",
       "  <tbody>\n",
       "    <tr>\n",
       "      <th>Kim</th>\n",
       "      <td>87</td>\n",
       "      <td>96</td>\n",
       "      <td>70</td>\n",
       "    </tr>\n",
       "    <tr>\n",
       "      <th>Kwon</th>\n",
       "      <td>100</td>\n",
       "      <td>90</td>\n",
       "      <td>95</td>\n",
       "    </tr>\n",
       "    <tr>\n",
       "      <th>Park</th>\n",
       "      <td>100</td>\n",
       "      <td>87</td>\n",
       "      <td>90</td>\n",
       "    </tr>\n",
       "    <tr>\n",
       "      <th>Sam</th>\n",
       "      <td>94</td>\n",
       "      <td>77</td>\n",
       "      <td>90</td>\n",
       "    </tr>\n",
       "    <tr>\n",
       "      <th>Lee</th>\n",
       "      <td>83</td>\n",
       "      <td>65</td>\n",
       "      <td>85</td>\n",
       "    </tr>\n",
       "  </tbody>\n",
       "</table>\n",
       "</div>"
      ],
      "text/plain": [
       "      Math  Econ  Physics\n",
       "Kim     87    96       70\n",
       "Kwon   100    90       95\n",
       "Park   100    87       90\n",
       "Sam     94    77       90\n",
       "Lee     83    65       85"
      ]
     },
     "execution_count": 63,
     "metadata": {},
     "output_type": "execute_result"
    }
   ],
   "source": [
    "scores_df.T.sort_values(by = 'Econ', ascending = False)\n",
    "#트랜스포즈하여 경제학 순서대로 정렬"
   ]
  },
  {
   "cell_type": "markdown",
   "id": "fef5b544",
   "metadata": {},
   "source": [
    "__8. Pandas : One hot vector__\n",
    "- 여러가지 그룹데이터에서 그룹별로 더미(가변수)를 주는 것\n",
    "- 머신러닝/딥러닝에서 많이 쓰는 아이리스데이터(세토사, 퍼스트컬러 등)에서 분류를 할 때, 이름으로 들어간 경우 처리가 될 때(가변수로 처리)/안될 떄가 있다. 그 때 임의로 그룹인덱스를 구분할 때, 순서/가치판단이 아닌 단순 구분을 위함\n",
    "- 그리하여 여러 개의 칼럼을 갖는 벡터를 만들어 순서를 주지 않은 채로 0과 1로만 구성된 벡터를 만드는데, 그게 바로 원 핫 벡터이다\n",
    "- 왜 원핫벡터? 뉴런이 빤짝!"
   ]
  },
  {
   "cell_type": "code",
   "execution_count": 79,
   "id": "b1cba9cf",
   "metadata": {},
   "outputs": [
    {
     "name": "stdout",
     "output_type": "stream",
     "text": [
      "    Year  Rank   Maker\n",
      "0   1990     0  Hundai\n",
      "1   1991     1   Honda\n",
      "2   1992     2     Kia\n",
      "3   1993     3    Audi\n",
      "4   1994     4    Benz\n",
      "5   1995     5  Hundai\n",
      "6   1996     6    Benz\n",
      "7   1997     7    Audi\n",
      "8   1998     8  Hundai\n",
      "9   1999     9     Kia\n",
      "10  2000    10   Honda\n",
      "11  2001    11     Kia\n",
      "12  2002    12    Audi\n",
      "13  2003    13  Hundai\n",
      "14  2004    14    Benz\n"
     ]
    }
   ],
   "source": [
    "auto_firms = ['Hundai','Honda','Kia','Audi','Benz','Hundai','Benz','Audi','Hundai',\n",
    "              'Kia','Honda','Kia','Audi','Hundai','Benz']\n",
    "Year = list(range(1990,2005,1)); Rank = list(range(15))\n",
    "auto_df = pd.DataFrame({'Year':Year, 'Rank':Rank, 'Maker':auto_firms})\n",
    "print(auto_df)"
   ]
  },
  {
   "cell_type": "code",
   "execution_count": 80,
   "id": "f6f4a57f",
   "metadata": {},
   "outputs": [
    {
     "name": "stdout",
     "output_type": "stream",
     "text": [
      "    Audi  Benz  Honda  Hundai  Kia\n",
      "0      0     0      0       1    0\n",
      "1      0     0      1       0    0\n",
      "2      0     0      0       0    1\n",
      "3      1     0      0       0    0\n",
      "4      0     1      0       0    0\n",
      "5      0     0      0       1    0\n",
      "6      0     1      0       0    0\n",
      "7      1     0      0       0    0\n",
      "8      0     0      0       1    0\n",
      "9      0     0      0       0    1\n",
      "10     0     0      1       0    0\n",
      "11     0     0      0       0    1\n",
      "12     1     0      0       0    0\n",
      "13     0     0      0       1    0\n",
      "14     0     1      0       0    0\n"
     ]
    }
   ],
   "source": [
    "am_onehot = pd.get_dummies(auto_df['Maker'])\n",
    "#get_dummies == 가장 편하게 더미변수로 변화하는 방법!\n",
    "print(am_onehot)"
   ]
  },
  {
   "cell_type": "markdown",
   "id": "7c7b8a06",
   "metadata": {},
   "source": [
    "## 10주차 퀴즈"
   ]
  },
  {
   "cell_type": "code",
   "execution_count": 93,
   "id": "674a8f2d",
   "metadata": {},
   "outputs": [
    {
     "data": {
      "text/plain": [
       "Korea    82\n",
       "Japan    81\n",
       "China    cn\n",
       "dtype: object"
      ]
     },
     "execution_count": 93,
     "metadata": {},
     "output_type": "execute_result"
    }
   ],
   "source": [
    "A = pd.Series({'Korea':82,'Japan':81,'China':'cn'})\n",
    "A"
   ]
  },
  {
   "cell_type": "code",
   "execution_count": 85,
   "id": "b3a4692f",
   "metadata": {},
   "outputs": [
    {
     "name": "stdout",
     "output_type": "stream",
     "text": [
      "82\n"
     ]
    }
   ],
   "source": [
    "print(A['Korea'])"
   ]
  },
  {
   "cell_type": "code",
   "execution_count": 100,
   "id": "31a113cc",
   "metadata": {},
   "outputs": [
    {
     "data": {
      "text/plain": [
       "82"
      ]
     },
     "execution_count": 100,
     "metadata": {},
     "output_type": "execute_result"
    }
   ],
   "source": [
    "A.iloc[0]"
   ]
  },
  {
   "cell_type": "code",
   "execution_count": 91,
   "id": "33971854",
   "metadata": {},
   "outputs": [],
   "source": [
    "B = pd.DataFrame(A, columns = ['nation'])"
   ]
  },
  {
   "cell_type": "code",
   "execution_count": 96,
   "id": "8374dddb",
   "metadata": {},
   "outputs": [
    {
     "data": {
      "text/plain": [
       "nation    82\n",
       "Name: Korea, dtype: object"
      ]
     },
     "execution_count": 96,
     "metadata": {},
     "output_type": "execute_result"
    }
   ],
   "source": [
    "B.iloc[0]"
   ]
  },
  {
   "cell_type": "code",
   "execution_count": 101,
   "id": "a736e1e4",
   "metadata": {},
   "outputs": [],
   "source": [
    "stemps = pd.DataFrame({'Spring':[10,14,18],'Summer':[24,27,30],'\\\n",
    "Fall':[24,21,18],'Winter':[8,0,-5]})"
   ]
  },
  {
   "cell_type": "code",
   "execution_count": 110,
   "id": "c2bdad2b",
   "metadata": {},
   "outputs": [
    {
     "data": {
      "text/html": [
       "<div>\n",
       "<style scoped>\n",
       "    .dataframe tbody tr th:only-of-type {\n",
       "        vertical-align: middle;\n",
       "    }\n",
       "\n",
       "    .dataframe tbody tr th {\n",
       "        vertical-align: top;\n",
       "    }\n",
       "\n",
       "    .dataframe thead th {\n",
       "        text-align: right;\n",
       "    }\n",
       "</style>\n",
       "<table border=\"1\" class=\"dataframe\">\n",
       "  <thead>\n",
       "    <tr style=\"text-align: right;\">\n",
       "      <th></th>\n",
       "      <th>Spring</th>\n",
       "      <th>Summer</th>\n",
       "      <th>Fall</th>\n",
       "      <th>Winter</th>\n",
       "    </tr>\n",
       "  </thead>\n",
       "  <tbody>\n",
       "    <tr>\n",
       "      <th>a</th>\n",
       "      <td>10</td>\n",
       "      <td>24</td>\n",
       "      <td>24</td>\n",
       "      <td>8</td>\n",
       "    </tr>\n",
       "    <tr>\n",
       "      <th>b</th>\n",
       "      <td>14</td>\n",
       "      <td>27</td>\n",
       "      <td>21</td>\n",
       "      <td>0</td>\n",
       "    </tr>\n",
       "    <tr>\n",
       "      <th>c</th>\n",
       "      <td>18</td>\n",
       "      <td>30</td>\n",
       "      <td>18</td>\n",
       "      <td>-5</td>\n",
       "    </tr>\n",
       "  </tbody>\n",
       "</table>\n",
       "</div>"
      ],
      "text/plain": [
       "   Spring  Summer  Fall  Winter\n",
       "a      10      24    24       8\n",
       "b      14      27    21       0\n",
       "c      18      30    18      -5"
      ]
     },
     "execution_count": 110,
     "metadata": {},
     "output_type": "execute_result"
    }
   ],
   "source": [
    "stemps.index= ['a','b','c']\n",
    "stemps"
   ]
  },
  {
   "cell_type": "code",
   "execution_count": 111,
   "id": "13e2fab8",
   "metadata": {},
   "outputs": [
    {
     "data": {
      "text/plain": [
       "0"
      ]
     },
     "execution_count": 111,
     "metadata": {},
     "output_type": "execute_result"
    }
   ],
   "source": [
    "stemps.iat[1,3]"
   ]
  },
  {
   "cell_type": "code",
   "execution_count": 112,
   "id": "501666e4",
   "metadata": {},
   "outputs": [
    {
     "data": {
      "text/html": [
       "<div>\n",
       "<style scoped>\n",
       "    .dataframe tbody tr th:only-of-type {\n",
       "        vertical-align: middle;\n",
       "    }\n",
       "\n",
       "    .dataframe tbody tr th {\n",
       "        vertical-align: top;\n",
       "    }\n",
       "\n",
       "    .dataframe thead th {\n",
       "        text-align: right;\n",
       "    }\n",
       "</style>\n",
       "<table border=\"1\" class=\"dataframe\">\n",
       "  <thead>\n",
       "    <tr style=\"text-align: right;\">\n",
       "      <th></th>\n",
       "      <th>Spring</th>\n",
       "      <th>Summer</th>\n",
       "      <th>Fall</th>\n",
       "      <th>Winter</th>\n",
       "    </tr>\n",
       "  </thead>\n",
       "  <tbody>\n",
       "    <tr>\n",
       "      <th>c</th>\n",
       "      <td>18</td>\n",
       "      <td>30</td>\n",
       "      <td>18</td>\n",
       "      <td>-5</td>\n",
       "    </tr>\n",
       "    <tr>\n",
       "      <th>b</th>\n",
       "      <td>14</td>\n",
       "      <td>27</td>\n",
       "      <td>21</td>\n",
       "      <td>0</td>\n",
       "    </tr>\n",
       "    <tr>\n",
       "      <th>a</th>\n",
       "      <td>10</td>\n",
       "      <td>24</td>\n",
       "      <td>24</td>\n",
       "      <td>8</td>\n",
       "    </tr>\n",
       "  </tbody>\n",
       "</table>\n",
       "</div>"
      ],
      "text/plain": [
       "   Spring  Summer  Fall  Winter\n",
       "c      18      30    18      -5\n",
       "b      14      27    21       0\n",
       "a      10      24    24       8"
      ]
     },
     "execution_count": 112,
     "metadata": {},
     "output_type": "execute_result"
    }
   ],
   "source": [
    "stemps.sort_index(ascending=False)"
   ]
  },
  {
   "cell_type": "code",
   "execution_count": 113,
   "id": "53d462ed",
   "metadata": {},
   "outputs": [
    {
     "data": {
      "text/html": [
       "<div>\n",
       "<style scoped>\n",
       "    .dataframe tbody tr th:only-of-type {\n",
       "        vertical-align: middle;\n",
       "    }\n",
       "\n",
       "    .dataframe tbody tr th {\n",
       "        vertical-align: top;\n",
       "    }\n",
       "\n",
       "    .dataframe thead th {\n",
       "        text-align: right;\n",
       "    }\n",
       "</style>\n",
       "<table border=\"1\" class=\"dataframe\">\n",
       "  <thead>\n",
       "    <tr style=\"text-align: right;\">\n",
       "      <th></th>\n",
       "      <th>count</th>\n",
       "      <th>mean</th>\n",
       "      <th>std</th>\n",
       "      <th>min</th>\n",
       "      <th>25%</th>\n",
       "      <th>50%</th>\n",
       "      <th>75%</th>\n",
       "      <th>max</th>\n",
       "    </tr>\n",
       "  </thead>\n",
       "  <tbody>\n",
       "    <tr>\n",
       "      <th>Spring</th>\n",
       "      <td>3.0</td>\n",
       "      <td>14.0</td>\n",
       "      <td>4.000</td>\n",
       "      <td>10.0</td>\n",
       "      <td>12.0</td>\n",
       "      <td>14.0</td>\n",
       "      <td>16.0</td>\n",
       "      <td>18.0</td>\n",
       "    </tr>\n",
       "    <tr>\n",
       "      <th>Summer</th>\n",
       "      <td>3.0</td>\n",
       "      <td>27.0</td>\n",
       "      <td>3.000</td>\n",
       "      <td>24.0</td>\n",
       "      <td>25.5</td>\n",
       "      <td>27.0</td>\n",
       "      <td>28.5</td>\n",
       "      <td>30.0</td>\n",
       "    </tr>\n",
       "    <tr>\n",
       "      <th>Fall</th>\n",
       "      <td>3.0</td>\n",
       "      <td>21.0</td>\n",
       "      <td>3.000</td>\n",
       "      <td>18.0</td>\n",
       "      <td>19.5</td>\n",
       "      <td>21.0</td>\n",
       "      <td>22.5</td>\n",
       "      <td>24.0</td>\n",
       "    </tr>\n",
       "    <tr>\n",
       "      <th>Winter</th>\n",
       "      <td>3.0</td>\n",
       "      <td>1.0</td>\n",
       "      <td>6.557</td>\n",
       "      <td>-5.0</td>\n",
       "      <td>-2.5</td>\n",
       "      <td>0.0</td>\n",
       "      <td>4.0</td>\n",
       "      <td>8.0</td>\n",
       "    </tr>\n",
       "  </tbody>\n",
       "</table>\n",
       "</div>"
      ],
      "text/plain": [
       "        count  mean    std   min   25%   50%   75%   max\n",
       "Spring    3.0  14.0  4.000  10.0  12.0  14.0  16.0  18.0\n",
       "Summer    3.0  27.0  3.000  24.0  25.5  27.0  28.5  30.0\n",
       "Fall      3.0  21.0  3.000  18.0  19.5  21.0  22.5  24.0\n",
       "Winter    3.0   1.0  6.557  -5.0  -2.5   0.0   4.0   8.0"
      ]
     },
     "execution_count": 113,
     "metadata": {},
     "output_type": "execute_result"
    }
   ],
   "source": [
    "stemps.describe().T"
   ]
  },
  {
   "cell_type": "code",
   "execution_count": 114,
   "id": "348ac023",
   "metadata": {},
   "outputs": [
    {
     "data": {
      "text/plain": [
       "Spring    14.0\n",
       "Summer    27.0\n",
       "Fall      21.0\n",
       "Winter     1.0\n",
       "dtype: float64"
      ]
     },
     "execution_count": 114,
     "metadata": {},
     "output_type": "execute_result"
    }
   ],
   "source": [
    "stemps.mean()"
   ]
  },
  {
   "cell_type": "code",
   "execution_count": 118,
   "id": "f4b9daa4",
   "metadata": {},
   "outputs": [
    {
     "data": {
      "text/html": [
       "<div>\n",
       "<style scoped>\n",
       "    .dataframe tbody tr th:only-of-type {\n",
       "        vertical-align: middle;\n",
       "    }\n",
       "\n",
       "    .dataframe tbody tr th {\n",
       "        vertical-align: top;\n",
       "    }\n",
       "\n",
       "    .dataframe thead th {\n",
       "        text-align: right;\n",
       "    }\n",
       "</style>\n",
       "<table border=\"1\" class=\"dataframe\">\n",
       "  <thead>\n",
       "    <tr style=\"text-align: right;\">\n",
       "      <th></th>\n",
       "      <th>Spring</th>\n",
       "      <th>Summer</th>\n",
       "      <th>Fall</th>\n",
       "      <th>Winter</th>\n",
       "    </tr>\n",
       "  </thead>\n",
       "  <tbody>\n",
       "    <tr>\n",
       "      <th>a</th>\n",
       "      <td>10</td>\n",
       "      <td>24</td>\n",
       "      <td>24</td>\n",
       "      <td>8</td>\n",
       "    </tr>\n",
       "    <tr>\n",
       "      <th>b</th>\n",
       "      <td>14</td>\n",
       "      <td>27</td>\n",
       "      <td>21</td>\n",
       "      <td>0</td>\n",
       "    </tr>\n",
       "    <tr>\n",
       "      <th>c</th>\n",
       "      <td>18</td>\n",
       "      <td>30</td>\n",
       "      <td>18</td>\n",
       "      <td>-5</td>\n",
       "    </tr>\n",
       "  </tbody>\n",
       "</table>\n",
       "</div>"
      ],
      "text/plain": [
       "   Spring  Summer  Fall  Winter\n",
       "a      10      24    24       8\n",
       "b      14      27    21       0\n",
       "c      18      30    18      -5"
      ]
     },
     "execution_count": 118,
     "metadata": {},
     "output_type": "execute_result"
    }
   ],
   "source": [
    "stemps.sort_index()"
   ]
  },
  {
   "cell_type": "markdown",
   "id": "7d91b31f",
   "metadata": {},
   "source": [
    "1. indexing이 list처럼 숫자로만 이루어지지는 않는다!!!!!\n",
    "2. Dictionary 형태로 Series를 만들 때 key는 열x 행 index가 된다\n",
    "4. Series에서는 DataFrame에서와 달리 list에서 사용한 indexing방법을 사용할 수 있다"
   ]
  }
 ],
 "metadata": {
  "kernelspec": {
   "display_name": "Python 3",
   "language": "python",
   "name": "python3"
  },
  "language_info": {
   "codemirror_mode": {
    "name": "ipython",
    "version": 3
   },
   "file_extension": ".py",
   "mimetype": "text/x-python",
   "name": "python",
   "nbconvert_exporter": "python",
   "pygments_lexer": "ipython3",
   "version": "3.8.8"
  }
 },
 "nbformat": 4,
 "nbformat_minor": 5
}
